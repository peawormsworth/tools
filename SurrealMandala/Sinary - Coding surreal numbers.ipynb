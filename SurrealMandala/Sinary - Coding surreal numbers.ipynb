{
 "cells": [
  {
   "cell_type": "markdown",
   "metadata": {},
   "source": [
    "## Sinary - Coding Surreal Numbers\n",
    "This project demonstrates the relations between Sinary and surreal numbers. \n",
    "\n",
    "Code in this report requires these standard python libraries:"
   ]
  },
  {
   "cell_type": "code",
   "execution_count": 2,
   "metadata": {
    "collapsed": false
   },
   "outputs": [],
   "source": [
    "from math      import floor,log2\n",
    "from random    import randint\n",
    "from fractions import Fraction\n",
    "import re"
   ]
  },
  {
   "cell_type": "markdown",
   "metadata": {},
   "source": [
    "### Surreal numeric value list generator\n",
    "The Surreal numbers are born in a particular order.\n",
    "label_maker() returns the numeric value of this ordering.\n",
    "In label_maker() the first returned value is the 0th surreal and it is Nan (None)."
   ]
  },
  {
   "cell_type": "code",
   "execution_count": 20,
   "metadata": {
    "collapsed": false
   },
   "outputs": [],
   "source": [
    "def label_maker (r=[Fraction(0,1)]):\n",
    "    \"\"\"yeilds fractions according to sureal birthday ordering.\n",
    "    Nan,0,-1,1,-2,-1/2,1/2,2,-3...\n",
    "    \"\"\"\n",
    "    yield None\n",
    "    yield r[0]\n",
    "    while 1:\n",
    "        yield r[0] - 1\n",
    "        rn = [r[0]]\n",
    "        for n in r[1:]:\n",
    "            m = (rn[-1]+n)/2\n",
    "            yield m\n",
    "            rn.extend((m,n))\n",
    "        yield rn[-1]+1\n",
    "        r = [rn[0]-1] + rn + [rn[-1]+1]\n",
    "\n",
    "def labels(n):\n",
    "    \"\"\"returns label_maker() generator as a list to n\"\"\"\n",
    "    l = label_maker()\n",
    "    return [ next(l) for i in range(n) ]"
   ]
  },
  {
   "cell_type": "markdown",
   "metadata": {},
   "source": [
    "label_maker() generates an ordered list..."
   ]
  },
  {
   "cell_type": "code",
   "execution_count": 4,
   "metadata": {
    "collapsed": false
   },
   "outputs": [
    {
     "name": "stdout",
     "output_type": "stream",
     "text": [
      "Order   Value\n",
      "=====   =====\n",
      "  0      None\n",
      "  1      0\n",
      "  2      -1\n",
      "  3      1\n",
      "  4      -2\n",
      "  5      -1/2\n",
      "  6      1/2\n",
      "  7      2\n",
      "  8      -3\n",
      "  9      -3/2\n",
      " 10      -3/4\n",
      " 11      -1/4\n",
      " 12      1/4\n",
      " 13      3/4\n",
      " 14      3/2\n",
      " 15      3\n"
     ]
    }
   ],
   "source": [
    "birth = label_maker()\n",
    "print('Order   Value')\n",
    "print('=====   =====')\n",
    "for i in range(16):\n",
    "    print(' {:2}      {}'.format(i,next(birth)))"
   ]
  },
  {
   "cell_type": "markdown",
   "metadata": {},
   "source": [
    "The label_maker() code maintains a growning list of numbers in order to produce the next value. This makes is slow and computationaly expensive to find the numberic label of surreal numbers with a large birth day. It is more efficient to generate the label number directly from the order number."
   ]
  },
  {
   "cell_type": "markdown",
   "metadata": {},
   "source": [
    "### Surreal order to numberic value\n",
    "This code generates a list of numeric values following surreal birth order"
   ]
  },
  {
   "cell_type": "code",
   "execution_count": 5,
   "metadata": {
    "collapsed": false
   },
   "outputs": [],
   "source": [
    "def label (x):\n",
    "    \"\"\"return the numeric value of this sinary as a fraction\"\"\"\n",
    "\n",
    "    if x == 0:\n",
    "        return None\n",
    "    if x == 1:\n",
    "        return Fraction(0)\n",
    "    b = bin(x)[2:]\n",
    "    s = b[1]\n",
    "    wf = re.compile(r'^.({}+)(.*)$'.format(s))\n",
    "    w,f = wf.findall(b)[0]\n",
    "    p = 1 if s == '1' else -1\n",
    "    n = p * Fraction(len(w),1)\n",
    "    scale = Fraction(1,1)\n",
    "    while len(f):\n",
    "        scale /= 2\n",
    "        if f[0] == '1':\n",
    "            n +=  scale\n",
    "        else:\n",
    "            n += -scale\n",
    "        f = f[1:]\n",
    "    return n"
   ]
  },
  {
   "cell_type": "markdown",
   "metadata": {},
   "source": [
    "Demonstation of surreal numeric values (labels) given random surreal order numbers..."
   ]
  },
  {
   "cell_type": "code",
   "execution_count": 6,
   "metadata": {
    "collapsed": false
   },
   "outputs": [
    {
     "name": "stdout",
     "output_type": "stream",
     "text": [
      "The 4305th surreal has a value of   -861/256\n",
      "The 5299th surreal has a value of -1689/2048\n",
      "The  860th surreal has a value of    185/256\n",
      "The  748th surreal has a value of    -39/256\n",
      "The 6226th surreal has a value of   165/2048\n",
      "The 6356th surreal has a value of   425/2048\n",
      "The  354th surreal has a value of    -59/128\n",
      "The  821th surreal has a value of    107/256\n",
      "The 9218th surreal has a value of -4091/2048\n",
      "The 4003th surreal has a value of    455/128\n"
     ]
    }
   ],
   "source": [
    "for i in range(10):\n",
    "    n = randint(1,10000)\n",
    "    print('The {:>4}th surreal has a value of {:>10}'.format(n,str(label(n))))"
   ]
  },
  {
   "cell_type": "markdown",
   "metadata": {},
   "source": [
    "### Numberic value to surreal birth order\n",
    "\n",
    "Processes for the creation of numeric values in birth order and numeric values of a given birth number are given above. But also the birth number can be determined from any given finite signed binary value.\n",
    "\n",
    "Given an number as a dyadic, this formula calculates the matching surreal number birth order (n)"
   ]
  },
  {
   "cell_type": "markdown",
   "metadata": {},
   "source": [
    "$$\\large n=\\frac{2^{l}\\left ( s\\left ( \\frac{\\frac{f}{2}-1}{2^{w}}+1 \\right )+3 \\right )-1}{2}$$"
   ]
  },
  {
   "cell_type": "markdown",
   "metadata": {},
   "source": [
    "    Where:\n",
    "\n",
    "    n = the nth surreal number having a label d\n",
    "    d = a positive or negative dyadic fraction, having form: s(w+f)\n",
    "    s = sign of d\n",
    "    w = whole part of d\n",
    "    f = fractional part of d\n",
    "    l = length of register to contain n"
   ]
  },
  {
   "cell_type": "markdown",
   "metadata": {},
   "source": [
    "### Equivalence Equation\n",
    "This formula shows the equivelence between surreal birth order and its numeric value (mod 2):"
   ]
  },
  {
   "cell_type": "markdown",
   "metadata": {},
   "source": [
    "$$\\large \\frac{2×order+1}{2^{bits}}-2 = sign \\left( \\frac{fraction - 2}{2^{whole + 1}}+1 \\right) +1$$\n",
    "\n",
    "$$\\large \\frac{2n+1}{2^{b}}-2 = s \\left( \\frac{f-2}{2^{w+1}}+1 \\right) +1$$\n",
    "\n",
    "    where:\n",
    "    \n",
    "    given: any surreal birth ordered number having a dyadic numberic value...\n",
    "\n",
    "    n = order    = surreal birth order\n",
    "    b = bits     = binary register size of order\n",
    "    s = sign     = sign of the value\n",
    "    f = fraction = fractional portion of the value\n",
    "    w = whole    = whole portion of the value"
   ]
  },
  {
   "cell_type": "markdown",
   "metadata": {},
   "source": [
    "### Equivelance code\n",
    "This routine verifies the equivelence..."
   ]
  },
  {
   "cell_type": "code",
   "execution_count": 7,
   "metadata": {
    "collapsed": true
   },
   "outputs": [],
   "source": [
    "def left_equality(n,b):\n",
    "    return (2*n+1)/2**b-2\n",
    "\n",
    "def right_equality(s,w,f):\n",
    "    return s*((f/2-1)/2**w+1)+1\n",
    "\n",
    "def equality(t,s,x,m):\n",
    "    return s*((2**t*m+t)/(2**x)+1)-2*t-1\n",
    "\n",
    "def generic_left_equality(n,b):\n",
    "    return equality(+1,+1,b,n)\n",
    "\n",
    "def generic_right_equality(s,w,f):\n",
    "    return equality(-1,s,w,f)"
   ]
  },
  {
   "cell_type": "markdown",
   "metadata": {},
   "source": [
    "The left_equality() and right_equality() routines match the above formula.\n",
    "\n",
    "The equality() and generic_X() routines demonstrate the symmetric nature of the equality formula. The symmetry shows that the two sides of the equation are evaluate in the same manner with only input values as diffrentiators. The side parameter is defined as the unit negation of the other.\n",
    "\n",
    "This code evaulates the two sides of the equality for given surreal number births and values..."
   ]
  },
  {
   "cell_type": "code",
   "execution_count": 8,
   "metadata": {
    "collapsed": false
   },
   "outputs": [
    {
     "name": "stdout",
     "output_type": "stream",
     "text": [
      "\n",
      "                                     Left Equality   Right Equality\n",
      " Given the  1th sureal is    0    =>      1.0               1\n",
      " Given the  2th sureal is   -1    =>      0.5               1/2\n",
      " Given the  3th sureal is    1    =>      1.5               3/2\n",
      " Given the  4th sureal is   -2    =>     0.25               1/4\n",
      " Given the  5th sureal is -1/2    =>     0.75               3/4\n",
      " Given the  6th sureal is  1/2    =>     1.25               5/4\n",
      " Given the  7th sureal is    2    =>     1.75               7/4\n",
      " Given the  8th sureal is   -3    =>    0.125               1/8\n",
      " Given the  9th sureal is -3/2    =>    0.375               3/8\n",
      " Given the 10th sureal is -3/4    =>    0.625               5/8\n",
      " Given the 11th sureal is -1/4    =>    0.875               7/8\n",
      " Given the 12th sureal is  1/4    =>    1.125               9/8\n",
      " Given the 13th sureal is  3/4    =>    1.375               11/8\n",
      " Given the 14th sureal is  3/2    =>    1.625               13/8\n",
      " Given the 15th sureal is    3    =>    1.875               15/8\n",
      "\n",
      "success: all of the above is True\n"
     ]
    }
   ],
   "source": [
    "in_sequence = label_maker()\n",
    "print('\\n                                     Left Equality   Right Equality')\n",
    "for n in range(2**4):\n",
    "    d = next(in_sequence)\n",
    "    if d is None: continue\n",
    "    b = n and floor(log2(n))\n",
    "    a = abs(d)\n",
    "    s = d and a/d\n",
    "    w = floor(a)\n",
    "    f = a - w\n",
    "    print(' Given the{:3}th sureal is {:>4}    =>   {:>6}               {}'.format(n,str(d),left_equality(n,b),right_equality(s,w,f)))\n",
    "    assert(left_equality(n,b)==right_equality(s,w,f))\n",
    "    assert(generic_left_equality(n,b)==generic_right_equality(s,w,f))\n",
    "    assert(equality(+1,+1,b,n)==equality(-1,s,w,f))\n",
    "print(\"\\nsuccess: all of the above is True\")"
   ]
  },
  {
   "cell_type": "markdown",
   "metadata": {},
   "source": [
    "### Equivelence Graph\n",
    "The graph below displays the left side of the equivalence equation in black and the right side of the equaltion in green.\n",
    "The black line has Integer input and it is only valid at whole number values.\n",
    "The green line has real continuous input.\n",
    "\n",
    "<img src=\"images/graph.jpg\" width=\"800\">\n",
    "The graph shows the results for the first few surreal inputs. The dark dots are birth order numbers. Green dots are dyadic rational surreal values.\n",
    "<img src=\"images/graph2.jpg\" width=\"800\">\n",
    "The birth order and numeric value of surreal numbers are not in the same order, so they can not be displayed over top of each other directly. However, the graph shows their equality in height. They are equal when their different inputs result in equal outputs. Remember that the green line is continuous (dyadics), but the dark line is only valid at the integer points. When the green line drops, the value appears at the bottom of the dip.\n",
    "\n",
    "\n",
    "The height of the dark dots will be equal to some green dot on the green line.\n",
    "The green dot on the green line is the dyatic value. That dyatic will be the value of the surreal number which is read off the y-axis.\n",
    "<img src=\"images/graph4.jpg\" width=\"800\">"
   ]
  },
  {
   "cell_type": "markdown",
   "metadata": {},
   "source": [
    "### Surreal order and numeric value points on a circle\n",
    "The equality values are unique in a range of 2. These values can be plotted onto the circle with its imaginary pi product raised to the natural exponent.\n",
    "\n",
    "This allows the rotational constants to be removed and makes for a real sweet equation..."
   ]
  },
  {
   "cell_type": "markdown",
   "metadata": {},
   "source": [
    "$$\\large e^{\\pi i \\times \\frac{2×order+1}{2^{bits}}} = e^{\\pi i \\times sign \\frac{ fraction/2 - 1}{2^{whole}}}$$\n",
    "\n",
    "$$\\large e^{\\pi i \\frac{2n+1}{2^{b}}} = e^{\\pi i s \\frac{f/2-1}{2^{w}}}$$"
   ]
  },
  {
   "cell_type": "markdown",
   "metadata": {},
   "source": [
    "<img src=\"images/birth1-sm.jpg\" width=\"600\">\n",
    "<img src=\"images/birth2-sm.jpg\" width=\"600\">\n",
    "<img src=\"images/birth3-sm.jpg\" width=\"600\">\n"
   ]
  },
  {
   "cell_type": "markdown",
   "metadata": {},
   "source": [
    "## Sinary Numbers\n",
    "Sinary numbers ARE the birth order number of Surreal Numbers.\n",
    "\n",
    "The last sentence is very important and you should read it again. Because it says:\n",
    "\n",
    "SINARY = SURREAL BIRTH NUMBER\n",
    "\n",
    "The capitalization means it is an important fact that took some consideration to appreciate. This fact was not mentioned in any text or online where I could find it. The essence of this statement says that all surreal numbers have a particular numeric order in which they were born which has a binary representation that can be manipulated directly according to the mathematical operation rules provided by John Conway.\n",
    "\n",
    "Since I could not find a specific mention of handling binary surreal birth order numbers as a unique bit format, I named them \"Sinary\".\n",
    "\n",
    "With that powerful idea, there are several simple routines for manipulating sinary numbers in a surreal manner."
   ]
  },
  {
   "cell_type": "markdown",
   "metadata": {},
   "source": [
    "### Sinary value\n",
    "A sinary number is the binary representation of its surreal birth order. Since the binary number evalues to the birth order on a computer (numbers are binary representations in a computer), the value of a sinary is determined using the label() routine."
   ]
  },
  {
   "cell_type": "code",
   "execution_count": 9,
   "metadata": {
    "collapsed": false
   },
   "outputs": [
    {
     "name": "stdout",
     "output_type": "stream",
     "text": [
      "The Sinary 6334 has a value of   381/2048\n",
      "The Sinary 9400 has a value of -3727/2048\n",
      "The Sinary 6782 has a value of  1277/2048\n",
      "The Sinary 3191 has a value of   239/1024\n",
      "The Sinary 6415 has a value of   543/2048\n",
      "The Sinary 5015 has a value of -1233/1024\n",
      "The Sinary 6060 has a value of  -167/2048\n"
     ]
    }
   ],
   "source": [
    "for i in range(7):\n",
    "    sinary = randint(1,10000)\n",
    "    print('The Sinary {:>4} has a value of {:>10}'.format(sinary,str(label(sinary))))"
   ]
  },
  {
   "cell_type": "markdown",
   "metadata": {},
   "source": [
    "### Left and Right sides of a Sinary\n",
    "The left and right side of a sinary are easily determined as reduced copies of the original sinary."
   ]
  },
  {
   "cell_type": "code",
   "execution_count": 35,
   "metadata": {
    "collapsed": true
   },
   "outputs": [],
   "source": [
    "def side(s,f):\n",
    "\n",
    "    \"returns the lessor side of s\"\n",
    "    if s in (0,1) and f is 1:\n",
    "        return 0\n",
    "    while s % 2 != f:\n",
    "        s //= 2\n",
    "    return s//2\n",
    "\n",
    "def split(s):\n",
    "    \"list of the lessor and greater split of s\"\n",
    "\n",
    "    return side(s,1), side(s,0)"
   ]
  },
  {
   "cell_type": "markdown",
   "metadata": {},
   "source": [
    "side() is a generic function which will return the left (f=1) or right (f=0) side of the given sinary.\n",
    "\n",
    "split() returns both the left and right side of a given sinary value.\n",
    "\n",
    "The code below displays the left and right sinaries of the first few sinaries..."
   ]
  },
  {
   "cell_type": "code",
   "execution_count": 36,
   "metadata": {
    "collapsed": false
   },
   "outputs": [
    {
     "name": "stdout",
     "output_type": "stream",
     "text": [
      "0 (0, 0)\n",
      "1 (0, 0)\n",
      "2 (0, 1)\n",
      "3 (1, 0)\n",
      "4 (0, 2)\n",
      "5 (2, 1)\n",
      "6 (1, 3)\n",
      "7 (3, 0)\n",
      "8 (0, 4)\n",
      "9 (4, 2)\n"
     ]
    }
   ],
   "source": [
    "for sinary in range(10):\n",
    "    print(sinary,split(sinary))"
   ]
  },
  {
   "cell_type": "markdown",
   "metadata": {},
   "source": [
    "The above displays the left/right paired sides for each sinary, which matches the surreal pair values.\n",
    "\n",
    "The equivelence to surreal numbers can be shown by evaluating the right and left sinary pairs as numeric values..."
   ]
  },
  {
   "cell_type": "code",
   "execution_count": 12,
   "metadata": {
    "collapsed": false
   },
   "outputs": [
    {
     "name": "stdout",
     "output_type": "stream",
     "text": [
      "\n",
      "0th sinary is None which has (R,L) of ('None', 'None')\n",
      "\n",
      "1th sinary is 0 which has (R,L) of ('None', 'None')\n",
      "\n",
      "2th sinary is -1 which has (R,L) of ('None', '0')\n",
      "\n",
      "3th sinary is 1 which has (R,L) of ('0', 'None')\n",
      "\n",
      "4th sinary is -2 which has (R,L) of ('None', '-1')\n",
      "\n",
      "5th sinary is -1/2 which has (R,L) of ('-1', '0')\n",
      "\n",
      "6th sinary is 1/2 which has (R,L) of ('0', '1')\n",
      "\n",
      "7th sinary is 2 which has (R,L) of ('1', 'None')\n",
      "\n",
      "8th sinary is -3 which has (R,L) of ('None', '-2')\n",
      "\n",
      "9th sinary is -3/2 which has (R,L) of ('-2', '-1')\n"
     ]
    }
   ],
   "source": [
    "for sinary in range(10):\n",
    "    print('\\n{}th sinary is {} which has (R,L) of {}'.format(sinary,label(sinary),tuple(str(label(x)) for x in split(sinary))))"
   ]
  },
  {
   "cell_type": "markdown",
   "metadata": {},
   "source": [
    "### Sinary value ordering and comparison\n",
    "Sinary numbers the not numerically ordered. However, Sinary numbers can be compared using Conways rules of comparison and operation on surreal numbers.\n",
    "\n",
    "Given numeric forms x = { XL | XR } and y = { YL | YR }, x ≤ y if and only if:\n",
    "\n",
    "- there is no xL ∈ XL such that y ≤ xL (every element in the left part of x is smaller than y), and\n",
    "- there is no yR ∈ YR such that yR ≤ x (every element in the right part of y is bigger than x).\n",
    "\n",
    "This code compares two sinary numbers..."
   ]
  },
  {
   "cell_type": "code",
   "execution_count": 13,
   "metadata": {
    "collapsed": true
   },
   "outputs": [],
   "source": [
    "def le(x,y):\n",
    "    return sle(split(x),split(y))\n",
    "\n",
    "def sle(x,y):\n",
    "    \"less than or equal to comparsion of x and y split representations\"\n",
    "\n",
    "    return not(x[0] and sle(y,split(x[0])) or y[1] and sle(split(y[1]),x))"
   ]
  },
  {
   "cell_type": "markdown",
   "metadata": {},
   "source": [
    "The le() routine returns the truth of a \"less than or equal to\" comparison of two sinary numbers.\n",
    "\n",
    "The sle() routine is recursive and expects a split list representation of the two numbers.\n",
    "\n",
    "This code compares all truth combinations of the first 32 sinaries against the truth comparison on the numeric values of these sinaries..."
   ]
  },
  {
   "cell_type": "code",
   "execution_count": 42,
   "metadata": {
    "collapsed": false
   },
   "outputs": [
    {
     "name": "stdout",
     "output_type": "stream",
     "text": [
      "Success: 16129 sinary numbers compared directly\n"
     ]
    }
   ],
   "source": [
    "c = 2**7\n",
    "l = labels(c*c)\n",
    "i = 0\n",
    "for a in range(1,c):\n",
    "    for b in range(1,c):\n",
    "        assert(le(a,b) == (l[a]<=l[b]))\n",
    "        i += 1\n",
    "print(\"Success: {} sinary numbers compared directly\".format(i))\n",
    "    "
   ]
  },
  {
   "cell_type": "markdown",
   "metadata": {},
   "source": [
    "### Additional Comparisons\n",
    "All other comparison between sinary numbers is arranged logically as a \"less than or equal\" comparison..."
   ]
  },
  {
   "cell_type": "code",
   "execution_count": 45,
   "metadata": {
    "collapsed": true
   },
   "outputs": [],
   "source": [
    "def le(x,y):\n",
    "    return sle(split(x),split(y))\n",
    "\n",
    "def gt (x,y):\n",
    "    \"\"\"True if x is greater than y\"\"\"\n",
    "    return not le(x,y)\n",
    "\n",
    "def ge (x,y):\n",
    "    \"\"\"True if x is greater than or equal to y\"\"\"\n",
    "    return le(y,x)\n",
    "\n",
    "def lt (x,y):\n",
    "    \"\"\"True if x is less than y\"\"\"\n",
    "    return not le(y,x)\n",
    "\n",
    "def ne (x,y):\n",
    "    \"\"\"True if x is not equal to y\"\"\"\n",
    "    return not (le(x,y) and le(y,x))\n",
    "\n",
    "def eq(x,y):\n",
    "    \"true if x and y are equal\"\n",
    "    return le(x,y) and le(y,x)\n",
    "\n",
    "def seq(x,y):\n",
    "    \"true if x and y are equal, where x and y are split representations\"\n",
    "    return sle(x,y) and sle(y,x)"
   ]
  },
  {
   "cell_type": "markdown",
   "metadata": {},
   "source": [
    "### Sinary Parent\n",
    "Sinary number consist of a left and right sinary number pairs. The pairs are determined from a given sinary above. This demonstrates the process of determining the partent of its given sinary pairs..."
   ]
  },
  {
   "cell_type": "code",
   "execution_count": 56,
   "metadata": {
    "collapsed": true
   },
   "outputs": [],
   "source": [
    "def join (xl,xr,y=1):\n",
    "    \"\"\"given a left and right sinary, return its equivelent single form\"\"\"\n",
    "\n",
    "    X = (xl,xr)\n",
    "    Y = split(y)\n",
    "    while not seq(X,Y):\n",
    "        y *= 2\n",
    "        if sle(Y,X): y += 1\n",
    "        Y = split(y)\n",
    "    return y"
   ]
  },
  {
   "cell_type": "markdown",
   "metadata": {},
   "source": [
    "The join() routine works, but requires comparisons to be performed.\n",
    "\n",
    "The author believes that there is a short cut for joining two sinaries when they are in reduced form. Reduced form is the form in which the left and right sinary values of your number are the same as produced from the routines above. However, non-reduced forms occur during operational manipulations. In these cases, the join() command will need to find the parent using this inefficient searching method.\n",
    "\n",
    "I think: Either the left or right sinary will be the parent sinary with the last bit trimmed off. And the bit trimmed will be opposite to the bit which remains. So the parent can be found by taking the longest of the two pairs and attaching a bit that is not the existing trailing bit of this longest of pairs. Easy right? But I have not tested yet and this join is used often in situations where the sinary is not in reduced form. Anyhow... thought I would mention this in case you want to research it.\n",
    "\n",
    "Thoughts: join() is required during addition and other operations. The efficient version could be tried first. If it doesn't work or produces results that do not match the splitting of the result, then the long form with search would be used. I think this would reduce recussion and improve speed.\n",
    "\n",
    "This code test the join() routine on the first 1024 sinary numbers..."
   ]
  },
  {
   "cell_type": "code",
   "execution_count": 81,
   "metadata": {
    "collapsed": false
   },
   "outputs": [
    {
     "name": "stdout",
     "output_type": "stream",
     "text": [
      "\n",
      "Sinary   Split   Joined\n",
      "\n",
      "  1     (0, 0)      1\n",
      "  2     (0, 1)      2\n",
      "  3     (1, 0)      3\n",
      "  4     (0, 2)      4\n",
      "  5     (2, 1)      5\n",
      "  6     (1, 3)      6\n",
      "  7     (3, 0)      7\n",
      "  8     (0, 4)      8\n",
      "  9     (4, 2)      9\n",
      "\n",
      "Success: joining the split values returns the original sinary\n"
     ]
    }
   ],
   "source": [
    "print(\"\\nSinary   Split   Joined\\n\")\n",
    "for sinary in range(10):\n",
    "    if sinary in (None,0): continue\n",
    "    print('  {}     {}      {}'.format(sinary, split(sinary),join(*split(sinary))))\n",
    "    assert(sinary==int(join(*split(sinary))))\n",
    "print(\"\\nSuccess: joining the split values returns the original sinary\")"
   ]
  },
  {
   "cell_type": "markdown",
   "metadata": {},
   "source": [
    "### Sinary Addition\n",
    "Sinary addition is performed in the surreal manner..."
   ]
  },
  {
   "cell_type": "markdown",
   "metadata": {},
   "source": [
    "Surreal number addition is defined by...\n",
    "$$x+y=\\{X_{L}|X_{R}\\}+\\{Y_{L}|Y_{R}\\}=\\{X_{L}+y,x+Y_{L}|X_{R}+y,x+Y_{R}\\}$$\n",
    "\n",
    "where...\n",
    "$$X+y=\\{x+y:x\\in X\\},x+Y=\\{x+y:y\\in Y\\}$$\n",
    "\n",
    "with the condition that...\n",
    "\n",
    "- an input is the output if the other input is zero (label of one)\n",
    "    \n",
    "If one input has the value zero return the other because numerically: a+0 = a\n",
    "\n",
    "This code demonstrates the addition process"
   ]
  },
  {
   "cell_type": "code",
   "execution_count": null,
   "metadata": {
    "collapsed": true
   },
   "outputs": [],
   "source": [
    "def add (x,y):\n",
    "    \"add two sinary numbers\"\n",
    "    if x is 1:\n",
    "        return y\n",
    "    if y is 1:\n",
    "        return x\n",
    "    xl,xr = split(x)\n",
    "    yl,yr = split(y)\n",
    "    left  = xl and add(xl,y)\n",
    "    right = xr and add(xr,y)\n",
    "    if yl:\n",
    "        less = add(x,yl)\n",
    "        if not left or le(left, less):\n",
    "            left = less\n",
    "    if yr:\n",
    "        more = add(x,yr)\n",
    "        if not right or le(more, right):\n",
    "            right = more\n",
    "    return join(left,right)"
   ]
  },
  {
   "cell_type": "markdown",
   "metadata": {},
   "source": [
    "the add() routine checks for special conditions (x or y is 1) before recursing through the addition steps defined by surreal number addition. It uses the join command to return the sinary parent of the left and right split sides of the addition process.\n",
    "\n",
    "The add() routine takes two sinary numbers and splits them into pairs to get 4 numbers. It then performs comparisons and addition on the inputs and with split numbers. When calling addition in this process, the entire process is repeated. Each split number is a reduction of its parent number and will specifically have less bits in its representation. In this way all inputs will eventually reduce to the sinary representation of \"1\" where the recursion will stop and the return values will be sent back to continue on with processing.\n",
    "\n",
    "interesting note: sinary numbers split in to two numbers which are always smaller to write in binary and they will all reduce to \"one\" after some number of reduction steps... a binary bit digit and nothing else."
   ]
  },
  {
   "cell_type": "markdown",
   "metadata": {},
   "source": [
    "### Sinary Negation\n",
    "Negation of a given number x = { XL | XR } is defined by\n",
    "\n",
    "$${\\displaystyle -x=-\\{X_{L}|X_{R}\\}=\\{-X_{R}|-X_{L}\\}}-x=-\\{X_{L}|X_{R}\\}=\\{-X_{R}|-X_{L}\\}$$\n",
    "\n",
    "where the negation of a set S of numbers is given by the set of the negated elements of S:\n",
    "\n",
    "$${\\displaystyle -S=\\{-s:s\\in S\\}}-S=\\{-s:s\\in S\\}$$\n",
    "\n",
    "But the negation of a Sinary can be interpreted as a binary involution, because it flips values in a manner that returns the value to the original state when performed twice. "
   ]
  },
  {
   "cell_type": "code",
   "execution_count": 82,
   "metadata": {
    "collapsed": true
   },
   "outputs": [],
   "source": [
    "def mask(x,m=0):\n",
    "    \"generate a binary number of all '1's up to one less than the bits of x\"\n",
    "    while x>>1:\n",
    "        x = x>>1\n",
    "        m = (m<<1)|1\n",
    "    return m\n",
    "\n",
    "def neg(x):\n",
    "    \"flip all bits except the first\"\n",
    "    return x and x^mask(x)"
   ]
  },
  {
   "cell_type": "markdown",
   "metadata": {},
   "source": [
    "### Sinary Subtraction\n",
    "Subtraction is the addition of the negation.\n",
    "\n",
    "$$a-b = a+(-b)$$\n",
    "\n",
    "This code performs sinary subtraction..."
   ]
  },
  {
   "cell_type": "code",
   "execution_count": 83,
   "metadata": {
    "collapsed": true
   },
   "outputs": [],
   "source": [
    "def sub (x,y):\n",
    "    return add(x,neg(y))"
   ]
  },
  {
   "cell_type": "markdown",
   "metadata": {},
   "source": [
    "### Sinary multiplication"
   ]
  },
  {
   "cell_type": "code",
   "execution_count": 84,
   "metadata": {
    "collapsed": true
   },
   "outputs": [],
   "source": [
    "def mul (x,y):\n",
    "    \"multiply two sinary numbers\"\n",
    "    if 0 in (x,y): return 0\n",
    "    if x is 1 or y is 3 : return x\n",
    "    if y is 1 or x is 3 : return y\n",
    "    if x is 2 : return -y\n",
    "    if y is 2 : return -x\n",
    "    xl,xr = split(x)\n",
    "    yl,yr = split(y)\n",
    "    left,right = 0,0\n",
    "    if xl and yl:\n",
    "        left  = sub(add(mul(xl,y),mul(x,yl)),mul(xl,yl))\n",
    "    if xr and yr:\n",
    "        left2 = sub(add(mul(xr,y),mul(x,yr)),mul(xr,yr))\n",
    "        if left == 0 or not le(left2,left):\n",
    "            left = left2\n",
    "    if xl and yr:\n",
    "        right  = sub(add(mul(xl,y),mul(x,yr)),mul(xl,yr))\n",
    "    if xr and yl:\n",
    "        right2 = sub(add(mul(x,yl),mul(xr,y)),mul(xr,yl))\n",
    "        if right == 0 or not le(right,right2):\n",
    "            right = right2\n",
    "    return reduce(left,right)"
   ]
  },
  {
   "cell_type": "markdown",
   "metadata": {},
   "source": [
    "### Sinary Inversion\n",
    "Inversion is a long recursive operation defined by:\n",
    "\n",
    "For positive ${\\textstyle y}$,\n",
    "\n",
    "$${\\displaystyle {\\frac {1}{y}}={\\Bigg \\{}0,{\\frac {1+(y_{R}-y)({\\frac {1}{y}})_{L}}{y_{R}}},{\\frac {1+(y_{L}-y)({\\frac {1}{y}})_{R}}{y_{L}}}{\\Bigg |}{\\frac {1+(y_{L}-y)({\\frac {1}{y}})_{L}}{y_{L}}},{\\frac {1+(y_{R}-y)({\\frac {1}{y}})_{R}}{y_{R}}}{\\Bigg \\}}}$$\n",
    "\n",
    "where only positive ${\\textstyle y_{L}}{\\textstyle y_{L}}$ are permitted in the formula, with any nonpositive terms being ignored (and ${\\textstyle y_{R}}$ ${\\textstyle y_{R}}$ are always positive).\n",
    "\n",
    "For negative ${\\textstyle y}$,\n",
    "\n",
    "$${\\displaystyle {\\frac {1}{y}}=-\\left({\\frac {1}{-y}}\\right)}$$\n",
    "\n",
    "\n",
    "Along with the following special conditions...\n",
    "\n",
    "If ${\\textstyle y = 1}$ then ${\\displaystyle {\\frac {1}{y}}= 1}$\n",
    "\n",
    "If ${\\textstyle y = 0}$ then ${\\displaystyle {\\frac {1}{y}}= \\text{undefined}}$"
   ]
  },
  {
   "cell_type": "code",
   "execution_count": 94,
   "metadata": {
    "collapsed": true
   },
   "outputs": [],
   "source": [
    "def invert (y):\n",
    "    \"\"\"return 1/y, the inversion from input y\"\"\"\n",
    "    if   eq(y,pos) : return y\n",
    "    elif lt(y,nil) : return neg(invert(neg(y)))\n",
    "    elif eq(y,nil) : raise  ZeroDivisionError()\n",
    "    yl,yr = split(y)\n",
    "    il = nil\n",
    "    ir = None\n",
    "    r  = None,None\n",
    "    iyr,iyl = None,None\n",
    "    while (il or ir):\n",
    "        nl = nr = None\n",
    "        if il is not None:\n",
    "            r = (il,r[1])\n",
    "            if yr is not None:\n",
    "                if iyr is None:\n",
    "                    iyr = invert(yr)\n",
    "                left = mul(mul(add(pos,sub(yr,y)),il),iyr)\n",
    "                if r[0] is None or gt(left,r[0]):\n",
    "                    nl = left\n",
    "            if yl is not None and not le(yl,nil):\n",
    "                if iyl is None:\n",
    "                    iyl = invert(yl)\n",
    "                right = mul(mul(add(pos,sub(yl,y)),il),iyl)\n",
    "                if r[1] is None or lt(right,r[1]):\n",
    "                    nr = right\n",
    "        if ir:\n",
    "            r = (r[0],ir)\n",
    "            if yl is not None and not le(yl,nil):\n",
    "                if iyl is None:\n",
    "                    iyl = invert(yl)\n",
    "                left = mul(mul(add(pos,sub(yl,y)),ir),iyl)\n",
    "                if r[0] is None or (gt(left,r[0]) and (not nl or gt(left,nl))):\n",
    "                    nl = left\n",
    "            if yr is not None:\n",
    "                if iyr is None:\n",
    "                    iyr = invert(yr)\n",
    "                right = mul(mul(add(pos,sub(yr,y)),ir),iyr)\n",
    "                if r[1] is None or (lt(right,r[1]) and (not nr or lt(right,nr))):\n",
    "                    nr = right\n",
    "        il,ir = nl,nr\n",
    "    if r[0] is None: r = (0,r[1])\n",
    "    if r[1] is None: r = (r[0],0)\n",
    "    return join(*r)"
   ]
  },
  {
   "cell_type": "markdown",
   "metadata": {},
   "source": [
    "### Sinary Division\n",
    "\n",
    "Since $\\frac{x}{y} = x \\times \\frac{1}{y}$, likewise division is defined as the product of applying the inverse over its second input..."
   ]
  },
  {
   "cell_type": "code",
   "execution_count": 95,
   "metadata": {
    "collapsed": true
   },
   "outputs": [],
   "source": [
    "def divide(x,y):\n",
    "    return mul(x,invert(y))"
   ]
  },
  {
   "cell_type": "markdown",
   "metadata": {},
   "source": [
    "### Conclusions\n",
    "Sinary numbers have a bit format that is equivalent to the surreal birth order number.\n",
    "\n",
    "Sinary numbers have short binary manipulations which produce equivelent results to the documented surreal comparisons, operations and manipulations.\n",
    "\n",
    "Sinary code provides a method for mathematical operations and value calculations on a bit format that is NOT standard binary."
   ]
  }
 ],
 "metadata": {
  "kernelspec": {
   "display_name": "Python 3",
   "language": "python",
   "name": "python3"
  },
  "language_info": {
   "codemirror_mode": {
    "name": "ipython",
    "version": 3
   },
   "file_extension": ".py",
   "mimetype": "text/x-python",
   "name": "python",
   "nbconvert_exporter": "python",
   "pygments_lexer": "ipython3",
   "version": "3.5.3"
  }
 },
 "nbformat": 4,
 "nbformat_minor": 2
}
