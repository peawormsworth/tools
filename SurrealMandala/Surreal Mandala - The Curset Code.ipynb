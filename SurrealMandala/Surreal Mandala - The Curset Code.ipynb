{
 "cells": [
  {
   "cell_type": "markdown",
   "metadata": {},
   "source": [
    "# Surreal Mandala\n",
    "### The Curset Code"
   ]
  },
  {
   "cell_type": "markdown",
   "metadata": {},
   "source": [
    " <a href=\"#creation story\">Creation Story</a>\n",
    "\n",
    " <a href=\"#sticks\">Sticks</a>\n",
    "\n",
    " <a href=\"#boxes\">Boxes</a>\n",
    "\n",
    " <a href=\"#branches\">Branches</a>\n",
    "\n",
    " <a href=\"#birthing circle\">Birthing Circle</a>\n",
    "\n",
    " <a href=\"#surreal mandala\">Surreal Mandala</a>\n",
    "\n",
    " <a href=\"#linked list\">Linked List</a>\n",
    "\n",
    " <a href=\"#surreal math\">Surreal Math</a>\n",
    "\n",
    " <a href=\"#curset\">Curset</a>\n",
    "\n",
    " <a href=\"#sinary\">Sinary</a>\n",
    "\n",
    " <a href=\"#dimensions\">Dimensions</a>\n",
    "\n",
    " <a href=\"#hypercurset\">Hypercurset</a>\n",
    "\n",
    " <a href=\"#appendix\">Appendix</a>:\n",
    "\n",
    "> 1/3 and other infinities\n",
    "\n",
    "> infintesimals\n",
    "\n",
    "> p-adics\n",
    "\n",
    "> recursive circuits\n",
    "\n",
    "> set theory\n",
    "\n",
    "> quantum simulation"
   ]
  },
  {
   "cell_type": "markdown",
   "metadata": {},
   "source": [
    "## <a name=\"creation story\">Creation Story</a>"
   ]
  },
  {
   "cell_type": "markdown",
   "metadata": {},
   "source": [
    "It was the same and indecernible and nothing came between it.\n",
    "\n",
    "From nothing rose the poles of polarity settling half way between the infinities of nothing and everything that this is not.\n",
    "\n",
    "bla bla bla\n",
    "\n",
    "<img src=\"images/1.jpg\" height=\"100\" width=\"200\"></img>\n",
    "<img src=\"images/2.jpg\" height=\"100\" width=\"200\"></img>"
   ]
  },
  {
   "cell_type": "markdown",
   "metadata": {},
   "source": [
    "## <a name=\"sticks\">Sticks</a>\n",
    "\n",
    "You can count with sticks like: 0+1+1+1+1 = 4 or 0-1-1-1 = -3 to reach any integer.\n",
    "\n",
    "You can count fractions between integers by halves: First pass your target number using units of 1. Then come back by 1/2, 1/4, 1/8, etc, moving back and forth as you pass the target number. \n",
    "\n",
    "\n",
    "<img src=\"images/3.jpg\" height=\"100\" width=\"200\"></img>\n",
    "<img src=\"images/4.jpg\" height=\"100\" width=\"200\"></img>"
   ]
  },
  {
   "cell_type": "markdown",
   "metadata": {},
   "source": [
    "## <a name=\"boxes\">Boxes</a>\n",
    "Every number is like a box having two more boxes.\n",
    "\n",
    "The boxes can be tested for equality.\n",
    "\n",
    "The box with itself inside is not a number.\n",
    "\n",
    "Otherwise, the box with two similar boxes is nil.\n",
    "\n",
    "Otherwise, if one box is nan then it is a pos or neg integer depending on the side.\n",
    "\n",
    "Otherwise, the box is the number half way between the two boxes inside it.\n",
    "\n",
    "A simply visual box notation is presented.\n",
    "\n",
    "\n",
    "<img src=\"images/12.jpg\" height=\"100\" width=\"200\"></img>\n",
    "<img src=\"images/13.jpg\" height=\"100\" width=\"200\"></img>\n",
    "<img src=\"images/14.jpg\" height=\"100\" width=\"200\"></img>\n",
    "<img src=\"images/15.jpg\" height=\"100\" width=\"200\"></img>"
   ]
  },
  {
   "cell_type": "markdown",
   "metadata": {},
   "source": [
    "## <a name=\"branches\">Branches</a>\n",
    "Numbers spread out and connect like tree branches.\n",
    "\n",
    "Each twig is a step called a day.\n",
    "\n",
    "Every number has a set path and a particular number of steps required to reach it.\n",
    "\n",
    "Trees are connected with boxes.\n",
    "\n",
    "<img src=\"images/6.jpg\" height=\"100\" width=\"200\"></img>"
   ]
  },
  {
   "cell_type": "markdown",
   "metadata": {},
   "source": [
    "## <a name=\"birthing circles\">Birthing Circle</a>\n",
    "Numbers are created in an order\n",
    "\n",
    "The order of number creation is easily determined on a circle.\n",
    "\n",
    "<img src=\"images/7.jpg\" height=\"100\" width=\"200\"></img>\n",
    "<img src=\"images/8.jpg\" height=\"100\" width=\"200\"></img>\n",
    "\n",
    "<img src=\"images/9.jpg\" height=\"100\" width=\"200\"></img>\n",
    "<img src=\"images/10.jpg\" height=\"100\" width=\"200\"></img>\n",
    "<img src=\"images/11.jpg\" height=\"100\" width=\"200\"></img>"
   ]
  },
  {
   "cell_type": "markdown",
   "metadata": {},
   "source": [
    "## <a name=\"surreal mandala\">Surreal Manadala</a>\n",
    "The surreal mandala is generated from the number tree.\n",
    "Some highlights are shown to give it meaning\n",
    "\n",
    "<img src=\"images/5.jpg\" height=\"100\" width=\"200\"></img>\n",
    "<img src=\"images/full_mondala_sm.png\" height=\"100\" width=\"200\"></img>"
   ]
  },
  {
   "cell_type": "markdown",
   "metadata": {},
   "source": [
    "## <a name=\"linked list\">Linked List</a>\n",
    "Linked lists are created from the trees and simplification is explained.\n",
    "\n",
    "Rules for typing\n",
    "\n",
    "<img src=\"images/16.jpg\" height=\"100\" width=\"200\"></img>\n",
    "<img src=\"images/17.jpg\" height=\"100\" width=\"200\"></img>\n",
    "<img src=\"images/18.jpg\" height=\"100\" width=\"200\"></img>\n",
    "<img src=\"images/19.jpg\" height=\"100\" width=\"200\"></img>\n",
    "<img src=\"images/20.jpg\" height=\"100\" width=\"200\"></img>\n",
    "<img src=\"images/21.jpg\" height=\"100\" width=\"200\"></img>"
   ]
  },
  {
   "cell_type": "markdown",
   "metadata": {},
   "source": [
    "## <a name=\"surreal math\">Surreal Math</a>\n",
    "A few pages on the details of recursive surreal math. Just for completeness\n",
    "\n",
    "\n",
    "<img src=\"images/22.jpg\" height=\"100\" width=\"200\"></img>\n",
    "<img src=\"images/23.jpg\" height=\"100\" width=\"200\"></img>\n",
    "<img src=\"images/24.jpg\" height=\"100\" width=\"200\"></img>\n",
    "<img src=\"images/25.jpg\" height=\"100\" width=\"200\"></img>\n",
    "<img src=\"images/26.jpg\" height=\"100\" width=\"200\"></img>"
   ]
  },
  {
   "cell_type": "markdown",
   "metadata": {},
   "source": [
    "## <a name=\"curset\">Curset</a>\n",
    "The linked lists are coverted to cursets and the code is generated\n",
    "\n",
    "\n",
    "<img src=\"images/27.jpg\" height=\"100\" width=\"200\"></img>\n",
    "<img src=\"images/28.jpg\" height=\"100\" width=\"200\"></img>\n",
    "<img src=\"images/29.jpg\" height=\"100\" width=\"200\"></img>\n",
    "<img src=\"images/30.jpg\" height=\"100\" width=\"200\"></img>\n",
    "<img src=\"images/31.jpg\" height=\"100\" width=\"200\"></img>\n",
    "\n",
    "<img src=\"images/33.jpg\" height=\"100\" width=\"200\"></img>\n",
    "<img src=\"images/34.jpg\" height=\"100\" width=\"200\"></img>\n",
    "<img src=\"images/35.jpg\" height=\"100\" width=\"200\"></img>"
   ]
  },
  {
   "cell_type": "markdown",
   "metadata": {},
   "source": [
    "## <a name=\"sinary\">Sinary</a>\n",
    "Sinary is a binary format for a curset number. It allows for simulation of the same curset processes in generally the same manner. By converting the routines to take binary input, the code displays the ability to run directly in hardware. This means that great speed improvements are possible using sprecifically designed circuits (I think).\n",
    "\n",
    "Unfortunately, sinary can not hold hyper curset numbers in a native binary format as a seperator is required between coefficients. This means that Sinary calculations are limited to one dimension on classic binary computers. Hyper dimensional calculations can be performed but each coefficient will need to be stored separately.\n",
    "\n",
    "<img src=\"images/36.jpg\" height=\"100\" width=\"200\"></img>\n",
    "<img src=\"images/37.jpg\" height=\"100\" width=\"200\"></img>"
   ]
  },
  {
   "cell_type": "markdown",
   "metadata": {},
   "source": [
    "## <a name=\"dimensions\">Dimensions</a>\n",
    "Cayley-Dickson rules are explained for math on doubling dimensions.\n",
    "\n",
    "Cayley-Dickson allows one dimensional numbers to be used as coefficients for multi-dimensional numbers. A complex number is the first example of this and has 2 numbers. It also allows for 4 dimensional numbers having four single dimensional numbers inside. Then 8, 16, 32 etc numbers all within one number.\n",
    "\n",
    "Normally, we would use real numbers for this multidimensional code. Instead we put surreal numbers in as coefficients. But also we are going to add to our curset format to allow all of these numbers to be held in one representation. This means that our programs will see multi-dimensional numbers as single objects of uniform and minimal construction. This may provide efficiency, but also allow the format to be manipulated in hardware directly without outside intervention during the recursive processes normally required when performing binary calculations.\n",
    "\n",
    "This could be a book itself, but instead the rules are shown with little help on why or how they work. They are recursive like the surreal numbers and split in two, so hopefully this will be enough.\n",
    "\n",
    "* this is a lead up to code changes from curset to hypercurset and provides insight but not understanding of where the changes came from.\n",
    "\n",
    "\n",
    "<img src=\"images/38.jpg\" height=\"100\" width=\"200\"></img>\n",
    "<img src=\"images/39.jpg\" height=\"100\" width=\"200\"></img>\n",
    "<img src=\"images/40.jpg\" height=\"100\" width=\"200\"></img>\n",
    "<img src=\"images/41.jpg\" height=\"100\" width=\"200\"></img>\n",
    "<img src=\"images/42.jpg\" height=\"100\" width=\"200\"></img>"
   ]
  },
  {
   "cell_type": "markdown",
   "metadata": {},
   "source": [
    "## <a name=\"hypercurset\">Hypercurset</a>"
   ]
  },
  {
   "cell_type": "markdown",
   "metadata": {},
   "source": [
    "Explanation of the multi-dimensional hyper curset calculator with code.\n",
    "\n",
    "\n",
    "<img src=\"images/43.jpg\" height=\"100\" width=\"200\"></img>\n",
    "<img src=\"images/44.jpg\" height=\"100\" width=\"200\"></img>\n",
    "<img src=\"images/45.jpg\" height=\"100\" width=\"200\"></img>\n",
    "<img src=\"images/46.jpg\" height=\"100\" width=\"200\"></img>\n",
    "<img src=\"images/47.jpg\" height=\"100\" width=\"200\"></img>\n",
    "<img src=\"images/48.jpg\" height=\"100\" width=\"200\"></img>\n",
    "<img src=\"images/49.jpg\" height=\"100\" width=\"200\"></img>\n",
    "<img src=\"images/50.jpg\" height=\"100\" width=\"200\"></img>\n",
    "<img src=\"images/51.jpg\" height=\"100\" width=\"200\"></img>\n",
    "<img src=\"images/52.jpg\" height=\"100\" width=\"200\"></img>\n",
    "<img src=\"images/53.jpg\" height=\"100\" width=\"200\"></img>"
   ]
  },
  {
   "cell_type": "markdown",
   "metadata": {},
   "source": [
    "## <a name=\"appendix\">Appendix</a>"
   ]
  },
  {
   "cell_type": "markdown",
   "metadata": {},
   "source": [
    "nothing to see here"
   ]
  }
 ],
 "metadata": {
  "kernelspec": {
   "display_name": "Python 3",
   "language": "python",
   "name": "python3"
  },
  "language_info": {
   "codemirror_mode": {
    "name": "ipython",
    "version": 3
   },
   "file_extension": ".py",
   "mimetype": "text/x-python",
   "name": "python",
   "nbconvert_exporter": "python",
   "pygments_lexer": "ipython3",
   "version": "3.5.3"
  }
 },
 "nbformat": 4,
 "nbformat_minor": 2
}
