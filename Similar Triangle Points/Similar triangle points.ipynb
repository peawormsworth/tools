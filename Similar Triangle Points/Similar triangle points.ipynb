{
 "cells": [
  {
   "cell_type": "markdown",
   "metadata": {},
   "source": [
    "## stereographic symmetry of fixed base triangles"
   ]
  },
  {
   "cell_type": "markdown",
   "metadata": {},
   "source": [
    "### introduction\n"
   ]
  },
  {
   "cell_type": "markdown",
   "metadata": {},
   "source": [
    "\n",
    "Any similar triangle, when rotated and scaled, can be placed on a base of two fixed points so that its third point could be in any of three positions relative to one side of that base. A natural way to find the remaining two points, when one is provide, is to move and scale the provided point by using the angles and proportions of that point. Yet, there is another way to find the two additional points that displays more balance and symmetry.\n",
    "\n",
    "The first method employed is here named planar rotation and referred to as 2d rotation within this report, is found using complex operations. Operations are applied over a plane with only two axis for consideration.\n",
    "\n",
    "Projected revolution is the second method. Within this report, it will be referred to as 3d rotation. An additional z-axis is considered. The technique uses stereoprojection to find t\n",
    "\n",
    "In the process, some aspect of triangle similarity is displayed.\n",
    "It shows that triangle symmetry is symmetrically balanced when consideing stereo projection on the surface of a sphere in relation to the triangles fixed size and centered on the origin.\n",
    "\n",
    "A geometric model for each method will be presented, the equations developed, manipulated and proven to be equal."
   ]
  },
  {
   "cell_type": "markdown",
   "metadata": {},
   "source": [
    "### planar method\n"
   ]
  },
  {
   "cell_type": "markdown",
   "metadata": {},
   "source": [
    "\n",
    "The first method, p2d , involves moving, rotating and scaling a given complex point using plane geometry manipulations over its plane. The triangle with base points balanced on the x-axis at a radius of r from the origin, and a third point at z, will be shown to have\n"
   ]
  },
  {
   "cell_type": "markdown",
   "metadata": {},
   "source": [
    "\n",
    "$$P_{2d}=-4r^2 \\cfrac{\\bar{z} \\pm r}{ |z \\pm r|^2} \\mp r$$\n"
   ]
  },
  {
   "cell_type": "markdown",
   "metadata": {},
   "source": [
    "\n",
    "the location of two other points of similar triangles having different base angle pairs."
   ]
  },
  {
   "cell_type": "markdown",
   "metadata": {},
   "source": [
    "### planar equation\n"
   ]
  },
  {
   "cell_type": "markdown",
   "metadata": {},
   "source": [
    "\n",
    "Consider any triangle, having these requirements and a third point given as complex coordinates, a stereographic projection onto the unit sphere produce X, Y and Z.\n"
   ]
  },
  {
   "cell_type": "markdown",
   "metadata": {},
   "source": [
    "\n",
    "$$s=\\cfrac{x^2+y^2+1}{2}$$\n"
   ]
  },
  {
   "cell_type": "markdown",
   "metadata": {},
   "source": [
    "\n",
    "$$X=x/s$$\n"
   ]
  },
  {
   "cell_type": "markdown",
   "metadata": {},
   "source": [
    "\n",
    "$$Y=y/s$$\n"
   ]
  },
  {
   "cell_type": "markdown",
   "metadata": {},
   "source": [
    "\n",
    "$$Z=\\cfrac{s-1}{s}$$\n"
   ]
  },
  {
   "cell_type": "markdown",
   "metadata": {},
   "source": [
    "\n",
    "let r be the complex part of the third root of unity\n",
    "±120° unit rotation vectors of\n"
   ]
  },
  {
   "cell_type": "markdown",
   "metadata": {},
   "source": [
    "\n",
    "$$r=(-1)^{\\frac{1}{3}}$$\n"
   ]
  },
  {
   "cell_type": "markdown",
   "metadata": {},
   "source": [
    "\n",
    "to obtain the ±120° unit rotation vectors\n"
   ]
  },
  {
   "cell_type": "markdown",
   "metadata": {},
   "source": [
    "\n",
    "$$r=\\cfrac{-1\\pm\\sqrt{3}i}{2}$$\n"
   ]
  },
  {
   "cell_type": "markdown",
   "metadata": {},
   "source": [
    "\n",
    "providing 1/3rd rotation of to X and Z coordinates\n"
   ]
  },
  {
   "cell_type": "markdown",
   "metadata": {},
   "source": [
    "\n",
    "$$z_{r}=r(X+Zi)$$\n"
   ]
  },
  {
   "cell_type": "markdown",
   "metadata": {},
   "source": [
    "\n",
    "Seperate this solution into X and Z\n"
   ]
  },
  {
   "cell_type": "markdown",
   "metadata": {},
   "source": [
    "\n",
    "$$X_{r}+Z_{r}i=z_{r}$$\n"
   ]
  },
  {
   "cell_type": "markdown",
   "metadata": {},
   "source": [
    "\n",
    "as the components of $z_{r}$ using\n"
   ]
  },
  {
   "cell_type": "markdown",
   "metadata": {},
   "source": [
    "\n",
    "$$X_{r}=\\cfrac {z_{r}+\\bar{z}_{r}}{2}$$\n"
   ]
  },
  {
   "cell_type": "markdown",
   "metadata": {},
   "source": [
    "\n",
    "$$Z_{r}=\\cfrac {z_{r}-\\bar{z}_{r}}{2i}$$\n"
   ]
  },
  {
   "cell_type": "markdown",
   "metadata": {},
   "source": [
    "\n",
    "gives Xr and Zr the positions of their originals revolved about the y-axis.\n",
    "\n",
    "It is projected, with the unchanged third coordinate Y, back to the x-y plane by\n"
   ]
  },
  {
   "cell_type": "markdown",
   "metadata": {},
   "source": [
    "\n",
    "$$P_{3d}=\\cfrac{X_{r}+Yi}{1-Z_{r}}$$\n"
   ]
  },
  {
   "cell_type": "markdown",
   "metadata": {},
   "source": [
    "\n",
    "producing the location of the other solution points.\n",
    "\n",
    "This report claims that these methods are equivelent\n"
   ]
  },
  {
   "cell_type": "markdown",
   "metadata": {},
   "source": [
    "\n",
    "$$P_{3d}=P_{2d}$$"
   ]
  },
  {
   "cell_type": "markdown",
   "metadata": {},
   "source": [
    "\n",
    "The first method, the 2d planar method shown, operates on z, a given complex point\n"
   ]
  },
  {
   "cell_type": "markdown",
   "metadata": {},
   "source": [
    "\n",
    "$$P_{2d}=-4r^2 \\cfrac{\\bar{z} \\mp r}{ | \\bar{z} \\mp r|^2} \\mp r$$\n"
   ]
  },
  {
   "cell_type": "markdown",
   "metadata": {},
   "source": [
    "\n",
    "The conjugate of z is the negation of it's imaginary,\n",
    "while r is half of a $\\cfrac{2}{\\sqrt{3}}$ base length triangle\n"
   ]
  },
  {
   "cell_type": "markdown",
   "metadata": {},
   "source": [
    "\n",
    "$$r = \\cfrac{1}{\\sqrt{3}}$$\n"
   ]
  },
  {
   "cell_type": "markdown",
   "metadata": {},
   "source": [
    "\n",
    "$$\\bar{z}=x-yi$$\n"
   ]
  },
  {
   "cell_type": "markdown",
   "metadata": {},
   "source": [
    "\n",
    "$$P_{2d}=-\\cfrac{4}{3}\\cfrac{x-yi \\mp \\cfrac{1}{\\sqrt{3}}}{\\left|x-yi \\mp \\cfrac{1}{\\sqrt{3}}\\right|^2} \\mp \\cfrac{1}{\\sqrt{3}}$$\n"
   ]
  },
  {
   "cell_type": "markdown",
   "metadata": {},
   "source": [
    "\n",
    "$P_{2d}$ is the complex solutions from the x and y components of z\n"
   ]
  },
  {
   "cell_type": "markdown",
   "metadata": {},
   "source": [
    "\n",
    "The square of the absolute value of the complex the denominator, is the square of the root of the square of its components\n"
   ]
  },
  {
   "cell_type": "markdown",
   "metadata": {},
   "source": [
    "\n",
    "$$\\left|x-yi \\mp \\cfrac{1}{\\sqrt{3}}\\right|^2$$\n"
   ]
  },
  {
   "cell_type": "markdown",
   "metadata": {},
   "source": [
    "$$= (\\sqrt((x \\mp \\cfrac{1}{\\sqrt{3}})^2+y^2))^2$$\n"
   ]
  },
  {
   "cell_type": "markdown",
   "metadata": {},
   "source": [
    "$$=x^2 \\mp \\cfrac{2}{\\sqrt{3}}x+\\cfrac{1}{3}+y^2$$\n"
   ]
  },
  {
   "cell_type": "markdown",
   "metadata": {},
   "source": [
    "\n",
    "substitute into the equation\n"
   ]
  },
  {
   "cell_type": "markdown",
   "metadata": {},
   "source": [
    "\n",
    "$$P_{2d}=-\\cfrac{4}{3}\\cfrac{x-yi \\mp \\cfrac{1}{\\sqrt{3}}}{x^2 \\mp \\cfrac{2}{\\sqrt{3}}x+\\cfrac{1}{3}+y^2} \\mp \\cfrac{1}{\\sqrt{3}}$$\n"
   ]
  },
  {
   "cell_type": "markdown",
   "metadata": {},
   "source": [
    "\n",
    "$$P_{2d}=\n",
    "\\cfrac{4(x-yi \\mp \\cfrac{1}{\\sqrt{3}}) }{-3(x^2 \\mp \\cfrac{2}{\\sqrt{3}}x+\\cfrac{1}{3}+y^2)} \\mp \\cfrac{1}{\\sqrt{3}}$$\n"
   ]
  },
  {
   "cell_type": "markdown",
   "metadata": {},
   "source": [
    "\n",
    "$$P_{2d}=\n",
    "\\cfrac{4x-4yi \\mp \\cfrac{4}{\\sqrt{3}} }{-3x^2 \\pm 2\\sqrt{3}x-1-3y^2} \\mp \\cfrac{1}{\\sqrt{3}}$$\n"
   ]
  },
  {
   "cell_type": "markdown",
   "metadata": {},
   "source": [
    "\n",
    "$$P_{2d}=\n",
    "\\cfrac{4x-4yi \\mp \\cfrac{4}{\\sqrt{3}} }{-3x^2 \\pm 2\\sqrt{3}x-1-3y^2} + \\cfrac{\\mp\\cfrac{1}{\\sqrt{3}} (-3x^2 \\pm 2\\sqrt{3}x-1-3y^2)}{-3x^2 \\pm 2\\sqrt{3}x-1-3y^2}$$\n"
   ]
  },
  {
   "cell_type": "markdown",
   "metadata": {},
   "source": [
    "\n",
    "$$P_{2d}=\n",
    "\\cfrac{4x-4yi \\mp \\cfrac{4}{\\sqrt{3}} \\pm\\sqrt{3}x^2 - 2x \\pm\\cfrac{1}{\\sqrt{3}} \\pm \\sqrt{3}y^2 }{-3x^2 \\pm 2\\sqrt{3}x-1-3y^2} $$\n"
   ]
  },
  {
   "cell_type": "markdown",
   "metadata": {},
   "source": [
    "\n",
    "$$P_{2d}=\n",
    "\\cfrac{2x - 4yi \\mp \\cfrac{3}{\\sqrt{3}} \\pm \\sqrt{3}x^2 \\pm \\sqrt{3}y^2 }{-3x^2 \\pm 2\\sqrt{3}x-1-3y^2} $$\n"
   ]
  },
  {
   "cell_type": "markdown",
   "metadata": {},
   "source": [
    "\n",
    "$$P_{2d}=\n",
    "\\cfrac{ \\pm\\sqrt{3}x^2 \\pm \\sqrt{3}y^2 + 2x \\mp \\sqrt{3}}{-3x^2 -3y^2 \\pm 2\\sqrt{3}x - 1} \n",
    " +\n",
    "\\cfrac{-4y}{-3x^2 -3y^2 \\pm 2\\sqrt{3}x - 1} i\n",
    "$$\n",
    "\n",
    "\n"
   ]
  },
  {
   "cell_type": "markdown",
   "metadata": {},
   "source": [
    "$$P_{2d}=\n",
    "\\cfrac{ \\pm\\sqrt{3}x^2 \\pm \\sqrt{3}y^2 + 2x \\mp \\sqrt{3}}{-3x^2 -3y^2 \\pm 2\\sqrt{3}x - 1} \n",
    "\\cdot \\cfrac{-1}{-1}\n",
    " +\n",
    "\\cfrac{-4y}{-3x^2 -3y^2 \\pm 2\\sqrt{3}x - 1}\n",
    "\\cdot \\cfrac{-1}{-1}\n",
    "i\n",
    "$$\n"
   ]
  },
  {
   "cell_type": "markdown",
   "metadata": {},
   "source": [
    "\n",
    "$$P_{2d}=\n",
    "\\cfrac{ - 2x \\mp\\sqrt{3}x^2 \\mp \\sqrt{3}y^2 \\pm \\sqrt{3}}{1 \\mp 2\\sqrt{3}x + 3x^2 +3y^2 } \n",
    " +\n",
    "\\cfrac{4y}{1 \\mp 2\\sqrt{3}x + 3x^2 +3y^2 } i\n",
    "$$\n"
   ]
  },
  {
   "cell_type": "markdown",
   "metadata": {},
   "source": [
    "The $P_{2d}$ equation has now been transformed from operations on complex z into basic operations on the components of x and y in the standard $y=a+bi$ complex format"
   ]
  },
  {
   "cell_type": "markdown",
   "metadata": {},
   "source": [
    "### stereographic method\n"
   ]
  },
  {
   "cell_type": "markdown",
   "metadata": {},
   "source": [
    "\n",
    "The second method uses stereographic projection, mapping the given point to the surface of a sphere. The sphere is centered mid-base and has radius of √3 base. The projected point is rotated 1/3 of a turn in each direction on the surface of the sphere through the y-axis of the triangle plane through the center and perpendicular to its base. Those revolved points projected back to the plane of the given point will be the two points of its other similar triangles."
   ]
  },
  {
   "cell_type": "markdown",
   "metadata": {},
   "source": [
    "\n",
    "$$P_{3d}=\\cfrac{\\cfrac{ -2x \\pm \\sqrt{3} \\mp \\sqrt{3}x^2 \\mp \\sqrt{3}y^2}{2+2x^2+2y^2}+(\\cfrac{2y}{1+x^2+y^2})i}{1-\\cfrac{ 1 -x^2 -y^2 \\pm 2\\sqrt{3}x}{2+2x^2+2y^2}}$$"
   ]
  },
  {
   "cell_type": "markdown",
   "metadata": {},
   "source": [
    "### stereographic equations\n"
   ]
  },
  {
   "cell_type": "markdown",
   "metadata": {},
   "source": [
    "\n",
    "Similar points of the triangle found using stereographic projection"
   ]
  },
  {
   "cell_type": "markdown",
   "metadata": {},
   "source": [
    "$$x + yi=z$$\n"
   ]
  },
  {
   "cell_type": "markdown",
   "metadata": {},
   "source": [
    "\n",
    "$$s=\\cfrac{1+x^2+y^2}{2}$$\n"
   ]
  },
  {
   "cell_type": "markdown",
   "metadata": {},
   "source": [
    "\n",
    "$$X=\\cfrac{x}{s}=\\cfrac{2x}{1+x^2+y^2}$$\n"
   ]
  },
  {
   "cell_type": "markdown",
   "metadata": {},
   "source": [
    "$$Y=\\cfrac{y}{s}=\\cfrac{2y}{1+x^2+y^2}$$"
   ]
  },
  {
   "cell_type": "markdown",
   "metadata": {},
   "source": [
    "\n",
    "$$Z=\\cfrac{s-1}{s}=\\cfrac{-1+x^2+y^2}{1+x^2+y^2}$$\n"
   ]
  },
  {
   "cell_type": "markdown",
   "metadata": {},
   "source": [
    "\n",
    "$$r=\\cfrac{-1 \\mp \\sqrt{3}i}{2}$$\n"
   ]
  },
  {
   "cell_type": "markdown",
   "metadata": {},
   "source": [
    "\n",
    "$$z_{r}=r(X+Zi)$$\n"
   ]
  },
  {
   "cell_type": "markdown",
   "metadata": {},
   "source": [
    "\n",
    "$$z_{r}=\\cfrac{-1 \\mp \\sqrt{3}i}{2} \\left( \\cfrac{2x}{1+x^2+y^2} + \\cfrac{-1+x^2+y^2}{1+x^2+y^2}i \\right) $$\n"
   ]
  },
  {
   "cell_type": "markdown",
   "metadata": {},
   "source": [
    "\n",
    "$$z_{r}=\\cfrac{  ( -1 \\mp \\sqrt{3}i)(2x -i+x^2i+y^2i )}{2 (1+x^2+y^2)}i $$\n"
   ]
  },
  {
   "cell_type": "markdown",
   "metadata": {},
   "source": [
    "\n",
    "$$z_{r}=\\cfrac{ -2x +i -x^2i -y^2i \\mp 2\\sqrt{3}xi \\pm \\sqrt{3} \\mp \\sqrt{3}x^2 \\mp \\sqrt{3}y^2}{2+2x^2+2y^2} $$\n"
   ]
  },
  {
   "cell_type": "markdown",
   "metadata": {},
   "source": [
    "\n",
    "$$z_{r}=\\cfrac{ -2x \\pm \\sqrt{3} \\mp \\sqrt{3}x^2 \\mp \\sqrt{3}y^2}{2+2x^2+2y^2} + \\frac{ 1 -x^2 -y^2 \\pm 2\\sqrt{3}x}{2+2x^2+2y^2}i $$\n"
   ]
  },
  {
   "cell_type": "markdown",
   "metadata": {},
   "source": [
    "\n",
    "$$X_{r}=\\cfrac {z_{r}+\\bar{z}_{r}}{2}= \\cfrac{ -2x \\pm \\sqrt{3} \\mp \\sqrt{3}x^2 \\mp \\sqrt{3}y^2}{2+2x^2+2y^2}$$\n"
   ]
  },
  {
   "cell_type": "markdown",
   "metadata": {},
   "source": [
    "\n",
    "$$Z_{r}=\\cfrac {z_{r}-\\bar{z}_{r}}{2i}=\\frac{ 1 -x^2 -y^2 \\pm 2\\sqrt{3}x}{2+2x^2+2y^2}$$\n",
    "\n"
   ]
  },
  {
   "cell_type": "markdown",
   "metadata": {},
   "source": [
    "$$Y_{r}=Y=\\cfrac{2y}{1+x^2+y^2}$$\n"
   ]
  },
  {
   "cell_type": "markdown",
   "metadata": {},
   "source": [
    "\n",
    "$$P_{3d}=\\cfrac{X_{r}+Y_{r}i}{1-Z_{r}}$$\n"
   ]
  },
  {
   "cell_type": "markdown",
   "metadata": {},
   "source": [
    "\n",
    "$$P_{3d}=\\cfrac{\\cfrac{ -2x \\pm \\sqrt{3} \\mp \\sqrt{3}x^2 \\mp \\sqrt{3}y^2}{2+2x^2+2y^2}+(\\cfrac{2y}{1+x^2+y^2})i}{1-\\cfrac{ 1 -x^2 -y^2 \\pm 2\\sqrt{3}x}{2+2x^2+2y^2}}$$\n"
   ]
  },
  {
   "cell_type": "markdown",
   "metadata": {},
   "source": [
    "$$P_{3d}=\n",
    "\\cfrac{\n",
    "  -2x \\pm \\sqrt{3} \\mp \\sqrt{3}x^2 \\mp \\sqrt{3}y^2 + 4yi\n",
    "}\n",
    "{\n",
    " 2 + 2x^2 + 2y^2 -1 +x^2 +y^2 \\mp 2\\sqrt{3}x\n",
    "}$$\n",
    "\n"
   ]
  },
  {
   "cell_type": "markdown",
   "metadata": {},
   "source": [
    "$$P_{3d}=\n",
    "\\cfrac{\n",
    "  -2x \\pm \\sqrt{3} \\mp \\sqrt{3}x^2 \\mp \\sqrt{3}y^2 + 4yi\n",
    "}\n",
    "{\n",
    " 1 + 3x^2 + 3y^2\\mp 2\\sqrt{3}x\n",
    "}$$\n"
   ]
  },
  {
   "cell_type": "markdown",
   "metadata": {},
   "source": [
    "\n",
    "$$P_{3d}=\n",
    "\\cfrac{\n",
    "  -2x \\pm \\sqrt{3} \\mp \\sqrt{3}x^2 \\mp \\sqrt{3}y^2\n",
    "}\n",
    "{\n",
    " 1 \\mp 2\\sqrt{3}x + 3x^2 + 3y^2\n",
    "}\n",
    "+\n",
    "\\cfrac{\n",
    "  4yi\n",
    "}\n",
    "{\n",
    " 1 \\mp 2\\sqrt{3}x + 3x^2 + 3y^2\n",
    "}\n",
    "$$\n"
   ]
  },
  {
   "cell_type": "markdown",
   "metadata": {},
   "source": [
    "Compared to the 2d planar equation previously found\n"
   ]
  },
  {
   "cell_type": "markdown",
   "metadata": {},
   "source": [
    "$$P_{3d}=\n",
    "\\cfrac{\n",
    "  -2x \\mp \\sqrt{3}x^2 \\mp \\sqrt{3}y^2 \\pm \\sqrt{3}\n",
    "}\n",
    "{\n",
    " 1 \\mp 2\\sqrt{3}x + 3x^2 + 3y^2\n",
    "}\n",
    "+\n",
    "\\cfrac{\n",
    "  4yi\n",
    "}\n",
    "{\n",
    " 1 \\mp 2\\sqrt{3}x + 3x^2 + 3y^2\n",
    "}\n",
    "$$"
   ]
  },
  {
   "cell_type": "markdown",
   "metadata": {},
   "source": [
    "\n",
    "the equations are equal"
   ]
  },
  {
   "cell_type": "markdown",
   "metadata": {},
   "source": [
    "### code\n",
    "\n",
    "equation equal tests using random points"
   ]
  },
  {
   "cell_type": "code",
   "execution_count": 1,
   "metadata": {
    "collapsed": false
   },
   "outputs": [],
   "source": [
    "from random import random\n",
    "from math   import sqrt\n",
    "from cmath  import isclose"
   ]
  },
  {
   "cell_type": "code",
   "execution_count": 2,
   "metadata": {
    "collapsed": true
   },
   "outputs": [],
   "source": [
    "# compare_function() will generate random points and test the given functions are within rounding errors\n",
    "def compare_equations(a,b):\n",
    "    for n in range(100):\n",
    "        x,y = 10*random()-5,10*random()-5\n",
    "        a1,a2 = a(x,y)\n",
    "        b1,b2 = b(x,y)\n",
    "        if not (isclose(a1,b1) and isclose(a2,b2)):\n",
    "            print('Test Failed at (x,y) = ({},{})'.format(x,y))\n",
    "            print(x,y)\n",
    "            print(a1,a2)\n",
    "            print(b1,b2)\n",
    "            break\n",
    "    print('Test complete')"
   ]
  },
  {
   "cell_type": "code",
   "execution_count": 3,
   "metadata": {
    "collapsed": true
   },
   "outputs": [],
   "source": [
    "def P3d(x,y):\n",
    "    i = 1j\n",
    "    s = (x**2 + y**2 + 1)/2\n",
    "    X = x/s\n",
    "    Y = y/s\n",
    "    Z = (s-1)/s\n",
    "    z = X+Z*i\n",
    "    p = ()\n",
    "    for sign in (1,-1):\n",
    "        r   = (-1+sign*sqrt(3)*i)/2\n",
    "        zr  = r*z\n",
    "        zrc = zr.conjugate()\n",
    "        Xr  = (zr+zrc)/2\n",
    "        Zr  = (zr-zrc)/(2*i)\n",
    "        p  += ((Xr+Y*i)/(1-Zr),)\n",
    "    return p\n"
   ]
  },
  {
   "cell_type": "code",
   "execution_count": 4,
   "metadata": {
    "collapsed": false
   },
   "outputs": [
    {
     "name": "stdout",
     "output_type": "stream",
     "text": [
      "Test complete\n"
     ]
    }
   ],
   "source": [
    "def P2d(x,y):\n",
    "    r = 1/sqrt(3)\n",
    "    z = x + y*1j\n",
    "    z = z.conjugate()\n",
    "    p = -(4*r**2*(z-r)/(abs(z-r)**2)+r), \\\n",
    "        -(4*r**2*(z+r)/(abs(z+r)**2)-r)\n",
    "    return p\n",
    "\n",
    "compare_equations(P2d,P3d)"
   ]
  },
  {
   "cell_type": "code",
   "execution_count": 5,
   "metadata": {
    "collapsed": false
   },
   "outputs": [
    {
     "name": "stdout",
     "output_type": "stream",
     "text": [
      "Test complete\n"
     ]
    }
   ],
   "source": [
    "def P2d(x,y):\n",
    "    z = x + y*1j\n",
    "    z = z.conjugate()\n",
    "    p = -4/3*(z-1/sqrt(3))/(abs(z-1/sqrt(3))**2)-1/sqrt(3), \\\n",
    "        -4/3*(z+1/sqrt(3))/(abs(z+1/sqrt(3))**2)+1/sqrt(3),\n",
    "    return p\n",
    "\n",
    "compare_equations(P2d,P3d)"
   ]
  },
  {
   "cell_type": "code",
   "execution_count": 6,
   "metadata": {
    "collapsed": false
   },
   "outputs": [
    {
     "name": "stdout",
     "output_type": "stream",
     "text": [
      "Test complete\n"
     ]
    }
   ],
   "source": [
    "def P2d(x,y):\n",
    "    p = -4/3*(x-y*1j-1/sqrt(3))/(abs(x-y*1j-1/sqrt(3))**2)-1/sqrt(3), \\\n",
    "        -4/3*(x-y*1j+1/sqrt(3))/(abs(x-y*1j+1/sqrt(3))**2)+1/sqrt(3),\n",
    "    return p\n",
    "\n",
    "compare_equations(P2d,P3d)"
   ]
  },
  {
   "cell_type": "code",
   "execution_count": 7,
   "metadata": {
    "collapsed": false
   },
   "outputs": [
    {
     "name": "stdout",
     "output_type": "stream",
     "text": [
      "Test complete\n"
     ]
    }
   ],
   "source": [
    "def P2d(x,y):\n",
    "    p = -4/3*(x-y*1j-1/sqrt(3))/((x-1/sqrt(3))**2+(y)**2)-1/sqrt(3), \\\n",
    "        -4/3*(x-y*1j+1/sqrt(3))/((x+1/sqrt(3))**2+(y)**2)+1/sqrt(3),\n",
    "    return p\n",
    "\n",
    "compare_equations(P2d,P3d)"
   ]
  },
  {
   "cell_type": "code",
   "execution_count": 8,
   "metadata": {
    "collapsed": false
   },
   "outputs": [
    {
     "name": "stdout",
     "output_type": "stream",
     "text": [
      "Test complete\n"
     ]
    }
   ],
   "source": [
    "def P2d(x,y):\n",
    "    p = 4*(x-y*1j-1/sqrt(3))/(-3*(x**2-2/sqrt(3)*x+1/3+y**2))-1/sqrt(3), \\\n",
    "        4*(x-y*1j+1/sqrt(3))/(-3*(x**2+2/sqrt(3)*x+1/3+y**2))+1/sqrt(3),\n",
    "    return p\n",
    "\n",
    "compare_equations(P2d,P3d)"
   ]
  },
  {
   "cell_type": "code",
   "execution_count": 9,
   "metadata": {
    "collapsed": false
   },
   "outputs": [
    {
     "name": "stdout",
     "output_type": "stream",
     "text": [
      "Test complete\n"
     ]
    }
   ],
   "source": [
    "def P2d(x,y):\n",
    "    p = (4*x-4*y*1j-4/sqrt(3))/(-3*x**2+2*sqrt(3)*x-1-3*y**2)-1/sqrt(3), \\\n",
    "        -4/3*(x-y*1j+1/sqrt(3))/((x+1/sqrt(3))**2+(y)**2)+1/sqrt(3),\n",
    "    return p\n",
    "\n",
    "compare_equations(P2d,P3d)"
   ]
  },
  {
   "cell_type": "code",
   "execution_count": 10,
   "metadata": {
    "collapsed": false
   },
   "outputs": [
    {
     "name": "stdout",
     "output_type": "stream",
     "text": [
      "Test complete\n"
     ]
    }
   ],
   "source": [
    "def P2d(x,y):\n",
    "    p = (4*x-4*y*1j-4/sqrt(3)+sqrt(3)*x**2-2*x+1/sqrt(3)+sqrt(3)*y**2)/(-3*x**2+2*sqrt(3)*x-1-3*y**2), \\\n",
    "        (4*x-4*y*1j+4/sqrt(3)-sqrt(3)*x**2-2*x-1/sqrt(3)-sqrt(3)*y**2)/(-3*x**2-2*sqrt(3)*x-1-3*y**2),\n",
    "    return p\n",
    "\n",
    "compare_equations(P2d,P3d)"
   ]
  },
  {
   "cell_type": "code",
   "execution_count": 11,
   "metadata": {
    "collapsed": false
   },
   "outputs": [
    {
     "name": "stdout",
     "output_type": "stream",
     "text": [
      "Test complete\n"
     ]
    }
   ],
   "source": [
    "def P2d(x,y):\n",
    "    p = (2*x-4*y*1j-3/sqrt(3)+sqrt(3)*x**2+sqrt(3)*y**2)/(-3*x**2+2*sqrt(3)*x-1-3*y**2), \\\n",
    "        (2*x-4*y*1j+3/sqrt(3)-sqrt(3)*x**2-sqrt(3)*y**2)/(-3*x**2-2*sqrt(3)*x-1-3*y**2),\n",
    "    return p\n",
    "\n",
    "compare_equations(P2d,P3d)"
   ]
  },
  {
   "cell_type": "code",
   "execution_count": 12,
   "metadata": {
    "collapsed": false
   },
   "outputs": [
    {
     "name": "stdout",
     "output_type": "stream",
     "text": [
      "Test complete\n"
     ]
    }
   ],
   "source": [
    "def P2d(x,y):\n",
    "    p = (+sqrt(3)*x*x+sqrt(3)*y*y+2*x-sqrt(3))/(-3*x*x-3*y*y+2*sqrt(3)*x-1)+(-4*y)/(-3*x*x-3*y*y+2*sqrt(3)*x-1)*1j, \\\n",
    "        (-sqrt(3)*x*x-sqrt(3)*y*y+2*x+sqrt(3))/(-3*x*x-3*y*y-2*sqrt(3)*x-1)+(-4*y)/(-3*x*x-3*y*y-2*sqrt(3)*x-1)*1j,\n",
    "    return p\n",
    "\n",
    "compare_equations(P2d,P3d)"
   ]
  }
 ],
 "metadata": {
  "kernelspec": {
   "display_name": "Python 3",
   "language": "python",
   "name": "python3"
  },
  "language_info": {
   "codemirror_mode": {
    "name": "ipython",
    "version": 3
   },
   "file_extension": ".py",
   "mimetype": "text/x-python",
   "name": "python",
   "nbconvert_exporter": "python",
   "pygments_lexer": "ipython3",
   "version": "3.5.3"
  }
 },
 "nbformat": 4,
 "nbformat_minor": 2
}
