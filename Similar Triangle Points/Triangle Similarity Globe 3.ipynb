{
 "cells": [
  {
   "cell_type": "markdown",
   "metadata": {},
   "source": [
    "<img src=\"drawings/spinor.png\">"
   ]
  },
  {
   "cell_type": "markdown",
   "metadata": {},
   "source": [
    "# stereographic symmetry of fixed base triangles"
   ]
  },
  {
   "cell_type": "markdown",
   "metadata": {},
   "source": [
    " \n",
    " \n",
    " "
   ]
  },
  {
   "cell_type": "markdown",
   "metadata": {},
   "source": [
    "### purpose\n"
   ]
  },
  {
   "cell_type": "markdown",
   "metadata": {},
   "source": [
    "A base is a segment of a line, and a triangle is a point relative to it"
   ]
  },
  {
   "cell_type": "markdown",
   "metadata": {},
   "source": [
    "<img src=\"drawings/drawing0.png\">"
   ]
  },
  {
   "cell_type": "markdown",
   "metadata": {},
   "source": [
    "Only two other similar triangles sit on top of that line"
   ]
  },
  {
   "cell_type": "markdown",
   "metadata": {},
   "source": [
    "<img src=\"drawings/drawing1.png\">"
   ]
  },
  {
   "cell_type": "markdown",
   "metadata": {},
   "source": [
    "that have the same rotational order of angles"
   ]
  },
  {
   "cell_type": "markdown",
   "metadata": {},
   "source": [
    "<img src=\"drawings/drawing2.png\">"
   ]
  },
  {
   "cell_type": "markdown",
   "metadata": {},
   "source": [
    "and scaled to fit on that same base segment"
   ]
  },
  {
   "cell_type": "markdown",
   "metadata": {},
   "source": [
    "<img src=\"drawings/drawing4.png\">"
   ]
  },
  {
   "cell_type": "markdown",
   "metadata": {},
   "source": [
    "Here will be provided two methods of finding these other triangle points when one point is given over a fixed base"
   ]
  },
  {
   "cell_type": "markdown",
   "metadata": {},
   "source": [
    "<img src=\"drawings/drawing5.png\">"
   ]
  },
  {
   "cell_type": "markdown",
   "metadata": {},
   "source": [
    "Two related equations are developed and then proven to be equal"
   ]
  },
  {
   "cell_type": "markdown",
   "metadata": {},
   "source": [
    "### method"
   ]
  },
  {
   "cell_type": "markdown",
   "metadata": {},
   "source": [
    "\n",
    "Any similar triangle, when rotated and scaled, can be placed on a base of two fixed points so that its third point could be in any of three positions relative to one side of that base. A natural way to find the remaining two points, when one is provide, is to move and scale the provided point by using the angles and proportions of that point. Yet, there is another way to find the two additional points which displays more balance and symmetry.\n",
    "\n",
    "The first method employed is named <b>planar rotation</b> and referred to as 2d rotation within this report. It is found using complex operations. Operations are applied over a plane with only two axis for consideration.\n",
    "\n",
    "<b>Projected revolution</b> is the second method. In this notebook it is referred to as 3d rotation because the technique uses stereograpgic projection to find the same points. This requires an extra dimensional consideration. The point will be projected off of its plane into another space where it will intersect with the surface of a sphere.\n",
    "\n",
    "In the process, an aspect of triangle similarity is displayed showing that changes in triangle types are symmetrically more balanced when considered through the stereo projection method. The pattern of rotated similar triangles is balanced symmetrically on the surface of a sphere in relation to a fixed base.\n",
    "\n",
    "A geometric model for each method is presented."
   ]
  },
  {
   "cell_type": "markdown",
   "metadata": {},
   "source": [
    "### planar rotation"
   ]
  },
  {
   "cell_type": "markdown",
   "metadata": {},
   "source": [
    "\n",
    "The first method uses complex vector properties to shift, reflect and scale a given complex point."
   ]
  },
  {
   "cell_type": "markdown",
   "metadata": {},
   "source": [
    "overview of complex vector manipulation\n",
    "\n",
    "* subtraction shifts left\n",
    "* addition shifts right\n",
    "* conjugate reflects across the y-axis\n",
    "* negation reflects through the origin\n",
    "* multiplication scales from the origin according to its factor"
   ]
  },
  {
   "cell_type": "markdown",
   "metadata": {},
   "source": [
    "Consider this diagram"
   ]
  },
  {
   "cell_type": "markdown",
   "metadata": {},
   "source": [
    "<img src=\"img/geo_negS.png\">"
   ]
  },
  {
   "cell_type": "markdown",
   "metadata": {},
   "source": [
    "where $A$ to $F$ are third points of similar triangles having base length $2r$\n",
    "\n",
    "the point $o$ is the orgin of vectors to each of the lettered points\n",
    "\n",
    "then $F$ is a solution triangle point from given point $A$ as"
   ]
  },
  {
   "cell_type": "markdown",
   "metadata": {},
   "source": [
    "$$B=\\bar{A}$$"
   ]
  },
  {
   "cell_type": "markdown",
   "metadata": {},
   "source": [
    "$$C=B-r$$"
   ]
  },
  {
   "cell_type": "markdown",
   "metadata": {},
   "source": [
    "$$D=f_{r}\\cdot C$$"
   ]
  },
  {
   "cell_type": "markdown",
   "metadata": {},
   "source": [
    "$$E=-D$$"
   ]
  },
  {
   "cell_type": "markdown",
   "metadata": {},
   "source": [
    "$$F=E-r$$"
   ]
  },
  {
   "cell_type": "markdown",
   "metadata": {},
   "source": [
    "where $f_{r}$ is $C$ scaled to $D$ or $\\cfrac{|D|}{|C|}$, according to these triangles taken from the diagram"
   ]
  },
  {
   "cell_type": "markdown",
   "metadata": {},
   "source": [
    "<img src=\"img/geo_neg_scaleA.png\">"
   ]
  },
  {
   "cell_type": "markdown",
   "metadata": {},
   "source": [
    "$$\\cfrac{2r}{|C|} = \\cfrac{|D|}{2r}$$"
   ]
  },
  {
   "cell_type": "markdown",
   "metadata": {},
   "source": [
    "$$|D|=\\cfrac{(2r)^2}{|C|}$$"
   ]
  },
  {
   "cell_type": "markdown",
   "metadata": {},
   "source": [
    "$$f_{r}=\\cfrac{|D|}{|C|}$$"
   ]
  },
  {
   "cell_type": "markdown",
   "metadata": {},
   "source": [
    "$$f_{r}=\\cfrac{(2r)^2}{|C|^2}$$"
   ]
  },
  {
   "cell_type": "markdown",
   "metadata": {},
   "source": [
    "$$f_{r}=\\cfrac{4r^2}{|C|^2}$$"
   ]
  },
  {
   "cell_type": "markdown",
   "metadata": {},
   "source": [
    "let $z$ be the vector to given point $A$ to solve for $F$"
   ]
  },
  {
   "cell_type": "markdown",
   "metadata": {},
   "source": [
    "$$z=A$$"
   ]
  },
  {
   "cell_type": "markdown",
   "metadata": {},
   "source": [
    "$$B=\\bar{z}$$"
   ]
  },
  {
   "cell_type": "markdown",
   "metadata": {},
   "source": [
    "$$C=\\bar{z}-r$$"
   ]
  },
  {
   "cell_type": "markdown",
   "metadata": {},
   "source": [
    "$$D=f_{r}\\cdot (\\bar{z}-r)$$"
   ]
  },
  {
   "cell_type": "markdown",
   "metadata": {},
   "source": [
    "$$D=\\cfrac{4r^2}{|C|^2}\\cdot (\\bar{z}-r)$$"
   ]
  },
  {
   "cell_type": "markdown",
   "metadata": {},
   "source": [
    "$$D=4r^2\\cfrac{\\bar{z}-r}{|\\bar{z}-r|^2}$$"
   ]
  },
  {
   "cell_type": "markdown",
   "metadata": {},
   "source": [
    "$$E=-4r^2\\cfrac{\\bar{z}-r}{|\\bar{z}-r|^2}$$"
   ]
  },
  {
   "cell_type": "markdown",
   "metadata": {},
   "source": [
    "$$F=-4r^2\\cfrac{\\bar{z}-r}{|\\bar{z}-r|^2}-r$$"
   ]
  },
  {
   "cell_type": "markdown",
   "metadata": {},
   "source": [
    "$F$ is one solution to the problem of the purpose"
   ]
  },
  {
   "cell_type": "markdown",
   "metadata": {},
   "source": [
    "The process is repeated in a similar manner to find the other point using this diagram"
   ]
  },
  {
   "cell_type": "markdown",
   "metadata": {},
   "source": [
    "<img src=\"img/geo_posS.png\">"
   ]
  },
  {
   "cell_type": "markdown",
   "metadata": {},
   "source": [
    "where $A$ is the same point previously given and $G$ to $K$ are third points of similar triangles having base length $2r$\n",
    "\n",
    "the point $o$ is the orgin of vectors to each of the lettered points\n",
    "\n",
    "then $K$ is a solution triangle point from given point $A$ as"
   ]
  },
  {
   "cell_type": "markdown",
   "metadata": {},
   "source": [
    "$$G=\\bar{A}$$"
   ]
  },
  {
   "cell_type": "markdown",
   "metadata": {},
   "source": [
    "$$H=G+r$$"
   ]
  },
  {
   "cell_type": "markdown",
   "metadata": {},
   "source": [
    "$$I=f_{l}\\cdot H$$"
   ]
  },
  {
   "cell_type": "markdown",
   "metadata": {},
   "source": [
    "$$J=-I$$"
   ]
  },
  {
   "cell_type": "markdown",
   "metadata": {},
   "source": [
    "$$K=J+r$$"
   ]
  },
  {
   "cell_type": "markdown",
   "metadata": {},
   "source": [
    "where $f_{l}$ is $H$ scaled to $I$ or $\\cfrac{|H|}{|I|}$, according to these triangles taken from the diagram"
   ]
  },
  {
   "cell_type": "markdown",
   "metadata": {},
   "source": [
    "<img src=\"img/geo_pos_scaleA.png\">"
   ]
  },
  {
   "cell_type": "markdown",
   "metadata": {},
   "source": [
    "$$\\cfrac{2r}{|H|} = \\cfrac{|I|}{2r}$$"
   ]
  },
  {
   "cell_type": "markdown",
   "metadata": {},
   "source": [
    "$$|I|=\\cfrac{(2r)^2}{|H|}$$"
   ]
  },
  {
   "cell_type": "markdown",
   "metadata": {},
   "source": [
    "$$f_{l}=\\cfrac{|I|}{|H|}$$"
   ]
  },
  {
   "cell_type": "markdown",
   "metadata": {},
   "source": [
    "$$f_{l}=\\cfrac{(2r)^2}{|H|^2}$$"
   ]
  },
  {
   "cell_type": "markdown",
   "metadata": {},
   "source": [
    "$$f_{l}=\\cfrac{4r^2}{|H|^2}$$"
   ]
  },
  {
   "cell_type": "markdown",
   "metadata": {},
   "source": [
    "solving for $K$ with vector point $z$ from $o$ to $A$"
   ]
  },
  {
   "cell_type": "markdown",
   "metadata": {},
   "source": [
    "$$z=A$$"
   ]
  },
  {
   "cell_type": "markdown",
   "metadata": {},
   "source": [
    "$$G=\\bar{z}$$"
   ]
  },
  {
   "cell_type": "markdown",
   "metadata": {},
   "source": [
    "$$H=\\bar{z}+r$$"
   ]
  },
  {
   "cell_type": "markdown",
   "metadata": {},
   "source": [
    "$$I=f_{l} \\cdot (\\bar{z}+r)$$"
   ]
  },
  {
   "cell_type": "markdown",
   "metadata": {},
   "source": [
    "$$I=\\cfrac{4r^2}{|H|^2}\\cdot (\\bar{z}+r)$$"
   ]
  },
  {
   "cell_type": "markdown",
   "metadata": {},
   "source": [
    "$$I=4r^2\\cfrac{\\bar{z}+r}{|\\bar{z}+r|^2}$$"
   ]
  },
  {
   "cell_type": "markdown",
   "metadata": {},
   "source": [
    "$$J=-4r^2\\cfrac{\\bar{z}+r}{|\\bar{z}+r|^2}$$"
   ]
  },
  {
   "cell_type": "markdown",
   "metadata": {},
   "source": [
    "$$K=-4r^2\\cfrac{\\bar{z}+r}{|\\bar{z}+r|^2}+r$$"
   ]
  },
  {
   "cell_type": "markdown",
   "metadata": {},
   "source": [
    "$K$, along with $F$, are the two solutions to the purpose"
   ]
  },
  {
   "cell_type": "markdown",
   "metadata": {},
   "source": [
    "Combine both $F$ and $K$ into a single solution $P_{2d}$"
   ]
  },
  {
   "cell_type": "markdown",
   "metadata": {},
   "source": [
    "$$P_{2d}=-4r^2\\cfrac{\\bar{z} \\pm r}{|\\bar{z} \\pm r|^2} \\pm r$$"
   ]
  },
  {
   "cell_type": "markdown",
   "metadata": {},
   "source": [
    "$P_{2d}$ is the equation of the 2d planar rotation solution"
   ]
  },
  {
   "cell_type": "markdown",
   "metadata": {},
   "source": [
    "## stereographic projection"
   ]
  },
  {
   "cell_type": "markdown",
   "metadata": {},
   "source": [
    "The second method employs stereographic projection. The given point is projected on to the surface of a sphere. The sphere is centered at the orgin, mid-base, and has unit radius of √3 base.\n",
    "\n",
    "The projected point is rotated a third of a turn in each direction on the surface of the sphere through the y-axis of the triangle plane through the center and perpendicular to its base. Those revolved points projected back to the plane will be the two points of its other similar triangles."
   ]
  },
  {
   "cell_type": "markdown",
   "metadata": {},
   "source": [
    "A triangle solution is shown over a fixed base where if any one of these triangle were given, the other two are solutions"
   ]
  },
  {
   "cell_type": "markdown",
   "metadata": {},
   "source": [
    "<img src=\"stereo/stereo0s.png\">"
   ]
  },
  {
   "cell_type": "markdown",
   "metadata": {},
   "source": [
    "A third dimension z is at right angle to the existing x and y plane on which the triangles are drawn"
   ]
  },
  {
   "cell_type": "markdown",
   "metadata": {},
   "source": [
    "<img src=\"stereo/stereo00cs.png\">"
   ]
  },
  {
   "cell_type": "markdown",
   "metadata": {},
   "source": [
    "Stereographic projection connection the three triangle points to one over the x-y plane origin"
   ]
  },
  {
   "cell_type": "markdown",
   "metadata": {},
   "source": [
    "<img src=\"stereo/stereo11cs.png\">"
   ]
  },
  {
   "cell_type": "markdown",
   "metadata": {},
   "source": [
    "The projected points form a vetical ring around the y-axis and the projected points on it for an equilateral triangle."
   ]
  },
  {
   "cell_type": "markdown",
   "metadata": {},
   "source": [
    "<img src=\"stereo/stereo22cs.png\">"
   ]
  },
  {
   "cell_type": "markdown",
   "metadata": {},
   "source": [
    "<img src=\"stereo/stereo3bs.png\">"
   ]
  },
  {
   "cell_type": "markdown",
   "metadata": {},
   "source": [
    "The 3d projection method will find the two other triangle points by projecting the given point as shown, revolving around the vertical ring to find two other positions on the circle and then project back to the plane"
   ]
  },
  {
   "cell_type": "markdown",
   "metadata": {},
   "source": [
    "<img src=\"stereo/stereo3s.png\">"
   ]
  },
  {
   "cell_type": "markdown",
   "metadata": {},
   "source": [
    "The equation for finding these new point according to this process is presented"
   ]
  },
  {
   "cell_type": "markdown",
   "metadata": {},
   "source": [
    "\n",
    "stereographic project the given x,y point on to the unit sphere to produce X, Y and Z\n"
   ]
  },
  {
   "cell_type": "markdown",
   "metadata": {},
   "source": [
    "\n",
    "$$s=\\cfrac{x^2+y^2+1}{2}$$\n"
   ]
  },
  {
   "cell_type": "markdown",
   "metadata": {},
   "source": [
    "\n",
    "$$X=x/s$$\n"
   ]
  },
  {
   "cell_type": "markdown",
   "metadata": {},
   "source": [
    "\n",
    "$$Y=y/s$$\n"
   ]
  },
  {
   "cell_type": "markdown",
   "metadata": {},
   "source": [
    "\n",
    "$$Z=\\cfrac{s-1}{s}$$\n"
   ]
  },
  {
   "cell_type": "markdown",
   "metadata": {},
   "source": [
    "\n",
    "let r be the complex parts of the primitive third (cube) roots of unity\n"
   ]
  },
  {
   "cell_type": "markdown",
   "metadata": {},
   "source": [
    "\n",
    "$$r= \\sqrt[3]{-1}$$\n"
   ]
  },
  {
   "cell_type": "markdown",
   "metadata": {},
   "source": [
    "\n",
    "to obtain $1/3$ turn rotation vectors\n"
   ]
  },
  {
   "cell_type": "markdown",
   "metadata": {},
   "source": [
    "\n",
    "$$r=\\cfrac{-1\\pm\\sqrt{3}i}{2}$$\n"
   ]
  },
  {
   "cell_type": "markdown",
   "metadata": {},
   "source": [
    "\n",
    "providing a third turn rotation over the X and Z coordinates\n"
   ]
  },
  {
   "cell_type": "markdown",
   "metadata": {},
   "source": [
    "\n",
    "$$z_{r}=r(X+Zi)$$\n"
   ]
  },
  {
   "cell_type": "markdown",
   "metadata": {},
   "source": [
    "\n",
    "Seperate this solution into X and Z\n"
   ]
  },
  {
   "cell_type": "markdown",
   "metadata": {},
   "source": [
    "\n",
    "$$X_{r}+Z_{r}i=z_{r}$$\n"
   ]
  },
  {
   "cell_type": "markdown",
   "metadata": {},
   "source": [
    "\n",
    "as the components of $z_{r}$ using\n"
   ]
  },
  {
   "cell_type": "markdown",
   "metadata": {},
   "source": [
    "\n",
    "$$X_{r}=\\cfrac {z_{r}+\\bar{z}_{r}}{2}$$\n"
   ]
  },
  {
   "cell_type": "markdown",
   "metadata": {},
   "source": [
    "\n",
    "$$Z_{r}=\\cfrac {z_{r}-\\bar{z}_{r}}{2i}$$\n"
   ]
  },
  {
   "cell_type": "markdown",
   "metadata": {},
   "source": [
    "\n",
    "gives $X_r$ and $Z_r$ the positions of their originals revolved about the y-axis.\n",
    "\n",
    "Finally it is projected, with the unchanged third coordinate $Y$ back to the x-y plane\n"
   ]
  },
  {
   "cell_type": "markdown",
   "metadata": {},
   "source": [
    "\n",
    "$$P_{3d}=\\cfrac{X_{r}+Yi}{1-Z_{r}}$$\n"
   ]
  },
  {
   "cell_type": "markdown",
   "metadata": {},
   "source": [
    "producing the other solution points.\n",
    "\n",
    "This report claims that these methods are equivelent so that $P_{3d}=P_{2d}$"
   ]
  },
  {
   "cell_type": "markdown",
   "metadata": {},
   "source": [
    "### proof of equality"
   ]
  },
  {
   "cell_type": "markdown",
   "metadata": {},
   "source": [
    "This section proves that equations $P_{2d}$ and $P_{3d}$ found above are equivelent\n",
    "\n",
    "The stereographic equation is manipulated to show it is equal to the planar solution\n",
    "\n",
    "The stereographic projection formulas for a unit circle centered at the origin are"
   ]
  },
  {
   "cell_type": "markdown",
   "metadata": {},
   "source": [
    "\n",
    "$$s=\\cfrac{1+x^2+y^2}{2}$$\n"
   ]
  },
  {
   "cell_type": "markdown",
   "metadata": {},
   "source": [
    "\n",
    "$$X=\\cfrac{x}{s}=\\cfrac{2x}{1+x^2+y^2}$$\n"
   ]
  },
  {
   "cell_type": "markdown",
   "metadata": {},
   "source": [
    "$$Y=\\cfrac{y}{s}=\\cfrac{2y}{1+x^2+y^2}$$"
   ]
  },
  {
   "cell_type": "markdown",
   "metadata": {},
   "source": [
    "\n",
    "$$Z=\\cfrac{s-1}{s}=\\cfrac{-1+x^2+y^2}{1+x^2+y^2}$$\n"
   ]
  },
  {
   "cell_type": "markdown",
   "metadata": {},
   "source": [
    "a stereographic projection point rotated 1/3 turn on x-z plane as $z_r$"
   ]
  },
  {
   "cell_type": "markdown",
   "metadata": {},
   "source": [
    "$$r=\\cfrac{-1 \\pm \\sqrt{3}i}{2}$$"
   ]
  },
  {
   "cell_type": "markdown",
   "metadata": {},
   "source": [
    "a rotation applied to projected points $X$ and $Z$"
   ]
  },
  {
   "cell_type": "markdown",
   "metadata": {},
   "source": [
    "$$z_{r}=r(X+Zi)$$"
   ]
  },
  {
   "cell_type": "markdown",
   "metadata": {},
   "source": [
    "the rotated stereographically projected points in terms of x and y components"
   ]
  },
  {
   "cell_type": "markdown",
   "metadata": {},
   "source": [
    "$$z_{r}=\\cfrac{-1 \\pm \\sqrt{3}i}{2} \\left( \\cfrac{2x}{1+x^2+y^2} + \\cfrac{-1+x^2+y^2}{1+x^2+y^2}i \\right) $$"
   ]
  },
  {
   "cell_type": "markdown",
   "metadata": {},
   "source": [
    "$$=\\cfrac{  ( -1 \\pm \\sqrt{3}i)(2x -i+x^2i+y^2i )}{2 (1+x^2+y^2)}i $$"
   ]
  },
  {
   "cell_type": "markdown",
   "metadata": {},
   "source": [
    "$$=\\cfrac{ -2x +i -x^2i -y^2i \\pm 2\\sqrt{3}xi \\mp \\sqrt{3} \\pm \\sqrt{3}x^2 \\pm \\sqrt{3}y^2}{2+2x^2+2y^2} $$"
   ]
  },
  {
   "cell_type": "markdown",
   "metadata": {},
   "source": [
    "$$=\\cfrac{ -2x \\mp \\sqrt{3} \\pm \\sqrt{3}x^2 \\pm \\sqrt{3}y^2}{2+2x^2+2y^2} + \\cfrac{ 1 -x^2 -y^2 \\pm 2\\sqrt{3}x}{2+2x^2+2y^2}i $$"
   ]
  },
  {
   "cell_type": "markdown",
   "metadata": {},
   "source": [
    "components of $z_r$ extracted as $X_r$ and $Z_r$ whie $Y$ is stationary"
   ]
  },
  {
   "cell_type": "markdown",
   "metadata": {},
   "source": [
    "$$X_{r}=\\cfrac {z_{r}+\\bar{z}_{r}}{2}= \\cfrac{ -2x \\mp \\sqrt{3} \\pm \\sqrt{3}x^2 \\pm \\sqrt{3}y^2}{2+2x^2+2y^2}$$"
   ]
  },
  {
   "cell_type": "markdown",
   "metadata": {},
   "source": [
    "\n",
    "$$Z_{r}=\\cfrac {z_{r}-\\bar{z}_{r}}{2i}=\\cfrac{ 1 -x^2 -y^2 \\pm 2\\sqrt{3}x}{2+2x^2+2y^2}$$\n",
    "\n"
   ]
  },
  {
   "cell_type": "markdown",
   "metadata": {},
   "source": [
    "$$Y_{r}=Y=\\cfrac{2y}{1+x^2+y^2}$$\n"
   ]
  },
  {
   "cell_type": "markdown",
   "metadata": {},
   "source": [
    "rotated stereographic points projected back to the plane"
   ]
  },
  {
   "cell_type": "markdown",
   "metadata": {},
   "source": [
    "$$P_{3d}=\\cfrac{X_{r}+Y_{r}i}{1-Z_{r}}$$"
   ]
  },
  {
   "cell_type": "markdown",
   "metadata": {},
   "source": [
    "the equation experessed in terms of x and y which can be reduced"
   ]
  },
  {
   "cell_type": "markdown",
   "metadata": {},
   "source": [
    "$$P_{3d}=\\cfrac{\\cfrac{ -2x \\mp \\sqrt{3} \\pm \\sqrt{3}x^2 \\pm \\sqrt{3}y^2}{2+2x^2+2y^2}+(\\cfrac{2y}{1+x^2+y^2})i}{1-\\cfrac{ 1 -x^2 -y^2 \\pm 2\\sqrt{3}x}{2+2x^2+2y^2}}$$"
   ]
  },
  {
   "cell_type": "markdown",
   "metadata": {},
   "source": [
    "$$=\n",
    "\\cfrac{\\cfrac{ -2x \\mp \\sqrt{3} \\pm \\sqrt{3}x^2 \\pm \\sqrt{3}y^2}{2+2x^2+2y^2}\n",
    "+\n",
    "\\cfrac{2yi}{1+x^2+y^2}\n",
    "\\times \\cfrac{2}{2}\n",
    "}{1 \n",
    "\\times\n",
    " \\cfrac{2+2x^2+2y^2}{2+2x^2+2y^2}\n",
    "- \\cfrac{ 1 -x^2 -y^2 \\pm 2\\sqrt{3}x}{2+2x^2+2y^2}}\n",
    "$$"
   ]
  },
  {
   "cell_type": "markdown",
   "metadata": {},
   "source": [
    "$$=\n",
    "\\cfrac\n",
    "{\n",
    "  \\cfrac{ -2x \\mp \\sqrt{3} \\pm \\sqrt{3}x^2 \\pm \\sqrt{3}y^2 + 4yi}{2+2x^2+2y^2}\n",
    "}{\n",
    "  \\cfrac{2+2x^2+2y^2 -1 +x^2 +y^2 \\mp 2\\sqrt{3}x}{2+2x^2+2y^2}\n",
    "}\n",
    "\\times\n",
    "\\cfrac\n",
    "{\n",
    "  2+2x^2+2y^2\n",
    "}{ \n",
    "  2+2x^2+2y^2\n",
    "}\n",
    "$$"
   ]
  },
  {
   "cell_type": "markdown",
   "metadata": {},
   "source": [
    "$$=\n",
    "\\cfrac{\n",
    "  -2x \\mp \\sqrt{3} \\pm \\sqrt{3}x^2 \\pm \\sqrt{3}y^2 + 4yi\n",
    "}\n",
    "{\n",
    " 2 + 2x^2 + 2y^2 -1 +x^2 +y^2 \\mp 2\\sqrt{3}x\n",
    "}$$\n",
    "\n"
   ]
  },
  {
   "cell_type": "markdown",
   "metadata": {},
   "source": [
    "$$=\n",
    "\\cfrac{\n",
    "  -2x \\mp \\sqrt{3} \\pm \\sqrt{3}x^2 \\pm \\sqrt{3}y^2 + 4yi\n",
    "}\n",
    "{\n",
    " 1 + 3x^2 + 3y^2\\mp 2\\sqrt{3}x\n",
    "}$$\n"
   ]
  },
  {
   "cell_type": "markdown",
   "metadata": {},
   "source": [
    "$$=\n",
    "\\cfrac{\n",
    "  -2x \\mp \\sqrt{3} \\pm \\sqrt{3}x^2 \\pm \\sqrt{3}y^2 + 4yi\n",
    "}\n",
    "{\n",
    " 1 + 3x^2 + 3y^2\\mp 2\\sqrt{3}x\n",
    "}\n",
    "\\cdot \\cfrac{-1}{-1}\n",
    "$$\n"
   ]
  },
  {
   "cell_type": "markdown",
   "metadata": {},
   "source": [
    "$$=\n",
    "\\cfrac{2x - 4yi \\pm \\cfrac{3}{\\sqrt{3}} \\mp \\sqrt{3}x^2 \\mp \\sqrt{3}y^2 }{-3x^2 \\pm 2\\sqrt{3}x-1-3y^2} $$"
   ]
  },
  {
   "cell_type": "markdown",
   "metadata": {},
   "source": [
    "\n",
    "$$=\n",
    "\\cfrac{4x-4yi \\pm \\cfrac{4}{\\sqrt{3}} \\mp \\sqrt{3}x^2 - 2x \\mp \\cfrac{1}{\\sqrt{3}} \\mp \\sqrt{3}y^2 }{-3x^2 \\mp 2\\sqrt{3}x-1-3y^2} $$\n"
   ]
  },
  {
   "cell_type": "markdown",
   "metadata": {},
   "source": [
    "\n",
    "$$=\n",
    "\\cfrac{4x-4yi \\pm \\cfrac{4}{\\sqrt{3}} }{-3x^2 \\mp 2\\sqrt{3}x-1-3y^2} + \\cfrac{\\pm\\cfrac{1}{\\sqrt{3}} (-3x^2 \\mp 2\\sqrt{3}x-1-3y^2)}{-3x^2 \\mp 2\\sqrt{3}x-1-3y^2}$$\n"
   ]
  },
  {
   "cell_type": "markdown",
   "metadata": {},
   "source": [
    "$$=\n",
    "\\cfrac{4x-4yi \\pm \\cfrac{4}{\\sqrt{3}} }{-3x^2 \\mp 2\\sqrt{3}x-1-3y^2} \\pm \\cfrac{1}{\\sqrt{3}}$$"
   ]
  },
  {
   "cell_type": "markdown",
   "metadata": {},
   "source": [
    "\n",
    "$$P_{3d}=-\\cfrac{4}{3}\\cfrac{x-yi \\pm \\cfrac{1}{\\sqrt{3}}}{x^2 \\pm \\cfrac{2}{\\sqrt{3}}x+\\cfrac{1}{3}+y^2} \\pm \\cfrac{1}{\\sqrt{3}}$$\n"
   ]
  },
  {
   "cell_type": "markdown",
   "metadata": {},
   "source": [
    "consider this true statement"
   ]
  },
  {
   "cell_type": "markdown",
   "metadata": {},
   "source": [
    "$$\n",
    "x^2 \\pm \\cfrac{2}{\\sqrt{3}}x+\\cfrac{1}{3}+y^2\n",
    "=\n",
    "\\sqrt{\\left(x \\pm \\cfrac{1}{\\sqrt{3}} \\right)^2+y^2}^2\n",
    "$$"
   ]
  },
  {
   "cell_type": "markdown",
   "metadata": {},
   "source": [
    "for any complex number $z = a+bi$"
   ]
  },
  {
   "cell_type": "markdown",
   "metadata": {},
   "source": [
    "$$\\left| z \\right| = \\left|a \\pm bi \\right| = \\sqrt{a^2+b^2}$$"
   ]
  },
  {
   "cell_type": "markdown",
   "metadata": {},
   "source": [
    "$$\\left| z \\right|^2= a^2 + b^2$$"
   ]
  },
  {
   "cell_type": "markdown",
   "metadata": {},
   "source": [
    "let $a$ and $b$ be"
   ]
  },
  {
   "cell_type": "markdown",
   "metadata": {},
   "source": [
    "$$a = x \\pm \\cfrac{1}{\\sqrt{3}}$$"
   ]
  },
  {
   "cell_type": "markdown",
   "metadata": {},
   "source": [
    "$$b=y$$"
   ]
  },
  {
   "cell_type": "markdown",
   "metadata": {},
   "source": [
    "then it is true that"
   ]
  },
  {
   "cell_type": "markdown",
   "metadata": {},
   "source": [
    "$$\n",
    "x^2 \\pm \\cfrac{2}{\\sqrt{3}}x+\\cfrac{1}{3}+y^2\n",
    "= \n",
    "\\left|x \\pm \\cfrac{1}{\\sqrt{3}} -yi\\right|^2\n",
    "$$"
   ]
  },
  {
   "cell_type": "markdown",
   "metadata": {},
   "source": [
    "showing that the square of the absolute of the sum of the components of a complex number, is the sum of those real components squared plus the sum of those imaginary components squared"
   ]
  },
  {
   "cell_type": "markdown",
   "metadata": {},
   "source": [
    "\n",
    "replace the first denominator of $P_{3d}$ to be the square of an absolute\n"
   ]
  },
  {
   "cell_type": "markdown",
   "metadata": {},
   "source": [
    "$$P_{3d}=-\\cfrac{4}{3}\\cfrac{x-yi \\pm \\cfrac{1}{\\sqrt{3}}}{\\left|x-yi \\pm \\cfrac{1}{\\sqrt{3}}\\right|^2} \\pm \\cfrac{1}{\\sqrt{3}}$$"
   ]
  },
  {
   "cell_type": "markdown",
   "metadata": {},
   "source": [
    "let $z$ be the complex composition of $x$ and $y$"
   ]
  },
  {
   "cell_type": "markdown",
   "metadata": {},
   "source": [
    "$$z=x+yi$$"
   ]
  },
  {
   "cell_type": "markdown",
   "metadata": {},
   "source": [
    "The conjugate of $z$ is $\\bar z$, the negation of the imaginary"
   ]
  },
  {
   "cell_type": "markdown",
   "metadata": {},
   "source": [
    "$$\\bar{z}=x-yi$$"
   ]
  },
  {
   "cell_type": "markdown",
   "metadata": {},
   "source": [
    "substitute $\\bar z$ into $P_{d3}$"
   ]
  },
  {
   "cell_type": "markdown",
   "metadata": {},
   "source": [
    "$$P_{3d}=-\\cfrac{4}{3}\\cfrac{\\bar{z} \\pm \\cfrac{1}{\\sqrt{3}}}{\\left| \\bar{z} \\pm \\cfrac{1}{\\sqrt{3}}\\right|^2} \\pm \\cfrac{1}{\\sqrt{3}}$$"
   ]
  },
  {
   "cell_type": "markdown",
   "metadata": {},
   "source": [
    "let $r$ be half of a $\\cfrac{2}{\\sqrt{3}}$ length"
   ]
  },
  {
   "cell_type": "markdown",
   "metadata": {},
   "source": [
    "$$r = \\cfrac{1}{\\sqrt{3}}$$"
   ]
  },
  {
   "cell_type": "markdown",
   "metadata": {},
   "source": [
    "substitute $r$ into $P_{3d}$"
   ]
  },
  {
   "cell_type": "markdown",
   "metadata": {},
   "source": [
    "$$P_{3d}=-4r^2 \\cfrac{\\bar{z} \\pm r}{ | \\bar{z} \\pm r|^2} \\pm r$$"
   ]
  },
  {
   "cell_type": "markdown",
   "metadata": {},
   "source": [
    "which reduces to"
   ]
  },
  {
   "cell_type": "markdown",
   "metadata": {},
   "source": [
    "$$P_{3d}=-\\cfrac{4r^2}{z \\pm r} \\pm r$$"
   ]
  },
  {
   "cell_type": "markdown",
   "metadata": {},
   "source": [
    "recall equation $P_{2d}$"
   ]
  },
  {
   "cell_type": "markdown",
   "metadata": {},
   "source": [
    "$$P_{2d}=-\\cfrac{4r^2}{z \\pm r} \\pm r$$"
   ]
  },
  {
   "cell_type": "markdown",
   "metadata": {},
   "source": [
    "\n",
    "the equations are equal"
   ]
  },
  {
   "cell_type": "markdown",
   "metadata": {},
   "source": [
    "$$\\Large P_{3d}=P_{2d}$$"
   ]
  },
  {
   "cell_type": "markdown",
   "metadata": {},
   "source": [
    "when"
   ]
  },
  {
   "cell_type": "markdown",
   "metadata": {},
   "source": [
    "$$r = \\cfrac{1}{\\sqrt{3}}$$"
   ]
  },
  {
   "cell_type": "markdown",
   "metadata": {},
   "source": [
    "with this scaling condition, the claim is proven."
   ]
  },
  {
   "cell_type": "markdown",
   "metadata": {},
   "source": [
    "### simplification"
   ]
  },
  {
   "cell_type": "markdown",
   "metadata": {},
   "source": [
    "The common equation of $P_{2d}$ and $P_{3d}$"
   ]
  },
  {
   "cell_type": "markdown",
   "metadata": {},
   "source": [
    "$$-4r^2 \\cfrac{\\bar{z} \\pm r}{ | \\bar{z} \\pm r|^2} \\pm r$$"
   ]
  },
  {
   "cell_type": "markdown",
   "metadata": {},
   "source": [
    "now named the similartiy equation, is further reduced."
   ]
  },
  {
   "cell_type": "markdown",
   "metadata": {},
   "source": [
    "A complex conjugate is the product of its absolute magnitude squared and its reciprocal"
   ]
  },
  {
   "cell_type": "markdown",
   "metadata": {},
   "source": [
    "$$\\bar{z} = \\cfrac{|z|^2}{z}$$"
   ]
  },
  {
   "cell_type": "markdown",
   "metadata": {},
   "source": [
    "Allowing this $z$ to be $\\bar{z} \\pm r$ provides"
   ]
  },
  {
   "cell_type": "markdown",
   "metadata": {},
   "source": [
    "$$\\bar{\\bar{z}\\pm r} = \\cfrac{|\\bar{z}\\pm r|^2}{\\bar{z}\\pm r}$$"
   ]
  },
  {
   "cell_type": "markdown",
   "metadata": {},
   "source": [
    "Invert"
   ]
  },
  {
   "cell_type": "markdown",
   "metadata": {},
   "source": [
    "$$\\cfrac{1}{\\bar{\\bar{z} \\pm r}} = \\cfrac{\\bar{z}\\pm r}{|\\bar{z}\\pm r|^2}$$"
   ]
  },
  {
   "cell_type": "markdown",
   "metadata": {},
   "source": [
    "A conjugate of a real and complex sum is also the conjugate of the complex alone plus the real\n",
    "and since conjugation is an involution "
   ]
  },
  {
   "cell_type": "markdown",
   "metadata": {},
   "source": [
    "$$\\bar{\\bar{z}\\pm r}$$"
   ]
  },
  {
   "cell_type": "markdown",
   "metadata": {},
   "source": [
    "$$ = \\bar{\\bar{z}}\\pm r$$"
   ]
  },
  {
   "cell_type": "markdown",
   "metadata": {},
   "source": [
    "$$= z \\pm r$$"
   ]
  },
  {
   "cell_type": "markdown",
   "metadata": {},
   "source": [
    "Providing"
   ]
  },
  {
   "cell_type": "markdown",
   "metadata": {},
   "source": [
    "$$\\cfrac{1}{z \\pm r} = \\cfrac{\\bar{z}\\pm r}{|\\bar{z}\\pm r|^2}$$"
   ]
  },
  {
   "cell_type": "markdown",
   "metadata": {},
   "source": [
    "Which substitutes directly back inot the the equation"
   ]
  },
  {
   "cell_type": "markdown",
   "metadata": {},
   "source": [
    "$$-\\cfrac{4r^2}{z \\pm r} \\pm r$$"
   ]
  },
  {
   "cell_type": "markdown",
   "metadata": {},
   "source": [
    "$$-\\cfrac{4r^2}{z \\pm r} + \\cfrac{\\pm r(z \\pm r)}{z \\pm r}$$"
   ]
  },
  {
   "cell_type": "markdown",
   "metadata": {},
   "source": [
    "$$\\cfrac{-4r^2 \\pm rz + r^2}{z \\pm r}$$"
   ]
  },
  {
   "cell_type": "markdown",
   "metadata": {},
   "source": [
    "$$\\cfrac{-3r^2 \\pm rz}{z \\pm r}$$"
   ]
  },
  {
   "cell_type": "markdown",
   "metadata": {},
   "source": [
    "$$r \\cdot \\cfrac{\\pm z -3r}{z \\pm r}$$"
   ]
  },
  {
   "cell_type": "markdown",
   "metadata": {},
   "source": [
    "$$ \\cfrac{\\pm z - 3r}{z/r \\pm 1} $$"
   ]
  },
  {
   "cell_type": "markdown",
   "metadata": {},
   "source": [
    "which is a simplified similarity equation in terms of a triangle base radius and a complex third point."
   ]
  },
  {
   "cell_type": "markdown",
   "metadata": {},
   "source": [
    "when $r=\\cfrac{1}{\\sqrt{3}}$"
   ]
  },
  {
   "cell_type": "markdown",
   "metadata": {},
   "source": [
    "$$ \\cfrac{\\pm z - \\sqrt{3}}{\\sqrt{3} z \\pm 1} $$"
   ]
  },
  {
   "cell_type": "markdown",
   "metadata": {},
   "source": [
    "It is a mobius transformation which can be modelled over the Reimann sphere."
   ]
  },
  {
   "cell_type": "markdown",
   "metadata": {},
   "source": [
    "### Riemann sphere"
   ]
  },
  {
   "cell_type": "markdown",
   "metadata": {},
   "source": [
    "given the simplified similarity equation as $f(x)$"
   ]
  },
  {
   "cell_type": "markdown",
   "metadata": {},
   "source": [
    "$$ f(x) = \\cfrac{\\pm z - \\sqrt{3}}{\\sqrt{3} z \\pm 1} $$"
   ]
  },
  {
   "cell_type": "markdown",
   "metadata": {},
   "source": [
    "define $g(x)$ and $h(x)$"
   ]
  },
  {
   "cell_type": "markdown",
   "metadata": {},
   "source": [
    "$$g(x) = \\pm z - \\sqrt{3}$$"
   ]
  },
  {
   "cell_type": "markdown",
   "metadata": {},
   "source": [
    "$$ h(x) = \\sqrt{3} z \\pm 1 $$"
   ]
  },
  {
   "cell_type": "markdown",
   "metadata": {},
   "source": [
    "so that they are rational functions of $f(x)$"
   ]
  },
  {
   "cell_type": "markdown",
   "metadata": {},
   "source": [
    "$$ f(x) = \\frac{g(x)}{h(x)} $$"
   ]
  },
  {
   "cell_type": "markdown",
   "metadata": {},
   "source": [
    "which defines a continuous function on the reimann sphere"
   ]
  },
  {
   "cell_type": "markdown",
   "metadata": {},
   "source": [
    "$f(x)$ is $\\infty$ when the denominator $h(x)$ is $0$"
   ]
  },
  {
   "cell_type": "markdown",
   "metadata": {},
   "source": [
    "$$0 = \\sqrt{3} z \\pm 1$$"
   ]
  },
  {
   "cell_type": "markdown",
   "metadata": {},
   "source": [
    "$$z = \\pm \\cfrac{1}{\\sqrt{3}}$$"
   ]
  },
  {
   "cell_type": "markdown",
   "metadata": {},
   "source": [
    "$$f(\\pm \\cfrac{1}{\\sqrt{3}}) = \\infty$$"
   ]
  },
  {
   "cell_type": "markdown",
   "metadata": {},
   "source": [
    "when $f(x)$ appproaches $\\infty$"
   ]
  },
  {
   "cell_type": "markdown",
   "metadata": {},
   "source": [
    "$$ f( \\infty ) = \\pm \\cfrac{1}{\\sqrt{3}}$$"
   ]
  },
  {
   "cell_type": "markdown",
   "metadata": {},
   "source": [
    "A continuous function is defined showing that $\\pm \\cfrac{1}{\\sqrt{3}}$ maps to $\\infty$, while $\\infty$ maps back to $\\pm \\cfrac{1}{\\sqrt{3}}$"
   ]
  },
  {
   "cell_type": "markdown",
   "metadata": {},
   "source": [
    "### möbius transformation"
   ]
  },
  {
   "cell_type": "markdown",
   "metadata": {},
   "source": [
    "mobius transformations have a particular form"
   ]
  },
  {
   "cell_type": "markdown",
   "metadata": {},
   "source": [
    "$$ f(x) = \\cfrac{a z + b}{cz + d} $$"
   ]
  },
  {
   "cell_type": "markdown",
   "metadata": {},
   "source": [
    "and condition"
   ]
  },
  {
   "cell_type": "markdown",
   "metadata": {},
   "source": [
    "$$ad-bc \\ne 0$$"
   ]
  },
  {
   "cell_type": "markdown",
   "metadata": {},
   "source": [
    "The Reimmann sphere equation is a Möbius transformation"
   ]
  },
  {
   "cell_type": "markdown",
   "metadata": {},
   "source": [
    "$$ f(x) = \\cfrac{\\pm z - \\sqrt{3}}{\\sqrt{3} z \\pm 1} $$"
   ]
  },
  {
   "cell_type": "markdown",
   "metadata": {},
   "source": [
    "having the variables"
   ]
  },
  {
   "cell_type": "markdown",
   "metadata": {},
   "source": [
    "$$a=\\pm 1$$"
   ]
  },
  {
   "cell_type": "markdown",
   "metadata": {},
   "source": [
    "$$b=-\\sqrt{3}$$"
   ]
  },
  {
   "cell_type": "markdown",
   "metadata": {},
   "source": [
    "$$c=\\sqrt{3}$$"
   ]
  },
  {
   "cell_type": "markdown",
   "metadata": {},
   "source": [
    "$$d=\\pm1$$"
   ]
  },
  {
   "cell_type": "markdown",
   "metadata": {},
   "source": [
    "satisfies the condition $ad-bc \\ne 0$"
   ]
  },
  {
   "cell_type": "markdown",
   "metadata": {},
   "source": [
    "$$ad-bc $$"
   ]
  },
  {
   "cell_type": "markdown",
   "metadata": {},
   "source": [
    "$$ (\\pm 1)(\\pm 1) - (-\\sqrt{3}) (\\sqrt{3})$$"
   ]
  },
  {
   "cell_type": "markdown",
   "metadata": {},
   "source": [
    "$$1+3 = 4$$"
   ]
  },
  {
   "cell_type": "markdown",
   "metadata": {},
   "source": [
    "$$4 \\ne 0$$"
   ]
  },
  {
   "cell_type": "markdown",
   "metadata": {},
   "source": [
    "Mobius transformations"
   ]
  },
  {
   "cell_type": "markdown",
   "metadata": {},
   "source": [
    "$$f(\\cfrac{-d}{c})=\\infty$$"
   ]
  },
  {
   "cell_type": "markdown",
   "metadata": {},
   "source": [
    "$$f(\\infty) = \\cfrac{a}{c}$$"
   ]
  },
  {
   "cell_type": "markdown",
   "metadata": {},
   "source": [
    "Which shows again that"
   ]
  },
  {
   "cell_type": "markdown",
   "metadata": {},
   "source": [
    "$$f ( \\pm \\cfrac{1}{\\sqrt{3}} ) = \\infty$$"
   ]
  },
  {
   "cell_type": "markdown",
   "metadata": {},
   "source": [
    "$$ f(\\infty) = \\pm \\cfrac{1}{\\sqrt{3}} $$"
   ]
  },
  {
   "cell_type": "markdown",
   "metadata": {},
   "source": [
    "This mobius transformation is a linear fractional transformation"
   ]
  },
  {
   "cell_type": "markdown",
   "metadata": {},
   "source": [
    "<img src=\"img/coordinate1.png\"><img src=\"img/coordinate2.png\">"
   ]
  },
  {
   "cell_type": "markdown",
   "metadata": {},
   "source": [
    "### symmetry"
   ]
  },
  {
   "cell_type": "markdown",
   "metadata": {},
   "source": [
    "this report is incomplete\n",
    "\n",
    "* The content here is sceduled for improvements"
   ]
  },
  {
   "cell_type": "markdown",
   "metadata": {},
   "source": [
    "The equations show that there is symmetry on the plane and symmetry on a projection globe for all points on the plane relative to two base points. However, the symmetry is displayed evenly and purely on the surface of the sphere, whereas it is spread out and distorted across the surface of the plane."
   ]
  },
  {
   "cell_type": "markdown",
   "metadata": {},
   "source": [
    "The globe has three primary points, seperated evenly $1/3$ over a great circle. These points are the base points of the triangle and infinity."
   ]
  },
  {
   "cell_type": "markdown",
   "metadata": {},
   "source": [
    "A great circle running through the base lines also runs through infinity and represents degenerate triangle points because at least one internal angle must be zero."
   ]
  },
  {
   "cell_type": "markdown",
   "metadata": {},
   "source": [
    "The projection of obtuse triangles onto the surface of a sphere"
   ]
  },
  {
   "cell_type": "markdown",
   "metadata": {},
   "source": [
    "<img src=\"img/obtuse_globe.png\">"
   ]
  },
  {
   "cell_type": "markdown",
   "metadata": {},
   "source": [
    "The projection of acture triangles onto the suface of a sphere"
   ]
  },
  {
   "cell_type": "markdown",
   "metadata": {},
   "source": [
    "<img src=\"img/acute_globe.png\">"
   ]
  },
  {
   "cell_type": "markdown",
   "metadata": {},
   "source": [
    "The isoscelese triangles appear as three great circles"
   ]
  },
  {
   "cell_type": "markdown",
   "metadata": {},
   "source": [
    "<img src=\"img/isosceles_globe.png\">"
   ]
  },
  {
   "cell_type": "markdown",
   "metadata": {},
   "source": [
    "right triangles are three connected rings"
   ]
  },
  {
   "cell_type": "markdown",
   "metadata": {},
   "source": [
    "<img src=\"img/right_globe.png\">"
   ]
  },
  {
   "cell_type": "markdown",
   "metadata": {},
   "source": [
    "the symmetry had three rotational divisions into 6 parts with an equator division making 12 symmetric wedges"
   ]
  },
  {
   "cell_type": "markdown",
   "metadata": {},
   "source": [
    "the equlateral triangle are at the poles which sit on the plane at one and negative one on the x-axis"
   ]
  },
  {
   "cell_type": "markdown",
   "metadata": {},
   "source": [
    "Displaying all 12 similar triangles from the base points at once requires 12 circular rings, with groups of 4 running through the base points and all running through infinity. The third point of these circles will be at one of six point symmetrically reflected about the equilateral point"
   ]
  },
  {
   "cell_type": "markdown",
   "metadata": {},
   "source": [
    "<img src=\"img/whole_globe.png\">"
   ]
  },
  {
   "cell_type": "markdown",
   "metadata": {},
   "source": [
    "the $1:2:\\sqrt{3}$ triangle appears at the intersections of right and iscoseles triangle lines. false."
   ]
  },
  {
   "cell_type": "markdown",
   "metadata": {},
   "source": [
    "the base points display similar symmetry to infinity"
   ]
  },
  {
   "cell_type": "markdown",
   "metadata": {},
   "source": [
    "all straight lines on the plane are circles running through the infinity point"
   ]
  },
  {
   "cell_type": "markdown",
   "metadata": {},
   "source": [
    "### code\n",
    "\n",
    "tbd later because sample code was insufficient"
   ]
  },
  {
   "cell_type": "markdown",
   "metadata": {},
   "source": [
    "### credit"
   ]
  },
  {
   "cell_type": "markdown",
   "metadata": {},
   "source": [
    "Classical Construction\n",
    "\n",
    "https://en.wikipedia.org/wiki/Straightedge_and_compass_construction\n",
    "\n",
    "Vesica Piscis\n",
    "\n",
    "https://en.wikipedia.org/wiki/Vesica_piscis\n",
    "\n",
    "Triangle\n",
    "\n",
    "https://en.wikipedia.org/wiki/Triangle\n",
    "\n",
    "Triangle Similarity\n",
    "\n",
    "https://en.wikipedia.org/wiki/Triangle\n",
    "\n",
    "Complex Numbers\n",
    "\n",
    "https://en.wikipedia.org/wiki/Complex_number\n",
    "\n",
    "Complex Geometry\n",
    "\n",
    "https://en.wikipedia.org/wiki/Complex_geometry\n",
    "\n",
    "Euclidean Vector\n",
    "\n",
    "https://en.wikipedia.org/wiki/Euclidean_vector\n",
    "\n",
    "Translation\n",
    "\n",
    "https://en.wikipedia.org/wiki/Translation_(geometry)\n",
    "\n",
    "Rotation\n",
    "\n",
    "https://en.wikipedia.org/wiki/Rotation_(mathematics)\n",
    "\n",
    "Reflection\n",
    "\n",
    "https://en.wikipedia.org/wiki/Reflection_(mathematics)\n",
    "\n",
    "Transposition\n",
    "\n",
    "https://en.wikipedia.org/wiki/Conjugate_transpose]\n",
    "\n",
    "2d space\n",
    "\n",
    "https://en.wikipedia.org/wiki/Two-dimensional_space\n",
    "\n",
    "Stereographic Projection\n",
    "\n",
    "https://en.wikipedia.org/wiki/Stereographic_projection\n",
    "\n",
    "Similarity\n",
    "\n",
    "https://en.wikipedia.org/wiki/Similarity_(geometry)\n",
    "\n",
    "Symmetry\n",
    "\n",
    "https://en.wikipedia.org/wiki/Symmetry\n",
    "\n",
    "Reimman Sphere\n",
    "\n",
    "https://en.wikipedia.org/wiki/Riemann_sphere\n",
    "\n",
    "Mobius Transformation\n",
    "\n",
    "https://en.wikipedia.org/wiki/M%C3%B6bius_transformation\n",
    "\n",
    "Credit to wikipedia for concentrating information"
   ]
  },
  {
   "cell_type": "code",
   "execution_count": null,
   "metadata": {
    "collapsed": true
   },
   "outputs": [],
   "source": []
  }
 ],
 "metadata": {
  "kernelspec": {
   "display_name": "Python 3",
   "language": "python",
   "name": "python3"
  },
  "language_info": {
   "codemirror_mode": {
    "name": "ipython",
    "version": 3
   },
   "file_extension": ".py",
   "mimetype": "text/x-python",
   "name": "python",
   "nbconvert_exporter": "python",
   "pygments_lexer": "ipython3",
   "version": "3.5.3"
  }
 },
 "nbformat": 4,
 "nbformat_minor": 2
}
