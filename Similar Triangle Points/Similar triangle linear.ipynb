{
 "cells": [
  {
   "cell_type": "markdown",
   "metadata": {},
   "source": [
    "<font>"
   ]
  },
  {
   "cell_type": "markdown",
   "metadata": {},
   "source": [
    "# stereographic symmetry of fixed base triangles"
   ]
  },
  {
   "cell_type": "markdown",
   "metadata": {},
   "source": [
    "<img src=\"img/triangle0s.png\">"
   ]
  },
  {
   "cell_type": "markdown",
   "metadata": {},
   "source": [
    " \n",
    " \n",
    " "
   ]
  },
  {
   "cell_type": "markdown",
   "metadata": {},
   "source": [
    "### purpose\n"
   ]
  },
  {
   "cell_type": "markdown",
   "metadata": {},
   "source": [
    "A base is a segment of a base line, and a triangle is a point relative to it"
   ]
  },
  {
   "cell_type": "markdown",
   "metadata": {},
   "source": [
    "<img src=\"img/triangle1s.png\">"
   ]
  },
  {
   "cell_type": "markdown",
   "metadata": {},
   "source": [
    "There are two similar triangles sitting on top of that base line"
   ]
  },
  {
   "cell_type": "markdown",
   "metadata": {},
   "source": [
    "<img src=\"img/triangle2s.png\">"
   ]
  },
  {
   "cell_type": "markdown",
   "metadata": {},
   "source": [
    "having the same rotation order of angles"
   ]
  },
  {
   "cell_type": "markdown",
   "metadata": {},
   "source": [
    "<img src=\"img/triangle3s.png\">"
   ]
  },
  {
   "cell_type": "markdown",
   "metadata": {},
   "source": [
    "and sitting on that same base segment"
   ]
  },
  {
   "cell_type": "markdown",
   "metadata": {},
   "source": [
    "<img src=\"img/triangle4s.png\">"
   ]
  },
  {
   "cell_type": "markdown",
   "metadata": {},
   "source": [
    "This report develops two methods of finding other triangle points relative to a common base segment from a given triangle point"
   ]
  },
  {
   "cell_type": "markdown",
   "metadata": {},
   "source": [
    "<img src=\"img/triangle5s.png\">"
   ]
  },
  {
   "cell_type": "markdown",
   "metadata": {},
   "source": [
    "The two solution equations are proven to be equal and the implications are explored"
   ]
  },
  {
   "cell_type": "markdown",
   "metadata": {},
   "source": [
    "### method"
   ]
  },
  {
   "cell_type": "markdown",
   "metadata": {},
   "source": [
    "\n",
    "Any similar triangle, when rotated and scaled, can be placed on a base of two fixed points so that its third point could be in any of three positions relative to one side of that base. A natural way to find the remaining two points, when one is provide, is to move and scale the provided point by using the angles and proportions of that point. Yet, there is another way to find the two additional points that displays more balance and symmetry.\n",
    "\n",
    "The first method employed is here named planar rotation and referred to as 2d rotation within this report, is found using complex operations. Operations are applied over a plane with only two axis for consideration.\n",
    "\n",
    "Projected revolution is the second method. Within this report, it will be referred to as 3d rotation. An additional z-axis is considered. The technique uses stereoprojection to find the same points. This requires an extra dimensional consideration. The point will be projected off of its plane into space where it will intersect with the surface of a sphere.\n",
    "\n",
    "In the process, an aspect of triangle similarity is displayed showing that changes in triangle types are symmetrically more balanced when considered through stereo projection. It is balanced symmetrically on the surface of a sphere in relation to triangles over a fixed base.\n",
    "\n",
    "A geometric model for each method is presented, the equations developed and manipulated to be proven equal."
   ]
  },
  {
   "cell_type": "markdown",
   "metadata": {},
   "source": [
    "### planar rotation"
   ]
  },
  {
   "cell_type": "markdown",
   "metadata": {},
   "source": [
    "\n",
    "The first method, planar rotation, involves moving, rotating and scaling a given complex point using plane geometry. The triangle with base points balanced on the x-axis at a radius of r from the origin, and a third point at z, are used to find the two other points\n"
   ]
  },
  {
   "cell_type": "markdown",
   "metadata": {},
   "source": [
    "The triangle with base segment $b$, bisected at orgin $o$ into radius $r$, has a third point at $z$"
   ]
  },
  {
   "cell_type": "markdown",
   "metadata": {},
   "source": [
    "<img src=\"img/triangle6s.png\">"
   ]
  },
  {
   "cell_type": "markdown",
   "metadata": {},
   "source": [
    "When the base is set on to the x-axis of the complex plane, with $o$ at the orgin, the three triangle points are the vectors $r$, $-r$ and $z$"
   ]
  },
  {
   "cell_type": "markdown",
   "metadata": {},
   "source": [
    "<img src=\"img/triangle7s.png\">"
   ]
  },
  {
   "cell_type": "markdown",
   "metadata": {},
   "source": [
    "The left and right side of the original triangle are represented by vectors $z+r$ and $z-r$"
   ]
  },
  {
   "cell_type": "markdown",
   "metadata": {},
   "source": [
    "<img src=\"img/triangle8s.png\">"
   ]
  },
  {
   "cell_type": "markdown",
   "metadata": {},
   "source": [
    "vector $z+r$ is equal in absolute magnitude and is parallel to the left leg of the given triangle and $z-r$ is like the right leg in the same manner"
   ]
  },
  {
   "cell_type": "markdown",
   "metadata": {
    "collapsed": false
   },
   "source": [
    "<img src=\"img/triangle9s.png\">"
   ]
  },
  {
   "cell_type": "markdown",
   "metadata": {},
   "source": [
    "The angle of the sides are represented by these vectors and ready to be scaled to the appropriate length of the new triangle sides"
   ]
  },
  {
   "cell_type": "markdown",
   "metadata": {},
   "source": [
    "Consider rotating a triangle over at the axis bisecting the base points"
   ]
  },
  {
   "cell_type": "markdown",
   "metadata": {},
   "source": [
    "<img src=\"img/triangle10s.png\">"
   ]
  },
  {
   "cell_type": "markdown",
   "metadata": {},
   "source": [
    "When similar triangles are scaled, their sides remain in constant proportional amounts.\n",
    "\n",
    "According to this rule:\n",
    "\n",
    "The rotated triangles have legs lying on the original base line which can be scaled to match the size of the original base, while the base sized legs of these new triangles will be scaled by that same amount."
   ]
  },
  {
   "cell_type": "markdown",
   "metadata": {},
   "source": [
    "<img src=\"img/rough24s.jpg\">"
   ]
  },
  {
   "cell_type": "markdown",
   "metadata": {},
   "source": [
    "<img src=\"img/rough25s.jpg\">"
   ]
  },
  {
   "cell_type": "markdown",
   "metadata": {},
   "source": [
    "Together, rotation and scaling provide a complete method for finding two new non-congruent triangles having its two fixed base points in common"
   ]
  },
  {
   "cell_type": "markdown",
   "metadata": {},
   "source": [
    "However, these are not the triangles described in our purpose"
   ]
  },
  {
   "cell_type": "markdown",
   "metadata": {},
   "source": [
    "<img src=\"img/rough29s.jpg\">"
   ]
  },
  {
   "cell_type": "markdown",
   "metadata": {},
   "source": [
    "These points are the solutions reflected across the y-axis"
   ]
  },
  {
   "cell_type": "markdown",
   "metadata": {},
   "source": [
    "<img src=\"img/rough27s.jpg\">"
   ]
  },
  {
   "cell_type": "markdown",
   "metadata": {},
   "source": [
    "y-axis reflection is both negation and cojugation of a vector"
   ]
  },
  {
   "cell_type": "markdown",
   "metadata": {},
   "source": [
    "<img src=\"img/rough28s.jpg\">"
   ]
  },
  {
   "cell_type": "markdown",
   "metadata": {},
   "source": [
    "The complete order of steps to form a solution\n",
    "\n",
    "1. shift z, as a vector,  by r to mimic a leg, in both direction and scale\n",
    "* normalize the vector to be one unit in length\n",
    "* scale the vector by the appropriate factor using similar triangle side relations\n",
    "* shift the vector by r back to be in line with the leg from which it came\n",
    "* negate and conjugate the point to reflect it across the y-axis\n",
    "\n",
    "The final vector point will be a solution"
   ]
  },
  {
   "cell_type": "markdown",
   "metadata": {},
   "source": [
    "<img src=\"img/rough21s.jpg\">"
   ]
  },
  {
   "cell_type": "markdown",
   "metadata": {},
   "source": [
    "left leg equation\n",
    "$$P_{left}=\\bar{-(z+r) \\times \\cfrac{1}{|z+r|} \\times \\cfrac{(2r)^2}{|z+r|}-r}$$"
   ]
  },
  {
   "cell_type": "markdown",
   "metadata": {},
   "source": [
    "right leg equation\n",
    "$$P_{right}=\\bar{-(z-r) \\times \\cfrac{1}{|z-r|} \\times \\cfrac{(2r)^2}{|z-r|}+r}$$"
   ]
  },
  {
   "cell_type": "markdown",
   "metadata": {},
   "source": [
    "the combined equation is labelled $P{2d}$\n",
    "$$P_{2d}=P_{both}=\\bar{ -4r^2 \\cfrac{z \\pm r}{|z\\pm r|^2} \\mp r}$$"
   ]
  },
  {
   "cell_type": "markdown",
   "metadata": {},
   "source": [
    "vector conjugates only effect the imaginary components of their operands"
   ]
  },
  {
   "cell_type": "markdown",
   "metadata": {},
   "source": [
    "$$\\bar{a(b \\pm c) \\mp d} = a(\\bar{b} \\pm c) \\mp d$$"
   ]
  },
  {
   "cell_type": "markdown",
   "metadata": {},
   "source": [
    "so the equation can be reduced to"
   ]
  },
  {
   "cell_type": "markdown",
   "metadata": {},
   "source": [
    "$$P_{2d}=-4r^2 \\cfrac{\\bar{z} \\mp r}{ | \\bar{z} \\mp r|^2} \\mp r$$"
   ]
  },
  {
   "cell_type": "markdown",
   "metadata": {},
   "source": [
    "the location of similar triangles points sharing the base with the original and having the same rotational order of angles."
   ]
  },
  {
   "cell_type": "markdown",
   "metadata": {},
   "source": [
    "## stereographic projection"
   ]
  },
  {
   "cell_type": "markdown",
   "metadata": {},
   "source": [
    "The second method employs stereographic projection. The given point is projected on to the surface of a sphere. The sphere is centered at the orgin, mid-base, and has unit radius of √3 base.\n",
    "\n",
    "The projected point is rotated a third of a turn in each direction on the surface of the sphere through the y-axis of the triangle plane through the center and perpendicular to its base. Those revolved points projected back to the plane of the given point will be the two points of its other similar triangles."
   ]
  },
  {
   "cell_type": "markdown",
   "metadata": {},
   "source": [
    "a triangle is defined with a base on the x-axis of radius $r$ over the origin and its third point at $P$ having x-y coordinates of $(P_{x},P_{y})$"
   ]
  },
  {
   "cell_type": "markdown",
   "metadata": {},
   "source": [
    "<img src=\"img/stereo1.jpg\">"
   ]
  },
  {
   "cell_type": "markdown",
   "metadata": {},
   "source": [
    "the perspective is changed to allow a 3rd dimensional z-axis at right angles to the others"
   ]
  },
  {
   "cell_type": "markdown",
   "metadata": {},
   "source": [
    "<img src=\"img/stereo2.jpg\">"
   ]
  },
  {
   "cell_type": "markdown",
   "metadata": {},
   "source": [
    "A straight line is passing through point $P$ or $(P_{x},P_{y},0)$ and a point one over the orgin or $(0,0,1)$, intersects the surface of a unit sphere"
   ]
  },
  {
   "cell_type": "markdown",
   "metadata": {},
   "source": [
    "<img src=\"img/stereo6.jpg\">"
   ]
  },
  {
   "cell_type": "markdown",
   "metadata": {},
   "source": [
    "The intersection point is moved using the y-axis to create a vertical circular ring"
   ]
  },
  {
   "cell_type": "markdown",
   "metadata": {},
   "source": [
    "The ring is divided evenly into equilateral points including $P$ forming two new points on the ring"
   ]
  },
  {
   "cell_type": "markdown",
   "metadata": {},
   "source": [
    "<img src=\"img/stereo8.jpg\">"
   ]
  },
  {
   "cell_type": "markdown",
   "metadata": {},
   "source": [
    "The two new points on the ring are projected back to the plane from the point one above the origin"
   ]
  },
  {
   "cell_type": "markdown",
   "metadata": {},
   "source": [
    "<img src=\"img/stereo9.jpg\">"
   ]
  },
  {
   "cell_type": "markdown",
   "metadata": {},
   "source": [
    "These points on the plane will represent the two new points of the given triangle rotated on a fixed base"
   ]
  },
  {
   "cell_type": "markdown",
   "metadata": {},
   "source": [
    "<img src=\"img/stereo11.jpg\">"
   ]
  },
  {
   "cell_type": "markdown",
   "metadata": {},
   "source": [
    "directly observed when looking at oblique right angle to both x and y"
   ]
  },
  {
   "cell_type": "markdown",
   "metadata": {},
   "source": [
    "<img src=\"img/stereo13.jpg\">"
   ]
  },
  {
   "cell_type": "code",
   "execution_count": null,
   "metadata": {
    "collapsed": true
   },
   "outputs": [],
   "source": []
  },
  {
   "cell_type": "markdown",
   "metadata": {},
   "source": [
    "a triangle sits on top of the same base three ways as before"
   ]
  },
  {
   "cell_type": "markdown",
   "metadata": {},
   "source": [
    "<img src=\"img/triangle4s.png\">"
   ]
  },
  {
   "cell_type": "markdown",
   "metadata": {},
   "source": [
    "these points lie uneverly distributed on the perimeter of a circle that is centered on the line bisecting the base at a right angle"
   ]
  },
  {
   "cell_type": "markdown",
   "metadata": {},
   "source": [
    "<img src=\"img/rough22s.jpg\">"
   ]
  },
  {
   "cell_type": "markdown",
   "metadata": {},
   "source": [
    "When the points are stereographically projected onto a unit sphere centered at the origin, they appear evenly distributed about the circle in an equiateral formation."
   ]
  },
  {
   "cell_type": "markdown",
   "metadata": {},
   "source": [
    "<img src=\"img/rough23s.jpg\">"
   ]
  },
  {
   "cell_type": "markdown",
   "metadata": {},
   "source": [
    "With this in mind a new method is devised find the other points of similar rotated triangles. The point is projected to the sphere to locate two equilateral points on the vertical ring and finally project those points back to the plane to find the solution."
   ]
  },
  {
   "cell_type": "markdown",
   "metadata": {},
   "source": [
    "\n",
    "Consider any triangle, having these requirements and a third point given as complex coordinates, a stereographic projection onto the unit sphere produce X, Y and Z.\n"
   ]
  },
  {
   "cell_type": "markdown",
   "metadata": {},
   "source": [
    "\n",
    "$$s=\\cfrac{x^2+y^2+1}{2}$$\n"
   ]
  },
  {
   "cell_type": "markdown",
   "metadata": {},
   "source": [
    "\n",
    "$$X=x/s$$\n"
   ]
  },
  {
   "cell_type": "markdown",
   "metadata": {},
   "source": [
    "\n",
    "$$Y=y/s$$\n"
   ]
  },
  {
   "cell_type": "markdown",
   "metadata": {},
   "source": [
    "\n",
    "$$Z=\\cfrac{s-1}{s}$$\n"
   ]
  },
  {
   "cell_type": "markdown",
   "metadata": {},
   "source": [
    "\n",
    "let r be the complex part of the primitive third (cube) roots of unity\n"
   ]
  },
  {
   "cell_type": "markdown",
   "metadata": {},
   "source": [
    "\n",
    "$$r=\\sqrt[3]{-1}$$\n"
   ]
  },
  {
   "cell_type": "markdown",
   "metadata": {},
   "source": [
    "\n",
    "to obtain $1/3$ of a turn rotation vectors\n"
   ]
  },
  {
   "cell_type": "markdown",
   "metadata": {},
   "source": [
    "\n",
    "$$r=\\cfrac{-1\\pm\\sqrt{3}i}{2}$$\n"
   ]
  },
  {
   "cell_type": "markdown",
   "metadata": {},
   "source": [
    "\n",
    "providing a third turn rotation on the X and Z coordinates\n"
   ]
  },
  {
   "cell_type": "markdown",
   "metadata": {},
   "source": [
    "\n",
    "$$z_{r}=r(X+Zi)$$\n"
   ]
  },
  {
   "cell_type": "markdown",
   "metadata": {},
   "source": [
    "\n",
    "Seperate this solution into X and Z\n"
   ]
  },
  {
   "cell_type": "markdown",
   "metadata": {},
   "source": [
    "\n",
    "$$X_{r}+Z_{r}i=z_{r}$$\n"
   ]
  },
  {
   "cell_type": "markdown",
   "metadata": {},
   "source": [
    "\n",
    "as the components of $z_{r}$ using\n"
   ]
  },
  {
   "cell_type": "markdown",
   "metadata": {},
   "source": [
    "\n",
    "$$X_{r}=\\cfrac {z_{r}+\\bar{z}_{r}}{2}$$\n"
   ]
  },
  {
   "cell_type": "markdown",
   "metadata": {},
   "source": [
    "\n",
    "$$Z_{r}=\\cfrac {z_{r}-\\bar{z}_{r}}{2i}$$\n"
   ]
  },
  {
   "cell_type": "markdown",
   "metadata": {},
   "source": [
    "\n",
    "gives $X_r$ and $Z_r$ the positions of their originals revolved about the y-axis.\n",
    "\n",
    "It is projected, with the unchanged third coordinate $Y$ back to the x-y plane\n"
   ]
  },
  {
   "cell_type": "markdown",
   "metadata": {},
   "source": [
    "\n",
    "$$P_{3d}=\\cfrac{X_{r}+Yi}{1-Z_{r}}$$\n"
   ]
  },
  {
   "cell_type": "markdown",
   "metadata": {},
   "source": [
    "producing the location of the other solution points.\n",
    "\n",
    "This report claims that these methods are equivelent so that $P_{3d}=P_{2d}$"
   ]
  },
  {
   "cell_type": "markdown",
   "metadata": {},
   "source": [
    "### formulation\n"
   ]
  },
  {
   "cell_type": "markdown",
   "metadata": {},
   "source": [
    "The stereogrpahic equation is evaluated and modified to show it is equal to the planar solution\n",
    "\n",
    "Stereographic projection formulas for a unit circle centered at the origin are"
   ]
  },
  {
   "cell_type": "markdown",
   "metadata": {},
   "source": [
    "\n",
    "$$s=\\cfrac{1+x^2+y^2}{2}$$\n"
   ]
  },
  {
   "cell_type": "markdown",
   "metadata": {},
   "source": [
    "\n",
    "$$X=\\cfrac{x}{s}=\\cfrac{2x}{1+x^2+y^2}$$\n"
   ]
  },
  {
   "cell_type": "markdown",
   "metadata": {},
   "source": [
    "$$Y=\\cfrac{y}{s}=\\cfrac{2y}{1+x^2+y^2}$$"
   ]
  },
  {
   "cell_type": "markdown",
   "metadata": {},
   "source": [
    "\n",
    "$$Z=\\cfrac{s-1}{s}=\\cfrac{-1+x^2+y^2}{1+x^2+y^2}$$\n"
   ]
  },
  {
   "cell_type": "markdown",
   "metadata": {},
   "source": [
    "a stereographic projection point rotated 1/3 turn on x-z plane as $z_r$"
   ]
  },
  {
   "cell_type": "markdown",
   "metadata": {},
   "source": [
    "$$r=\\cfrac{-1 \\mp \\sqrt{3}i}{2}$$"
   ]
  },
  {
   "cell_type": "markdown",
   "metadata": {},
   "source": [
    "a rotation applied to projected points $X$ and $Z$"
   ]
  },
  {
   "cell_type": "markdown",
   "metadata": {},
   "source": [
    "$$z_{r}=r(X+Zi)$$"
   ]
  },
  {
   "cell_type": "markdown",
   "metadata": {},
   "source": [
    "the rotated stereographically projected points in terms of x and y components"
   ]
  },
  {
   "cell_type": "markdown",
   "metadata": {},
   "source": [
    "$$z_{r}=\\cfrac{-1 \\mp \\sqrt{3}i}{2} \\left( \\cfrac{2x}{1+x^2+y^2} + \\cfrac{-1+x^2+y^2}{1+x^2+y^2}i \\right) $$"
   ]
  },
  {
   "cell_type": "markdown",
   "metadata": {},
   "source": [
    "$$=\\cfrac{  ( -1 \\mp \\sqrt{3}i)(2x -i+x^2i+y^2i )}{2 (1+x^2+y^2)}i $$"
   ]
  },
  {
   "cell_type": "markdown",
   "metadata": {},
   "source": [
    "$$=\\cfrac{ -2x +i -x^2i -y^2i \\mp 2\\sqrt{3}xi \\pm \\sqrt{3} \\mp \\sqrt{3}x^2 \\mp \\sqrt{3}y^2}{2+2x^2+2y^2} $$"
   ]
  },
  {
   "cell_type": "markdown",
   "metadata": {},
   "source": [
    "$$=\\cfrac{ -2x \\pm \\sqrt{3} \\mp \\sqrt{3}x^2 \\mp \\sqrt{3}y^2}{2+2x^2+2y^2} + \\cfrac{ 1 -x^2 -y^2 \\pm 2\\sqrt{3}x}{2+2x^2+2y^2}i $$"
   ]
  },
  {
   "cell_type": "markdown",
   "metadata": {},
   "source": [
    "components of $z_r$ extracted as $X_r$ and $Z_r$ whie $Y$ is stationary"
   ]
  },
  {
   "cell_type": "markdown",
   "metadata": {},
   "source": [
    "$$X_{r}=\\cfrac {z_{r}+\\bar{z}_{r}}{2}= \\cfrac{ -2x \\pm \\sqrt{3} \\mp \\sqrt{3}x^2 \\mp \\sqrt{3}y^2}{2+2x^2+2y^2}$$"
   ]
  },
  {
   "cell_type": "markdown",
   "metadata": {},
   "source": [
    "\n",
    "$$Z_{r}=\\cfrac {z_{r}-\\bar{z}_{r}}{2i}=\\cfrac{ 1 -x^2 -y^2 \\pm 2\\sqrt{3}x}{2+2x^2+2y^2}$$\n",
    "\n"
   ]
  },
  {
   "cell_type": "markdown",
   "metadata": {},
   "source": [
    "$$Y_{r}=Y=\\cfrac{2y}{1+x^2+y^2}$$\n"
   ]
  },
  {
   "cell_type": "markdown",
   "metadata": {},
   "source": [
    "rotated stereographic points projected back to the plane"
   ]
  },
  {
   "cell_type": "markdown",
   "metadata": {},
   "source": [
    "$$P_{3d}=\\cfrac{X_{r}+Y_{r}i}{1-Z_{r}}$$"
   ]
  },
  {
   "cell_type": "markdown",
   "metadata": {},
   "source": [
    "the equation experessed in terms of x and y which can be reduced"
   ]
  },
  {
   "cell_type": "markdown",
   "metadata": {},
   "source": [
    "$$P_{3d}=\\cfrac{\\cfrac{ -2x \\pm \\sqrt{3} \\mp \\sqrt{3}x^2 \\mp \\sqrt{3}y^2}{2+2x^2+2y^2}+(\\cfrac{2y}{1+x^2+y^2})i}{1-\\cfrac{ 1 -x^2 -y^2 \\pm 2\\sqrt{3}x}{2+2x^2+2y^2}}$$"
   ]
  },
  {
   "cell_type": "markdown",
   "metadata": {},
   "source": [
    "$$=\n",
    "\\cfrac{\\cfrac{ -2x \\pm \\sqrt{3} \\mp \\sqrt{3}x^2 \\mp \\sqrt{3}y^2}{2+2x^2+2y^2}\n",
    "+\n",
    "\\cfrac{2yi}{1+x^2+y^2}\n",
    "\\times \\cfrac{2}{2}\n",
    "}{1 \n",
    "\\times\n",
    " \\cfrac{2+2x^2+2y^2}{2+2x^2+2y^2}\n",
    "- \\cfrac{ 1 -x^2 -y^2 \\pm 2\\sqrt{3}x}{2+2x^2+2y^2}}\n",
    "$$"
   ]
  },
  {
   "cell_type": "markdown",
   "metadata": {},
   "source": [
    "$$=\n",
    "\\cfrac\n",
    "{\n",
    "  \\cfrac{ -2x \\pm \\sqrt{3} \\mp \\sqrt{3}x^2 \\mp \\sqrt{3}y^2 + 4yi}{2+2x^2+2y^2}\n",
    "}{\n",
    "  \\cfrac{2+2x^2+2y^2 -1 +x^2 +y^2 \\mp 2\\sqrt{3}x}{2+2x^2+2y^2}\n",
    "}\n",
    "\\times\n",
    "\\cfrac\n",
    "{\n",
    "  \\cfrac{ 2+2x^2+2y^2}{1}\n",
    "}{ \n",
    "  \\cfrac{ 2+2x^2+2y^2}{1}\n",
    "}\n",
    "$$"
   ]
  },
  {
   "cell_type": "markdown",
   "metadata": {},
   "source": [
    "$$=\n",
    "\\cfrac{\n",
    "  -2x \\pm \\sqrt{3} \\mp \\sqrt{3}x^2 \\mp \\sqrt{3}y^2 + 4yi\n",
    "}\n",
    "{\n",
    " 2 + 2x^2 + 2y^2 -1 +x^2 +y^2 \\mp 2\\sqrt{3}x\n",
    "}$$\n",
    "\n"
   ]
  },
  {
   "cell_type": "markdown",
   "metadata": {},
   "source": [
    "$$=\n",
    "\\cfrac{\n",
    "  -2x \\pm \\sqrt{3} \\mp \\sqrt{3}x^2 \\mp \\sqrt{3}y^2 + 4yi\n",
    "}\n",
    "{\n",
    " 1 + 3x^2 + 3y^2\\mp 2\\sqrt{3}x\n",
    "}$$\n"
   ]
  },
  {
   "cell_type": "markdown",
   "metadata": {},
   "source": [
    "$$=\n",
    "\\cfrac{\n",
    "  -2x \\pm \\sqrt{3} \\mp \\sqrt{3}x^2 \\mp \\sqrt{3}y^2 + 4yi\n",
    "}\n",
    "{\n",
    " 1 + 3x^2 + 3y^2\\mp 2\\sqrt{3}x\n",
    "}\n",
    "\\cdot \\cfrac{-1}{-1}\n",
    "$$\n"
   ]
  },
  {
   "cell_type": "markdown",
   "metadata": {},
   "source": [
    "$$=\n",
    "\\cfrac{2x - 4yi \\mp \\cfrac{3}{\\sqrt{3}} \\pm \\sqrt{3}x^2 \\pm \\sqrt{3}y^2 }{-3x^2 \\pm 2\\sqrt{3}x-1-3y^2} $$"
   ]
  },
  {
   "cell_type": "markdown",
   "metadata": {},
   "source": [
    "\n",
    "$$=\n",
    "\\cfrac{4x-4yi \\mp \\cfrac{4}{\\sqrt{3}} \\pm\\sqrt{3}x^2 - 2x \\pm\\cfrac{1}{\\sqrt{3}} \\pm \\sqrt{3}y^2 }{-3x^2 \\pm 2\\sqrt{3}x-1-3y^2} $$\n"
   ]
  },
  {
   "cell_type": "markdown",
   "metadata": {},
   "source": [
    "\n",
    "$$=\n",
    "\\cfrac{4x-4yi \\mp \\cfrac{4}{\\sqrt{3}} }{-3x^2 \\pm 2\\sqrt{3}x-1-3y^2} + \\cfrac{\\mp\\cfrac{1}{\\sqrt{3}} (-3x^2 \\pm 2\\sqrt{3}x-1-3y^2)}{-3x^2 \\pm 2\\sqrt{3}x-1-3y^2}$$\n"
   ]
  },
  {
   "cell_type": "markdown",
   "metadata": {},
   "source": [
    "\n",
    "$$=\n",
    "\\cfrac{4x-4yi \\mp \\cfrac{4}{\\sqrt{3}} }{-3x^2 \\pm 2\\sqrt{3}x-1-3y^2} \\mp \\cfrac{1}{\\sqrt{3}}$$\n"
   ]
  },
  {
   "cell_type": "markdown",
   "metadata": {},
   "source": [
    "\n",
    "$$P_{3d}=-\\cfrac{4}{3}\\cfrac{x-yi \\mp \\cfrac{1}{\\sqrt{3}}}{x^2 \\mp \\cfrac{2}{\\sqrt{3}}x+\\cfrac{1}{3}+y^2} \\mp \\cfrac{1}{\\sqrt{3}}$$\n"
   ]
  },
  {
   "cell_type": "markdown",
   "metadata": {},
   "source": [
    "consider this true statement"
   ]
  },
  {
   "cell_type": "markdown",
   "metadata": {},
   "source": [
    "$$\n",
    "x^2 \\mp \\cfrac{2}{\\sqrt{3}}x+\\cfrac{1}{3}+y^2\n",
    "=\n",
    "\\sqrt{\\left(x \\mp \\cfrac{1}{\\sqrt{3}} \\right)^2+y^2}^2\n",
    "$$"
   ]
  },
  {
   "cell_type": "markdown",
   "metadata": {},
   "source": [
    "for any complex number $z = a+bi$"
   ]
  },
  {
   "cell_type": "markdown",
   "metadata": {},
   "source": [
    "$$\\left| z \\right| = \\left|a \\pm bi \\right| = \\sqrt{a^2+b^2}$$"
   ]
  },
  {
   "cell_type": "markdown",
   "metadata": {},
   "source": [
    "$$\\left| z \\right|^2 = \\sqrt{a^2+b^2}^2$$"
   ]
  },
  {
   "cell_type": "markdown",
   "metadata": {},
   "source": [
    "$$\\left| z \\right|^2= a^2 + b^2$$"
   ]
  },
  {
   "cell_type": "markdown",
   "metadata": {},
   "source": [
    "let $a$ and $b$ be"
   ]
  },
  {
   "cell_type": "markdown",
   "metadata": {},
   "source": [
    "$$a = x \\mp \\cfrac{1}{\\sqrt{3}}$$"
   ]
  },
  {
   "cell_type": "markdown",
   "metadata": {},
   "source": [
    "$$b=y$$"
   ]
  },
  {
   "cell_type": "markdown",
   "metadata": {},
   "source": [
    "then this is true"
   ]
  },
  {
   "cell_type": "markdown",
   "metadata": {},
   "source": [
    "$$\n",
    "x^2 \\mp \\cfrac{2}{\\sqrt{3}}x+\\cfrac{1}{3}+y^2\n",
    "= \n",
    "\\left|x \\mp \\cfrac{1}{\\sqrt{3}} -yi\\right|^2\n",
    "$$"
   ]
  },
  {
   "cell_type": "markdown",
   "metadata": {},
   "source": [
    "showing that the square of the absolute of the sum of the components of a complex number, is the sum of those real components squared plus the sum of those imaginary components squared"
   ]
  },
  {
   "cell_type": "markdown",
   "metadata": {},
   "source": [
    "\n",
    "replace the first denominator of $P_{3d}$ to be the square of an absolute\n"
   ]
  },
  {
   "cell_type": "markdown",
   "metadata": {},
   "source": [
    "$$P_{3d}=-\\cfrac{4}{3}\\cfrac{x-yi \\mp \\cfrac{1}{\\sqrt{3}}}{\\left|x-yi \\mp \\cfrac{1}{\\sqrt{3}}\\right|^2} \\mp \\cfrac{1}{\\sqrt{3}}$$"
   ]
  },
  {
   "cell_type": "markdown",
   "metadata": {},
   "source": [
    "let $z$ be the complex composition of $x$ and $y$"
   ]
  },
  {
   "cell_type": "markdown",
   "metadata": {},
   "source": [
    "$$z=x+yi$$"
   ]
  },
  {
   "cell_type": "markdown",
   "metadata": {},
   "source": [
    "The conjugate of $z$ is $\\bar z$ is the negation of the imaginary"
   ]
  },
  {
   "cell_type": "markdown",
   "metadata": {},
   "source": [
    "$$\\bar{z}=x-yi$$"
   ]
  },
  {
   "cell_type": "markdown",
   "metadata": {},
   "source": [
    "substitute $\\bar z$ into $P_{d3}$"
   ]
  },
  {
   "cell_type": "markdown",
   "metadata": {},
   "source": [
    "$$P_{3d}=-\\cfrac{4}{3}\\cfrac{\\bar{z} \\mp \\cfrac{1}{\\sqrt{3}}}{\\left| \\bar{z} \\mp \\cfrac{1}{\\sqrt{3}}\\right|^2} \\mp \\cfrac{1}{\\sqrt{3}}$$"
   ]
  },
  {
   "cell_type": "markdown",
   "metadata": {},
   "source": [
    "let $r$ be half of a $\\cfrac{2}{\\sqrt{3}}$ length"
   ]
  },
  {
   "cell_type": "markdown",
   "metadata": {},
   "source": [
    "$$r = \\cfrac{1}{\\sqrt{3}}$$"
   ]
  },
  {
   "cell_type": "markdown",
   "metadata": {},
   "source": [
    "substitute $\\cfrac{1}{\\sqrt{3}}$ as $r$ into $P_{3d}$"
   ]
  },
  {
   "cell_type": "markdown",
   "metadata": {},
   "source": [
    "$$P_{3d}=-4r^2 \\cfrac{\\bar{z} \\mp r}{ | \\bar{z} \\mp r|^2} \\mp r$$"
   ]
  },
  {
   "cell_type": "markdown",
   "metadata": {},
   "source": [
    "recall equation $P_{2d}$"
   ]
  },
  {
   "cell_type": "markdown",
   "metadata": {},
   "source": [
    "$$P_{2d}=-4r^2 \\cfrac{\\bar{z} \\mp r}{ | \\bar{z} \\mp r|^2} \\mp r$$"
   ]
  },
  {
   "cell_type": "markdown",
   "metadata": {},
   "source": [
    "\n",
    "the equations are equal"
   ]
  },
  {
   "cell_type": "markdown",
   "metadata": {},
   "source": [
    "$$\\Large P_{3d}=P_{2d}$$"
   ]
  },
  {
   "cell_type": "markdown",
   "metadata": {},
   "source": [
    "when"
   ]
  },
  {
   "cell_type": "markdown",
   "metadata": {},
   "source": [
    "$$r = \\cfrac{1}{\\sqrt{3}}$$"
   ]
  },
  {
   "cell_type": "markdown",
   "metadata": {},
   "source": [
    "the claim is proven"
   ]
  },
  {
   "cell_type": "markdown",
   "metadata": {},
   "source": [
    "### symmetry"
   ]
  },
  {
   "cell_type": "markdown",
   "metadata": {},
   "source": [
    "The equations show that there is symmetry on the plane and symmetry on a projection globe for all points on the plane relative to two base points. However, the symmetry is displayed evenly and purely on the surface of the sphere, whereas it is distorted across the surface of the plane."
   ]
  },
  {
   "cell_type": "markdown",
   "metadata": {},
   "source": [
    "The globe has three primary points, seperated evenly $1/3$ over a great circle. THese points are the base points of the triangle and infinity."
   ]
  },
  {
   "cell_type": "markdown",
   "metadata": {},
   "source": [
    "The great circle running trough the base lines also runs through infinity"
   ]
  },
  {
   "cell_type": "markdown",
   "metadata": {},
   "source": [
    "The iscosolese triangles appear as three great circles"
   ]
  },
  {
   "cell_type": "markdown",
   "metadata": {},
   "source": [
    "right triangles are three connected rings"
   ]
  },
  {
   "cell_type": "markdown",
   "metadata": {},
   "source": [
    "the symmetry had three rotational divisions into 6 parts with an equator division making 12 symmetric wedges"
   ]
  },
  {
   "cell_type": "markdown",
   "metadata": {},
   "source": [
    "the equlateral triangle are at the poles which sit on the plane at one and negative one on the x-axis"
   ]
  },
  {
   "cell_type": "markdown",
   "metadata": {},
   "source": [
    "Displaying all 12 similar triangles from the base points at once requires 12 circular rings, with groups of 4 running through the base points and all running through infinity. The third point of these circles will be at one of six point symmetrically reflected about the equilateral point"
   ]
  },
  {
   "cell_type": "markdown",
   "metadata": {},
   "source": [
    "the $1:2:\\sqrt{3}$ triangle appears at the intersections of right and iscoseles triangle lines"
   ]
  },
  {
   "cell_type": "markdown",
   "metadata": {},
   "source": [
    "the base points display similar symmetry to infinity"
   ]
  },
  {
   "cell_type": "markdown",
   "metadata": {},
   "source": [
    "all straight lines on the plane are circles running through the infinity point"
   ]
  },
  {
   "cell_type": "markdown",
   "metadata": {},
   "source": [
    "### code\n",
    "\n",
    "equation equal tests using random points"
   ]
  },
  {
   "cell_type": "code",
   "execution_count": 1,
   "metadata": {
    "collapsed": false
   },
   "outputs": [],
   "source": [
    "from random import random\n",
    "from math   import sqrt\n",
    "from cmath  import isclose"
   ]
  },
  {
   "cell_type": "code",
   "execution_count": 2,
   "metadata": {
    "collapsed": true
   },
   "outputs": [],
   "source": [
    "# compare_function() will generate random points and test the given functions are within rounding errors\n",
    "def compare_equations(a,b):\n",
    "    for n in range(100):\n",
    "        x,y = 10*random()-5,10*random()-5\n",
    "        a1,a2 = a(x,y)\n",
    "        b1,b2 = b(x,y)\n",
    "        if not (isclose(a1,b1) and isclose(a2,b2)):\n",
    "            print('Test Failed at (x,y) = ({},{})'.format(x,y))\n",
    "            print(x,y)\n",
    "            print(a1,a2)\n",
    "            print(b1,b2)\n",
    "            break\n",
    "    print('Test complete')"
   ]
  },
  {
   "cell_type": "code",
   "execution_count": 3,
   "metadata": {
    "collapsed": true
   },
   "outputs": [],
   "source": [
    "def P3d(x,y):\n",
    "    i = 1j\n",
    "    s = (x**2 + y**2 + 1)/2\n",
    "    X = x/s\n",
    "    Y = y/s\n",
    "    Z = (s-1)/s\n",
    "    z = X+Z*i\n",
    "    p = ()\n",
    "    for sign in (1,-1):\n",
    "        r   = (-1+sign*sqrt(3)*i)/2\n",
    "        zr  = r*z\n",
    "        zrc = zr.conjugate()\n",
    "        Xr  = (zr+zrc)/2\n",
    "        Zr  = (zr-zrc)/(2*i)\n",
    "        p  += ((Xr+Y*i)/(1-Zr),)\n",
    "    return p\n"
   ]
  },
  {
   "cell_type": "code",
   "execution_count": 4,
   "metadata": {
    "collapsed": false
   },
   "outputs": [
    {
     "name": "stdout",
     "output_type": "stream",
     "text": [
      "Test complete\n"
     ]
    }
   ],
   "source": [
    "def P2d(x,y):\n",
    "    r = 1/sqrt(3)\n",
    "    z = x + y*1j\n",
    "    z = z.conjugate()\n",
    "    p = -(4*r**2*(z-r)/(abs(z-r)**2)+r), \\\n",
    "        -(4*r**2*(z+r)/(abs(z+r)**2)-r)\n",
    "    return p\n",
    "\n",
    "compare_equations(P2d,P3d)"
   ]
  },
  {
   "cell_type": "code",
   "execution_count": 5,
   "metadata": {
    "collapsed": false
   },
   "outputs": [
    {
     "name": "stdout",
     "output_type": "stream",
     "text": [
      "Test complete\n"
     ]
    }
   ],
   "source": [
    "def P2d(x,y):\n",
    "    z = x + y*1j\n",
    "    z = z.conjugate()\n",
    "    p = -4/3*(z-1/sqrt(3))/(abs(z-1/sqrt(3))**2)-1/sqrt(3), \\\n",
    "        -4/3*(z+1/sqrt(3))/(abs(z+1/sqrt(3))**2)+1/sqrt(3),\n",
    "    return p\n",
    "\n",
    "compare_equations(P2d,P3d)"
   ]
  },
  {
   "cell_type": "code",
   "execution_count": 6,
   "metadata": {
    "collapsed": false
   },
   "outputs": [
    {
     "name": "stdout",
     "output_type": "stream",
     "text": [
      "Test complete\n"
     ]
    }
   ],
   "source": [
    "def P2d(x,y):\n",
    "    p = -4/3*(x-y*1j-1/sqrt(3))/(abs(x-y*1j-1/sqrt(3))**2)-1/sqrt(3), \\\n",
    "        -4/3*(x-y*1j+1/sqrt(3))/(abs(x-y*1j+1/sqrt(3))**2)+1/sqrt(3),\n",
    "    return p\n",
    "\n",
    "compare_equations(P2d,P3d)"
   ]
  },
  {
   "cell_type": "code",
   "execution_count": 7,
   "metadata": {
    "collapsed": false
   },
   "outputs": [
    {
     "name": "stdout",
     "output_type": "stream",
     "text": [
      "Test complete\n"
     ]
    }
   ],
   "source": [
    "def P2d(x,y):\n",
    "    p = -4/3*(x-y*1j-1/sqrt(3))/((x-1/sqrt(3))**2+(y)**2)-1/sqrt(3), \\\n",
    "        -4/3*(x-y*1j+1/sqrt(3))/((x+1/sqrt(3))**2+(y)**2)+1/sqrt(3),\n",
    "    return p\n",
    "\n",
    "compare_equations(P2d,P3d)"
   ]
  },
  {
   "cell_type": "code",
   "execution_count": 8,
   "metadata": {
    "collapsed": false
   },
   "outputs": [
    {
     "name": "stdout",
     "output_type": "stream",
     "text": [
      "Test complete\n"
     ]
    }
   ],
   "source": [
    "def P2d(x,y):\n",
    "    p = 4*(x-y*1j-1/sqrt(3))/(-3*(x**2-2/sqrt(3)*x+1/3+y**2))-1/sqrt(3), \\\n",
    "        4*(x-y*1j+1/sqrt(3))/(-3*(x**2+2/sqrt(3)*x+1/3+y**2))+1/sqrt(3),\n",
    "    return p\n",
    "\n",
    "compare_equations(P2d,P3d)"
   ]
  },
  {
   "cell_type": "code",
   "execution_count": 9,
   "metadata": {
    "collapsed": false
   },
   "outputs": [
    {
     "name": "stdout",
     "output_type": "stream",
     "text": [
      "Test complete\n"
     ]
    }
   ],
   "source": [
    "def P2d(x,y):\n",
    "    p = (4*x-4*y*1j-4/sqrt(3))/(-3*x**2+2*sqrt(3)*x-1-3*y**2)-1/sqrt(3), \\\n",
    "        -4/3*(x-y*1j+1/sqrt(3))/((x+1/sqrt(3))**2+(y)**2)+1/sqrt(3),\n",
    "    return p\n",
    "\n",
    "compare_equations(P2d,P3d)"
   ]
  },
  {
   "cell_type": "code",
   "execution_count": 10,
   "metadata": {
    "collapsed": false
   },
   "outputs": [
    {
     "name": "stdout",
     "output_type": "stream",
     "text": [
      "Test complete\n"
     ]
    }
   ],
   "source": [
    "def P2d(x,y):\n",
    "    p = (4*x-4*y*1j-4/sqrt(3)+sqrt(3)*x**2-2*x+1/sqrt(3)+sqrt(3)*y**2)/(-3*x**2+2*sqrt(3)*x-1-3*y**2), \\\n",
    "        (4*x-4*y*1j+4/sqrt(3)-sqrt(3)*x**2-2*x-1/sqrt(3)-sqrt(3)*y**2)/(-3*x**2-2*sqrt(3)*x-1-3*y**2),\n",
    "    return p\n",
    "\n",
    "compare_equations(P2d,P3d)"
   ]
  },
  {
   "cell_type": "code",
   "execution_count": 11,
   "metadata": {
    "collapsed": false
   },
   "outputs": [
    {
     "name": "stdout",
     "output_type": "stream",
     "text": [
      "Test complete\n"
     ]
    }
   ],
   "source": [
    "def P2d(x,y):\n",
    "    p = (2*x-4*y*1j-3/sqrt(3)+sqrt(3)*x**2+sqrt(3)*y**2)/(-3*x**2+2*sqrt(3)*x-1-3*y**2), \\\n",
    "        (2*x-4*y*1j+3/sqrt(3)-sqrt(3)*x**2-sqrt(3)*y**2)/(-3*x**2-2*sqrt(3)*x-1-3*y**2),\n",
    "    return p\n",
    "\n",
    "compare_equations(P2d,P3d)"
   ]
  },
  {
   "cell_type": "code",
   "execution_count": 12,
   "metadata": {
    "collapsed": false
   },
   "outputs": [
    {
     "name": "stdout",
     "output_type": "stream",
     "text": [
      "Test complete\n"
     ]
    }
   ],
   "source": [
    "def P2d(x,y):\n",
    "    p = (+sqrt(3)*x*x+sqrt(3)*y*y+2*x-sqrt(3))/(-3*x*x-3*y*y+2*sqrt(3)*x-1)+(-4*y)/(-3*x*x-3*y*y+2*sqrt(3)*x-1)*1j, \\\n",
    "        (-sqrt(3)*x*x-sqrt(3)*y*y+2*x+sqrt(3))/(-3*x*x-3*y*y-2*sqrt(3)*x-1)+(-4*y)/(-3*x*x-3*y*y-2*sqrt(3)*x-1)*1j,\n",
    "    return p\n",
    "\n",
    "compare_equations(P2d,P3d)"
   ]
  },
  {
   "cell_type": "markdown",
   "metadata": {},
   "source": [
    "### credit"
   ]
  },
  {
   "cell_type": "markdown",
   "metadata": {},
   "source": [
    "Credit to wikipedia for concentrating information"
   ]
  }
 ],
 "metadata": {
  "kernelspec": {
   "display_name": "Python 3",
   "language": "python",
   "name": "python3"
  },
  "language_info": {
   "codemirror_mode": {
    "name": "ipython",
    "version": 3
   },
   "file_extension": ".py",
   "mimetype": "text/x-python",
   "name": "python",
   "nbconvert_exporter": "python",
   "pygments_lexer": "ipython3",
   "version": "3.5.3"
  }
 },
 "nbformat": 4,
 "nbformat_minor": 2
}
