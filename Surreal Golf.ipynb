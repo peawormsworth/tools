{
 "cells": [
  {
   "cell_type": "markdown",
   "metadata": {},
   "source": [
    "# Surreal Golf\n",
    "This paper reveals an efficient method for comparing surreal numbers using Python 3\n",
    "### Compare Surreal Numbers by Birth Order\n",
    "Surreal numbers have numeric labels and a birth order. \n",
    "This code provides 'less than or equal to' comparisons (<=) between finite dyatic surreal numbers using the index of their surreal number birth order.\n",
    "### Description\n",
    "Surreal number birth order begins: Nan, 0, -1, 1, -2, -1/2, 1/2, 2, -3, -3/2, -4/3, etc.\n",
    "\n",
    "We apply a count to surreal numbers as they are born...\n",
    "\n",
    "0 = empty set (void)\n",
    "\n",
    "1 = surreal number labelled  0\n",
    "\n",
    "2 = surreal number labelled -1\n",
    "\n",
    "3 = surreal number labelled  1\n",
    "\n",
    "4 = surreal number labelled -1/2\n",
    "\n",
    "n = surreal number label for Sn\n",
    "\n",
    "where:\n",
    "\n",
    "   n = positive integer\n",
    "\n",
    "  Sn = the numeric label of the nth surreal number creation\n",
    "\n",
    "### Surreal Comparison Code\n",
    "These 3 routines allow for less than or equals comparison between surreal numbers..."
   ]
  },
  {
   "cell_type": "code",
   "execution_count": 1,
   "metadata": {
    "collapsed": false
   },
   "outputs": [],
   "source": [
    "# returns the lessor (f=0) and greater (f=1) representations of s\n",
    "def part(s,f):\n",
    "    return part(s>>1,f) if (s&1)^f else s>>1 if s else s\n",
    "\n",
    "# list of the lessor and greater of s\n",
    "def parts(s):\n",
    "    return part(s,1), part(s,0)\n",
    "\n",
    "# less than or equal to comparsion of x and y split representations\n",
    "def le(x,y):\n",
    "    return not(x[0] and le(y,parts(x[0])) or y[1] and le(parts(y[1]),x))"
   ]
  },
  {
   "cell_type": "markdown",
   "metadata": {},
   "source": [
    "<hr>\n",
    "### Considerations\n",
    "\n",
    "The important parts of this paper are above this line. Everything is shown in the code above. The le() routine compares surreal representations descirbed by John Conway and other great men. The le() comparison requires \"breaking\" of the representation into its left and right. The part() routine provides the left and right parts without knowing the numeric value of the representation as a fraction. Implied but not highlighted here is a binary representation of surreal numbers which when incremented as standard binary matches their birth order.\n",
    "\n",
    "Code demonstrations with elaborations follow.\n",
    "### Comparative Examples\n",
    "the le() comparison routine operates differently than for standard integers, but correctly when we consider the integers to represent the surreal number birth order..."
   ]
  },
  {
   "cell_type": "code",
   "execution_count": 34,
   "metadata": {
    "collapsed": false
   },
   "outputs": [
    {
     "name": "stdout",
     "output_type": "stream",
     "text": [
      "\n",
      "Comparing...\n",
      "\n",
      "   Surreal No  :  Result\n",
      "   ==========     ======\n",
      "\n",
      "    s1 <= s1   :  True\n",
      "    s1 <= s2   :  False\n",
      "    s1 <= s3   :  True\n",
      "    s1 <= s4   :  False\n",
      "    s1 <= s5   :  False\n",
      "    s2 <= s1   :  True\n",
      "    s2 <= s2   :  True\n",
      "    s2 <= s3   :  True\n",
      "    s2 <= s4   :  False\n",
      "    s2 <= s5   :  True\n",
      "    s3 <= s1   :  False\n",
      "    s3 <= s2   :  False\n",
      "    s3 <= s3   :  True\n",
      "    s3 <= s4   :  False\n",
      "    s3 <= s5   :  False\n",
      "    s4 <= s1   :  True\n",
      "    s4 <= s2   :  True\n",
      "    s4 <= s3   :  True\n",
      "    s4 <= s4   :  True\n",
      "    s4 <= s5   :  True\n",
      "    s5 <= s1   :  True\n",
      "    s5 <= s2   :  False\n",
      "    s5 <= s3   :  True\n",
      "    s5 <= s4   :  False\n",
      "    s5 <= s5   :  True\n"
     ]
    }
   ],
   "source": [
    "print(\"\\nComparing...\\n\")\n",
    "print(\"   Surreal No  :  Result\")\n",
    "print(\"   ==========     ======\\n\")\n",
    "n = 6\n",
    "for a in range(1,n):\n",
    "    for b in range(1,n):\n",
    "        sa,sb = parts(a),parts(b)\n",
    "        print('  {:>4} <= {:<4} :  {}'.format('s'+str(a),'s'+str(b),le(sa,sb)))\n",
    "        "
   ]
  },
  {
   "cell_type": "markdown",
   "metadata": {},
   "source": [
    "### Surreal Numeric Labels\n",
    "Samples above show the comparison results, but do not show the underlying number labels applied to each surreal number.\n",
    "\n",
    "This code generates surreal labels as their numeric fractions according to John Conways surreal creation order."
   ]
  },
  {
   "cell_type": "code",
   "execution_count": 5,
   "metadata": {
    "collapsed": true
   },
   "outputs": [],
   "source": [
    "from fractions import Fraction\n",
    "def canal ():\n",
    "    yield\n",
    "    r=[Fraction(0,1)]\n",
    "    yield r[0]\n",
    "    while True:\n",
    "        yield r[0] - 1\n",
    "        rn = [r[0]]\n",
    "        for n in r[1:]:\n",
    "            m = (rn[-1]+n)/2\n",
    "            yield m\n",
    "            rn.extend((m,n))\n",
    "        yield rn[-1]+1\n",
    "        r = [rn[0]-1] + rn + [rn[-1]+1]"
   ]
  },
  {
   "cell_type": "markdown",
   "metadata": {},
   "source": [
    "The canal() routine generates a set of ordered labels (fractions) in the order that they are generated as described for surreal number creation.\n",
    "\n",
    "Here is a long list of them..."
   ]
  },
  {
   "cell_type": "code",
   "execution_count": 35,
   "metadata": {
    "collapsed": false
   },
   "outputs": [
    {
     "name": "stdout",
     "output_type": "stream",
     "text": [
      "\n",
      "Surreal numeric labels according to birth order...\n",
      "\n",
      "  Order        Label\n",
      "  ======      =======\n",
      "    0          None\n",
      "    1             0\n",
      "    2            -1\n",
      "    3             1\n",
      "    4            -2\n",
      "    5          -1/2\n",
      "    6           1/2\n",
      "    7             2\n",
      "    8            -3\n",
      "    9          -3/2\n",
      "   10          -3/4\n",
      "   11          -1/4\n",
      "   12           1/4\n",
      "   13           3/4\n",
      "   14           3/2\n",
      "   15             3\n",
      "   16            -4\n",
      "   17          -5/2\n",
      "   18          -7/4\n",
      "   19          -5/4\n",
      "   20          -7/8\n",
      "   21          -5/8\n",
      "   22          -3/8\n",
      "   23          -1/8\n",
      "   24           1/8\n",
      "   25           3/8\n",
      "   26           5/8\n",
      "   27           7/8\n",
      "   28           5/4\n",
      "   29           7/4\n",
      "   30           5/2\n",
      "   31             4\n",
      "   32            -5\n",
      "   33          -7/2\n",
      "   34         -11/4\n",
      "   35          -9/4\n",
      "   36         -15/8\n",
      "   37         -13/8\n",
      "   38         -11/8\n",
      "   39          -9/8\n",
      "   40         -15/16\n",
      "   41         -13/16\n",
      "   42         -11/16\n",
      "   43         -9/16\n",
      "   44         -7/16\n",
      "   45         -5/16\n",
      "   46         -3/16\n",
      "   47         -1/16\n",
      "   48          1/16\n",
      "   49          3/16\n",
      "   50          5/16\n",
      "   51          7/16\n",
      "   52          9/16\n",
      "   53         11/16\n",
      "   54         13/16\n",
      "   55         15/16\n",
      "   56           9/8\n",
      "   57          11/8\n",
      "   58          13/8\n",
      "   59          15/8\n",
      "   60           9/4\n",
      "   61          11/4\n",
      "   62           7/2\n",
      "   63             5\n"
     ]
    }
   ],
   "source": [
    "birth = canal()\n",
    "print(\"\\nSurreal numeric labels according to birth order...\\n\")\n",
    "print(\"  Order        Label\")\n",
    "print(\"  ======      =======\")\n",
    "for i in range(2**6):\n",
    "    print('{:>5}         {:>5}'.format(i,str(next(birth))))"
   ]
  },
  {
   "cell_type": "markdown",
   "metadata": {},
   "source": [
    "### Full Comparison\n",
    "Condition results are matched for pairs of labels compared numerically (a<=b) and then by index number using le(a,b) in the code below."
   ]
  },
  {
   "cell_type": "code",
   "execution_count": 10,
   "metadata": {
    "collapsed": false
   },
   "outputs": [
    {
     "name": "stdout",
     "output_type": "stream",
     "text": [
      "\n",
      "Compare the first 512 surreal numbers with each other...\n",
      "\n",
      "\tSUCCESS: 262144 comparisons\n"
     ]
    }
   ],
   "source": [
    "days = 9\n",
    "n = 2**days\n",
    "print('\\nCompare the first {} surreal numbers with each other...'.format(n))\n",
    "birth = canal()\n",
    "sl = [ next(birth) for i in range(2**10) ]\n",
    "for a in range(1,n):\n",
    "    for b in range(1,n):\n",
    "        assert le(parts(a),parts(b)) is (sl[a] <= sl[b]), print('''\n",
    "\n",
    "The {}-th surreal represents the number is {}\n",
    "The {}-th surreal represents the number is {}\n",
    "{}   <= {} should be {}\n",
    "{}th <= {}th      is {}\n",
    "        '''.format(a,str(sl[a]),b,str(sl[b]),sl[a],sl[b],sl[a]<sl[b],a,b,le(parts(a),parts(b)))\n",
    "        )\n",
    "else:\n",
    "    print('\\n\\tSUCCESS: {} comparisons'.format(n**2))\n",
    "\n"
   ]
  },
  {
   "cell_type": "markdown",
   "metadata": {},
   "source": [
    "### Inspection of part()\n",
    "The code will removes trailing bits from the binary representation of s up to the first occurence of f.\n",
    "\n",
    "(s&a)^f ... copy the last digit of s and flip it if f=1\n",
    "\n",
    "p(s>>,f) ... start this routine again, but with the last digit from s removed\n",
    "\n",
    "s>>1 ... remove the last bit from s\n",
    "\n",
    "x if s else s ... to return 0 if s=0, and x if s=1\n",
    "\n",
    "Combined into a phrase, the entine routine says:\n",
    "\n",
    "*\"if the last bit of s is equal to f then strip this bit off and repeat these instructions. Otherwise, just return s with this last bit removed\"*\n",
    "\n",
    "while it's effect is...\n",
    "\n",
    "*\"given a number, return the value of its binary representation up to and before the occurrence of the last bit set to f\"*"
   ]
  },
  {
   "cell_type": "markdown",
   "metadata": {},
   "source": [
    "### output from part()\n",
    "part(39,x) shows that the 39th surreal number has the 19th surreal number on its left and the 2nd surreal on its right.\n",
    "\n",
    "The binary representation of 39, 19 and 2 reveal that part() has removed trailing bits from 39 up to (but not including) the last occurence of 0 and 1.\n"
   ]
  },
  {
   "cell_type": "code",
   "execution_count": 11,
   "metadata": {
    "collapsed": false
   },
   "outputs": [
    {
     "name": "stdout",
     "output_type": "stream",
     "text": [
      "\n",
      "Given the number 39, part() strips off its trailing bits...\n",
      "\n",
      "stripping back to the first one  gives: 19\n",
      "stripping back to the first zero gives: 2\n",
      "\n",
      "The binary representation of 39 : 100111\n",
      "The binary representation of 19 : 10011\n",
      "The binary representation of 2  : 10\n"
     ]
    }
   ],
   "source": [
    "print('\\nGiven the number 39, part() strips off its trailing bits...')\n",
    "print('\\nstripping back to the first one  gives:', part(39,1))\n",
    "print(  'stripping back to the first zero gives:', part(39,0))\n",
    "print('\\nThe binary representation of 39 :',bin(39)[2:])\n",
    "print(  'The binary representation of 19 :',bin(19)[2:])\n",
    "print(  'The binary representation of 2  :',bin(2)[2:])"
   ]
  },
  {
   "cell_type": "markdown",
   "metadata": {},
   "source": [
    "The above shows how part() strips the trailing bits up the first occrentce of a 1 or 0.\n",
    "\n",
    "It is also suggesting that these stripped numbers are equivelent to the the left and right dyatics found in a surreal representation. The example above says that the 39th surreal number created has on its left the 19th surreal number and on its right the 2nd surreal creation.\n",
    "\n",
    "Checking this we find the 39th surreal to be labelled \"-9/8\". The 2nd surreal is \"-1\" and the 19th surreal is \"-5/4\". And this implies that -9/8 has the surreal representation:\n",
    "\n",
    "-9/8 = (-5/4,-1)\n",
    "\n",
    "This is true, since -9/8 is in the middle of the other two by verifying the truth: ((-5/4)+(-1))/2 = -9/8"
   ]
  },
  {
   "cell_type": "markdown",
   "metadata": {},
   "source": [
    "### Inspection of parts()\n",
    "The code provides a list pair of left then right surreal index numbers of the provided surreal index number."
   ]
  },
  {
   "cell_type": "code",
   "execution_count": 12,
   "metadata": {
    "collapsed": false
   },
   "outputs": [
    {
     "name": "stdout",
     "output_type": "stream",
     "text": [
      "Given the number 39, the left and right surreal numbers by index are: (19, 2)\n"
     ]
    }
   ],
   "source": [
    "print('Given the number 39, the left and right surreal numbers by index are:',parts(39))"
   ]
  },
  {
   "cell_type": "markdown",
   "metadata": {},
   "source": [
    "a full list of surreal numbers indexed by birth order and their left and right parts is given."
   ]
  },
  {
   "cell_type": "code",
   "execution_count": 37,
   "metadata": {
    "collapsed": false
   },
   "outputs": [
    {
     "name": "stdout",
     "output_type": "stream",
     "text": [
      "1 => (0, 0)\n",
      "2 => (0, 1)\n",
      "3 => (1, 0)\n",
      "4 => (0, 2)\n",
      "5 => (2, 1)\n",
      "6 => (1, 3)\n",
      "7 => (3, 0)\n",
      "8 => (0, 4)\n",
      "9 => (4, 2)\n",
      "10 => (2, 5)\n",
      "11 => (5, 1)\n",
      "12 => (1, 6)\n",
      "13 => (6, 3)\n",
      "14 => (3, 7)\n",
      "15 => (7, 0)\n",
      "16 => (0, 8)\n",
      "17 => (8, 4)\n",
      "18 => (4, 9)\n",
      "19 => (9, 2)\n",
      "20 => (2, 10)\n",
      "21 => (10, 5)\n",
      "22 => (5, 11)\n",
      "23 => (11, 1)\n",
      "24 => (1, 12)\n",
      "25 => (12, 6)\n",
      "26 => (6, 13)\n",
      "27 => (13, 3)\n",
      "28 => (3, 14)\n",
      "29 => (14, 7)\n",
      "30 => (7, 15)\n",
      "31 => (15, 0)\n"
     ]
    }
   ],
   "source": [
    "for i in range(1,2**5):\n",
    "    print('{} => {}'.format(i,parts(i)))"
   ]
  },
  {
   "cell_type": "markdown",
   "metadata": {},
   "source": [
    "### Inspection of le()\n",
    "The le() routine is repeated here..."
   ]
  },
  {
   "cell_type": "code",
   "execution_count": 39,
   "metadata": {
    "collapsed": true
   },
   "outputs": [],
   "source": [
    "def le(x,y):\n",
    "    return not(x[0] and le(y,parts(x[0])) or y[1] and le(parts(y[1]),x))"
   ]
  },
  {
   "cell_type": "markdown",
   "metadata": {},
   "source": [
    "The code returns True is x if less than or equal to y.\n",
    "\n",
    "x[0] and le(y,parts(x[0])... will be True if x has a left side and y is less than it.\n",
    "\n",
    "y[1] and le(parts(y[1]),x))... will be True is y has a right side and it is less than x.\n",
    "\n",
    "These results are combined so that it will be True unless one of the above is False.\n",
    "\n",
    "This is negated with a not so that it will be False unless one of the above is False.\n",
    "\n",
    "and this can be stated as:\n",
    "\n",
    "\"It will be True unless x has a left side that y isn't less than or y has a right side that isn't greater than x\"\n",
    "\n",
    "which is how surreal number comparison is described"
   ]
  },
  {
   "cell_type": "markdown",
   "metadata": {},
   "source": [
    "### Time and place for humor\n",
    "Humor happens when code shows that \"3 is one, 2 is negative one, 1 is nothing and 0 is not a number\" while recalling that it is false when spoken.\n",
    "\n",
    "Numeric labels of incremental counts are not diffrentiated from labels of numeric magnitude. Language has assumptions that code does not while the difference is labelled as humor. The following code detects an instance of this class of humor."
   ]
  },
  {
   "cell_type": "code",
   "execution_count": 40,
   "metadata": {
    "collapsed": false
   },
   "outputs": [
    {
     "name": "stdout",
     "output_type": "stream",
     "text": [
      "\n",
      "Show by comparison that 3 is one, 2 is negative one, 1 is zero and 0 is not comparable as a number\n",
      "\n",
      "        Labels            Concepts            Concepts Compared\n",
      "        ======            ========            =================\n",
      "\n",
      "\t3 <= 3            one <= one                True\n",
      "\t3 <= 2            one <= neg one            False\n",
      "\t3 <= 1            one <= zero               False\n",
      "\t2 <= 3        neg one <= one                True\n",
      "\t2 <= 2        neg one <= neg one            True\n",
      "\t2 <= 1        neg one <= zero               True\n",
      "\t1 <= 3           zero <= one                True\n",
      "\t1 <= 2           zero <= neg one            False\n",
      "\t1 <= 1           zero <= zero               True\n",
      "\n",
      "Check that 0 cannot be compared...\n",
      "\n",
      "The comparison could not be completed because of this error:\n",
      "\n",
      "\terror message: maximum recursion depth exceeded\n"
     ]
    }
   ],
   "source": [
    "words = {\n",
    "    3 : 'one',\n",
    "    2 : 'neg one',\n",
    "    1 : 'zero',\n",
    "    0 : 'NaN',\n",
    "}\n",
    "\n",
    "print(\"\\nShow by comparison that 3 is one, 2 is negative one, 1 is zero and 0 is not comparable as a number\\n\")\n",
    "print(\"        Labels            Concepts            Concepts Compared\")\n",
    "print(\"        ======            ========            =================\\n\")\n",
    "for a in (3,2,1):\n",
    "    for b in (3,2,1):\n",
    "        print(\"\\t{} <= {}        {:>7} <= {:<7}            {}\".format(a,b,words[a],words[b],le(parts(a),parts(b))))\n",
    "\n",
    "print(\"\\nCheck that 0 cannot be compared...\")\n",
    "try:\n",
    "    le(parts(0),parts(0))\n",
    "except RecursionError as e:\n",
    "    print(\"\\nThe comparison could not be completed because of this error:\\n\\n\\terror message:\",e)"
   ]
  },
  {
   "cell_type": "markdown",
   "metadata": {},
   "source": [
    "the statements have been proven, the humor has ended.\n",
    "### Reduced Forms\n",
    "\n",
    "A list of reduced surreal forms."
   ]
  },
  {
   "cell_type": "code",
   "execution_count": 44,
   "metadata": {
    "collapsed": false
   },
   "outputs": [
    {
     "name": "stdout",
     "output_type": "stream",
     "text": [
      "\n",
      "The first 64 surreal numbers in reduced (R|L) form...\n",
      "\n",
      "       0 => (  None|None  )\n",
      "      -1 => (  None|0     )\n",
      "       1 => (     0|None  )\n",
      "      -2 => (  None|-1    )\n",
      "    -1/2 => (    -1|0     )\n",
      "     1/2 => (     0|1     )\n",
      "       2 => (     1|None  )\n",
      "      -3 => (  None|-2    )\n",
      "    -3/2 => (    -2|-1    )\n",
      "    -3/4 => (    -1|-1/2  )\n",
      "    -1/4 => (  -1/2|0     )\n",
      "     1/4 => (     0|1/2   )\n",
      "     3/4 => (   1/2|1     )\n",
      "     3/2 => (     1|2     )\n",
      "       3 => (     2|None  )\n",
      "      -4 => (  None|-3    )\n",
      "    -5/2 => (    -3|-2    )\n",
      "    -7/4 => (    -2|-3/2  )\n",
      "    -5/4 => (  -3/2|-1    )\n",
      "    -7/8 => (    -1|-3/4  )\n",
      "    -5/8 => (  -3/4|-1/2  )\n",
      "    -3/8 => (  -1/2|-1/4  )\n",
      "    -1/8 => (  -1/4|0     )\n",
      "     1/8 => (     0|1/4   )\n",
      "     3/8 => (   1/4|1/2   )\n",
      "     5/8 => (   1/2|3/4   )\n",
      "     7/8 => (   3/4|1     )\n",
      "     5/4 => (     1|3/2   )\n",
      "     7/4 => (   3/2|2     )\n",
      "     5/2 => (     2|3     )\n",
      "       4 => (     3|None  )\n",
      "      -5 => (  None|-4    )\n",
      "    -7/2 => (    -4|-3    )\n",
      "   -11/4 => (    -3|-5/2  )\n",
      "    -9/4 => (  -5/2|-2    )\n",
      "   -15/8 => (    -2|-7/4  )\n",
      "   -13/8 => (  -7/4|-3/2  )\n",
      "   -11/8 => (  -3/2|-5/4  )\n",
      "    -9/8 => (  -5/4|-1    )\n",
      "  -15/16 => (    -1|-7/8  )\n",
      "  -13/16 => (  -7/8|-3/4  )\n",
      "  -11/16 => (  -3/4|-5/8  )\n",
      "   -9/16 => (  -5/8|-1/2  )\n",
      "   -7/16 => (  -1/2|-3/8  )\n",
      "   -5/16 => (  -3/8|-1/4  )\n",
      "   -3/16 => (  -1/4|-1/8  )\n",
      "   -1/16 => (  -1/8|0     )\n",
      "    1/16 => (     0|1/8   )\n",
      "    3/16 => (   1/8|1/4   )\n",
      "    5/16 => (   1/4|3/8   )\n",
      "    7/16 => (   3/8|1/2   )\n",
      "    9/16 => (   1/2|5/8   )\n",
      "   11/16 => (   5/8|3/4   )\n",
      "   13/16 => (   3/4|7/8   )\n",
      "   15/16 => (   7/8|1     )\n",
      "     9/8 => (     1|5/4   )\n",
      "    11/8 => (   5/4|3/2   )\n",
      "    13/8 => (   3/2|7/4   )\n",
      "    15/8 => (   7/4|2     )\n",
      "     9/4 => (     2|5/2   )\n",
      "    11/4 => (   5/2|3     )\n",
      "     7/2 => (     3|4     )\n",
      "       5 => (     4|None  )\n"
     ]
    }
   ],
   "source": [
    "days = 6\n",
    "n = 2**days\n",
    "print('\\nThe first {} surreal numbers in reduced (R|L) form...\\n'.format(n))\n",
    "birth = canal()\n",
    "sl = [ next(birth) for i in range(n) ]\n",
    "for a in range(1,n):\n",
    "    l,r = parts(a)\n",
    "    print('{:>8} => ({:>6}|{:<6})'.format(str(sl[a]),str(sl[l]),str(sl[r])))\n"
   ]
  },
  {
   "cell_type": "markdown",
   "metadata": {},
   "source": [
    "### Result\n",
    "Surreal numbers can be held and manipulated for comparison in a binary format. The comparison routines are simple and correctly operate on integers as if they represented surreal numbers indexed by birth order.\n",
    "\n",
    "Comparisons are performed without determining or comparing the numeric labels applied to these numbers according to the order provided by John Conway.\n",
    "\n",
    "It is revealed that surreal number comparison operations work on binary representations without dependence on accumulator operations. Perhaps this could be repeated in hardware and extended to provide a computer with non-standard binary processes for math operations."
   ]
  }
 ],
 "metadata": {
  "kernelspec": {
   "display_name": "Python 3",
   "language": "python",
   "name": "python3"
  },
  "language_info": {
   "codemirror_mode": {
    "name": "ipython",
    "version": 3
   },
   "file_extension": ".py",
   "mimetype": "text/x-python",
   "name": "python",
   "nbconvert_exporter": "python",
   "pygments_lexer": "ipython3",
   "version": "3.5.3"
  }
 },
 "nbformat": 4,
 "nbformat_minor": 2
}
