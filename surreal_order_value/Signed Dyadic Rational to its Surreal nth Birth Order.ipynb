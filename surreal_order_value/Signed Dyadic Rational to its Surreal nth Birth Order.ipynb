{
 "cells": [
  {
   "cell_type": "markdown",
   "metadata": {},
   "source": [
    "# Surreal Numeric Value to Label Equality\n",
    "The surreal birth order sequence number of any finite signed dyadic ration can be found using the following equation:"
   ]
  },
  {
   "cell_type": "code",
   "execution_count": 2,
   "metadata": {
    "collapsed": false
   },
   "outputs": [],
   "source": [
    "# This paper includes code that may require importing...\n",
    "from random    import uniform, randrange, choice, randint, random\n",
    "from math      import floor, log, log2\n",
    "from fractions import Fraction"
   ]
  },
  {
   "cell_type": "markdown",
   "metadata": {},
   "source": [
    "$$\\large n=\\frac{2^{l}\\left(s\\right(\\frac{\\frac{f}{2}-1}{2^{w}}+1\\left)+3\\right)-1}{2}$$"
   ]
  },
  {
   "cell_type": "markdown",
   "metadata": {},
   "source": [
    "d_to_n is the code the calculates this function."
   ]
  },
  {
   "cell_type": "code",
   "execution_count": 3,
   "metadata": {
    "collapsed": false
   },
   "outputs": [],
   "source": [
    "def d_to_n(d,l):\n",
    "    \n",
    "    a = abs(d)\n",
    "    s = a/d if d else 1\n",
    "    s = d and a/d\n",
    "    #s = a/d\n",
    "    w = floor(a)\n",
    "    f = a-w\n",
    "    # is l = w + (f and log(1/f)) + 1\n",
    "    \n",
    "    return (2**l*(s*((f/2-1)/2**w+1)+3)-1)/2"
   ]
  },
  {
   "cell_type": "markdown",
   "metadata": {},
   "source": [
    "Where:\n",
    "\n",
    "    d = a positive or negative dyadic fraction, having form: s(w+f)\n",
    "    s = sign of d\n",
    "    w = whole part of d\n",
    "    f = fractional part of d\n",
    "    l = length of register to contain n\n",
    "    n = the nth surreal number having the label (d)\n",
    "\n",
    "    d = a given signed fraction that fits in a computer.\n",
    "    a = abs(d)\n",
    "    s = a/d\n",
    "    w = floor(a)\n",
    "    f = a-w\n",
    "    l = x (x > w + (f and log2(1/f)) + 1)"
   ]
  },
  {
   "cell_type": "markdown",
   "metadata": {},
   "source": [
    "The birth_order() code generates a list of surreal labels in the order they are born"
   ]
  },
  {
   "cell_type": "code",
   "execution_count": 4,
   "metadata": {
    "collapsed": false
   },
   "outputs": [
    {
     "name": "stdout",
     "output_type": "stream",
     "text": [
      "   0:   None\n",
      "   1:      0\n",
      "   2:     -1\n",
      "   3:      1\n",
      "   4:     -2\n",
      "   5:   -1/2\n",
      "   6:    1/2\n",
      "   7:      2\n",
      "   8:     -3\n",
      "   9:   -3/2\n",
      "  10:   -3/4\n",
      "  11:   -1/4\n",
      "  12:    1/4\n",
      "  13:    3/4\n",
      "  14:    3/2\n",
      "  15:      3\n"
     ]
    }
   ],
   "source": [
    "def birth_order (r=[Fraction(0,1)]):\n",
    "    \"\"\"yeilds fractions according to their birthday ordering.\n",
    "    None,0,-1,1,-2,-1/2,1/2,2,-3...\n",
    "    \"\"\"\n",
    "    yield None\n",
    "    yield r[0]\n",
    "    while 1:\n",
    "        yield r[0] - 1\n",
    "        rn = [r[0]]\n",
    "        for n in r[1:]:\n",
    "            m = (rn[-1]+n)/2\n",
    "            yield m\n",
    "            rn.extend((m,n))\n",
    "        yield rn[-1]+1\n",
    "        r = [rn[0]-1] + rn + [rn[-1]+1]\n",
    "        \n",
    "in_sequence = birth_order()\n",
    "for n in range(2**4):\n",
    "    v = next(in_sequence)\n",
    "    print('{:4}: {:>6}'.format(n,str(v)))"
   ]
  },
  {
   "cell_type": "markdown",
   "metadata": {},
   "source": [
    "This code cycles through the first few surreal numeric values (labels) in order and checks that the equation returns the expected nth values in order."
   ]
  },
  {
   "cell_type": "code",
   "execution_count": 5,
   "metadata": {
    "collapsed": false
   },
   "outputs": [
    {
     "name": "stdout",
     "output_type": "stream",
     "text": [
      "if surreal number 1  has label    0 then we expect do_to_n(   0) = 1\n",
      "if surreal number 2  has label   -1 then we expect do_to_n(  -1) = 2\n",
      "if surreal number 3  has label    1 then we expect do_to_n(   1) = 3\n",
      "if surreal number 4  has label   -2 then we expect do_to_n(  -2) = 4\n",
      "if surreal number 5  has label -1/2 then we expect do_to_n(-1/2) = 5\n",
      "if surreal number 6  has label  1/2 then we expect do_to_n( 1/2) = 6\n",
      "if surreal number 7  has label    2 then we expect do_to_n(   2) = 7\n",
      "if surreal number 8  has label   -3 then we expect do_to_n(  -3) = 8\n",
      "if surreal number 9  has label -3/2 then we expect do_to_n(-3/2) = 9\n",
      "if surreal number 10 has label -3/4 then we expect do_to_n(-3/4) = 10\n",
      "if surreal number 11 has label -1/4 then we expect do_to_n(-1/4) = 11\n",
      "if surreal number 12 has label  1/4 then we expect do_to_n( 1/4) = 12\n",
      "if surreal number 13 has label  3/4 then we expect do_to_n( 3/4) = 13\n",
      "if surreal number 14 has label  3/2 then we expect do_to_n( 3/2) = 14\n",
      "if surreal number 15 has label    3 then we expect do_to_n(   3) = 15\n",
      "\n",
      "success: above is True\n"
     ]
    }
   ],
   "source": [
    "in_sequence = birth_order()\n",
    "for n in range(2**4):\n",
    "    d = next(in_sequence)\n",
    "    if d is None: continue\n",
    "    l = n and floor(log(n,2))\n",
    "    print('if surreal number {:<2} has label {:>4} then we expect do_to_n({:>4}) = {}'.format(n,str(d),str(d),n))\n",
    "    assert(n==d_to_n(d,l))\n",
    "print(\"\\nsuccess: above is True\")"
   ]
  },
  {
   "cell_type": "markdown",
   "metadata": {},
   "source": [
    "The equation has symmetry"
   ]
  },
  {
   "cell_type": "markdown",
   "metadata": {},
   "source": [
    "$$\\large s\\left(\\frac{2^{t}m+t}{2^{x}}+1\\right)-2 t$$\n",
    "\n",
    "    where:\n",
    "\n",
    "    t = type (+1 = order, -1 = value)\n",
    "    s = sign (+/- for value and always + for order)\n",
    "    m = mantisa or significand (fraction of reduced mixed value and order as a fraction of 1 for value)\n",
    "    x = exponent (whole of mixed value and 0 count bits size of register for order)"
   ]
  },
  {
   "cell_type": "markdown",
   "metadata": {},
   "source": [
    "This symmetric equation can be broken into a left, or surreal birth order number half and a right, or surreal numeric value half."
   ]
  },
  {
   "cell_type": "markdown",
   "metadata": {},
   "source": [
    "On the left side we substitute:\n",
    "\n",
    "    t = +1\n",
    "    s = +1\n",
    "    m = n (the nth surreal)\n",
    "    x = b (the register required to contain n)\n",
    "\n",
    "On the right side we substitute:\n",
    "\n",
    "    t = -1\n",
    "    s = sign part\n",
    "    m = fraction part\n",
    "    x = whole part\n",
    "\n",
    "$$\\large \\frac{2n+1}{2^{b}}-1 = s \\left( \\frac{\\frac{f}{2}-1}{2^{w}}+1 \\right) +2$$"
   ]
  },
  {
   "cell_type": "markdown",
   "metadata": {},
   "source": [
    "The graph below displays the left side of the equation in black and the right side in green.\n",
    "The black line has Integer input and it is only valid at whole number values.\n",
    "The green line has real continuous input. \n",
    "<img src=\"image/graph.jpg\" width=\"800\">\n",
    "The graph shows the results for the first few surreal inputs. The dark dots are birth order numbers. Green dots are dyadic rational surreal values.\n",
    "<img src=\"image/graph2.jpg\" width=\"800\">\n",
    "The birth order and numeric value of surreal numbers are not in the same order, so they can not be displayed over top of each other directly. However, the graph shows their equality in height. They are equal when their different inputs result in equal outputs. Remember that the green line is continuous (dyadics), but the dark line is only valid at the integer points. When the green line drops, the value appears at the bottom of the dip.\n",
    "\n",
    "\n",
    "The height of the dark dots will be equal to some green dot on the green line.\n",
    "The green dot on the green line is the dyatic value. That dyatic will be the value of the surreal number which is read off the y-axis.\n",
    "<img src=\"image/graph4.jpg\" width=\"800\">"
   ]
  },
  {
   "cell_type": "markdown",
   "metadata": {},
   "source": [
    "In the above graph reading, the 3rd surreal number has a height on the dark line of 5/2. Following this height across to the green line, meets at a point above 1. This means that the 3rd surreal number is 1 and it is (when counting zero as the first of numbers).\n",
    "The blue line shows the connection between the 10th surreal number and its value of 3/8."
   ]
  },
  {
   "cell_type": "markdown",
   "metadata": {},
   "source": [
    "The equality and split equations are coded.\n",
    "\n",
    "This shows that given some surreal order number (n) and value (v) the two sides of the above equation will be true. "
   ]
  },
  {
   "cell_type": "code",
   "execution_count": 6,
   "metadata": {
    "collapsed": false
   },
   "outputs": [],
   "source": [
    "def equality(t,s,x,m):\n",
    "    return s*((2**t*m+t)/(2**x)+1)-2*t\n",
    "\n",
    "def left_equality(n,b):\n",
    "    return (2*n+1)/2**b-1\n",
    "\n",
    "def right_equality(s,w,f):\n",
    "    return s*((f/2-1)/2**w+1)+2"
   ]
  },
  {
   "cell_type": "markdown",
   "metadata": {},
   "source": [
    "The left and right equations are tested with surreal data to confirm equality."
   ]
  },
  {
   "cell_type": "code",
   "execution_count": 7,
   "metadata": {
    "collapsed": false
   },
   "outputs": [
    {
     "name": "stdout",
     "output_type": "stream",
     "text": [
      "starting values show... first equation == second equation\n",
      "\n",
      "\n",
      "   1th is    0          =>          2.0 = 2\n",
      " order equality: 2.0\n",
      " value equality: 2.0\n",
      "\n",
      "   2th is   -1          =>          1.5 = 3/2\n",
      " order equality: 1.5\n",
      " value equality: 1.5\n",
      "\n",
      "   3th is    1          =>          2.5 = 5/2\n",
      " order equality: 2.5\n",
      " value equality: 2.5\n",
      "\n",
      "   4th is   -2          =>         1.25 = 5/4\n",
      " order equality: 1.25\n",
      " value equality: 1.25\n",
      "\n",
      "   5th is -1/2          =>         1.75 = 7/4\n",
      " order equality: 1.75\n",
      " value equality: 1.75\n",
      "\n",
      "   6th is  1/2          =>         2.25 = 9/4\n",
      " order equality: 2.25\n",
      " value equality: 2.25\n",
      "\n",
      "   7th is    2          =>         2.75 = 11/4\n",
      " order equality: 2.75\n",
      " value equality: 2.75\n",
      "\n",
      "   8th is   -3          =>        1.125 = 9/8\n",
      " order equality: 1.125\n",
      " value equality: 1.125\n",
      "\n",
      "   9th is -3/2          =>        1.375 = 11/8\n",
      " order equality: 1.375\n",
      " value equality: 1.375\n",
      "\n",
      "  10th is -3/4          =>        1.625 = 13/8\n",
      " order equality: 1.625\n",
      " value equality: 1.625\n",
      "\n",
      "  11th is -1/4          =>        1.875 = 15/8\n",
      " order equality: 1.875\n",
      " value equality: 1.875\n",
      "\n",
      "  12th is  1/4          =>        2.125 = 17/8\n",
      " order equality: 2.125\n",
      " value equality: 2.125\n",
      "\n",
      "  13th is  3/4          =>        2.375 = 19/8\n",
      " order equality: 2.375\n",
      " value equality: 2.375\n",
      "\n",
      "  14th is  3/2          =>        2.625 = 21/8\n",
      " order equality: 2.625\n",
      " value equality: 2.625\n",
      "\n",
      "  15th is    3          =>        2.875 = 23/8\n",
      " order equality: 2.875\n",
      " value equality: 2.875\n",
      "\n",
      "success: above is True\n"
     ]
    }
   ],
   "source": [
    "in_sequence = birth_order()\n",
    "print('starting values show... first equation == second equation\\n')\n",
    "for n in range(2**4):\n",
    "    d = next(in_sequence)\n",
    "    if d is None: continue\n",
    "        \n",
    "    b = n and floor(log(n,2))\n",
    "    a = abs(d)\n",
    "    s = d and a/d\n",
    "    w = floor(a)\n",
    "    f = a - w\n",
    "        \n",
    "\n",
    "    print('\\n {:3}th is {:>4}          =>       {:>6} = {}'.format(n,str(d),left_equality(n,b),right_equality(s,w,f)))\n",
    "    print(' order equality:', equality(+1,+1,b,n))\n",
    "    print(' value equality:', equality(-1,s,w,f))\n",
    "    assert(left_equality(n,b)==right_equality(s,w,f))\n",
    "    assert(equality(+1,+1,b,n)==equality(-1,s,w,f))\n",
    "print(\"\\nsuccess: above is True\")"
   ]
  },
  {
   "cell_type": "code",
   "execution_count": 14,
   "metadata": {
    "collapsed": false
   },
   "outputs": [
    {
     "name": "stdout",
     "output_type": "stream",
     "text": [
      "nth surreal / Dyadic Rational\n",
      "\n",
      "Claim 0: that dyadic 0.0 is the 5.5th surreal number\n",
      "   2.0 = 2.0\n",
      "\n",
      "Claim 1: that dyadic 0.0 is the 5.5th surreal number\n",
      "   2.0 = 2.0\n",
      "\n",
      "Claim 2: that dyadic -1.0 is the 4.5th surreal number\n",
      "   1.5 = 1.5\n",
      "\n",
      "Claim 3: that dyadic 0.0 is the 5.5th surreal number\n",
      "   2.0 = 2.0\n",
      "\n",
      "Claim 4: that dyadic -1.0 is the 4.5th surreal number\n",
      "   1.5 = 1.5\n",
      "\n",
      "Claim 5: that dyadic 0.0 is the 5.5th surreal number\n",
      "   2.0 = 2.0\n",
      "\n",
      "Claim 6: that dyadic 0.0 is the 5.5th surreal number\n",
      "   2.0 = 2.0\n",
      "\n",
      "Claim 7: that dyadic 0.0 is the 5.5th surreal number\n",
      "   2.0 = 2.0\n",
      "\n",
      "success: above is (partially) True\n"
     ]
    }
   ],
   "source": [
    "print('nth surreal / Dyadic Rational')\n",
    "for i in range(2**3):\n",
    "    l = 2\n",
    "    d = uniform(-l/2,l/2)\n",
    "    d = floor(d*2**(l-2))/2**(l-2)\n",
    "    a = abs(d)\n",
    "    s = d and a/d\n",
    "    w = floor(a)\n",
    "    f = a - w\n",
    "    n = d_to_n(d,l)\n",
    "    b = n and floor(log(n,2))\n",
    "    \n",
    "    print('\\nClaim {}: that dyadic {} is the {}th surreal number'.format(i,d,n))\n",
    "    print('{:>6} = {}'.format(left_equality(n,b),right_equality(s,w,f)))\n",
    "    assert(left_equality(n,b)==right_equality(s,w,f))\n",
    "print(\"\\nsuccess: above is (partially) True\")"
   ]
  },
  {
   "cell_type": "code",
   "execution_count": 13,
   "metadata": {
    "collapsed": false
   },
   "outputs": [
    {
     "name": "stdout",
     "output_type": "stream",
     "text": [
      "nth surreal / Dyadic Rational\n",
      "\n",
      "Claim 0: that dyadic -4.59375 is the 522.75th surreal number\n",
      "1.0439453125 = 1069/1024\n",
      "\n",
      "Claim 1: that dyadic -5.5 is the 64.25th surreal number\n",
      "1.0234375 = 131/128\n",
      "\n",
      "Claim 2: that dyadic 1.75 is the 14.25th surreal number\n",
      "2.6875 = 43/16\n",
      "\n",
      "Claim 3: that dyadic 5.703125 is the 4074.75th surreal number\n",
      "2.979736328125 = 12205/4096\n",
      "\n",
      "Claim 4: that dyadic 1.068359375 is the 1800.25th surreal number\n",
      "2.51708984375 = 5155/2048\n",
      "\n",
      "success: above is (partially) True\n"
     ]
    }
   ],
   "source": [
    "print('nth surreal / Dyadic Rational')\n",
    "for i in range(5):\n",
    "    #print('\\n\\n')\n",
    "    denominator = 2**randint(0,10)\n",
    "    numerator = floor(denominator * random() * 3)*2+1\n",
    "    s = choice([-1,1])\n",
    "    rf = Fraction(s*numerator,denominator)\n",
    "    d = s*numerator/denominator\n",
    "    a = abs(rf)\n",
    "    w = floor(a)\n",
    "    f = a-w\n",
    "    #l = log2(rf.denominator)+w+2+s\n",
    "    l = log2(rf.denominator)+w\n",
    "    #print('numerator:',numerator)\n",
    "    #print('denominator:',denominator)\n",
    "    #print('l:',l)\n",
    "    n = d_to_n(d,l)\n",
    "    b = n and floor(log2(n))\n",
    "    \n",
    "    print('\\nClaim {}: that dyadic {} is the {}th surreal number'.format(i,d,n))\n",
    "    print('{:>6} = {}'.format(left_equality(n,b),right_equality(s,w,f)))\n",
    "    assert(left_equality(n,b)==right_equality(s,w,f))\n",
    "print(\"\\nsuccess: above is (partially) True\")"
   ]
  },
  {
   "cell_type": "markdown",
   "metadata": {
    "collapsed": true
   },
   "source": [
    "### Conclusion\n",
    "Incomplete.\n",
    "The formulas provide an equality between Surreal number birth order and their numeric label.\n",
    "Honestly... the equality holds under analytic tests and appears logical. However, I can not get from one side to the other of this equation without precalculating or determining the values in another manner which uses a conditional loop. This equality is close and perhaps someone can show me what is missing here.\n",
    "The last test (as I write this) fails to display the proper surreal birth number. That is because I can not know the register size of the number used to hold the dyadic in a sinary representation without already knowing the surreal order number. I think. I'm not sure if this could be done."
   ]
  }
 ],
 "metadata": {
  "kernelspec": {
   "display_name": "Python 3",
   "language": "python",
   "name": "python3"
  },
  "language_info": {
   "codemirror_mode": {
    "name": "ipython",
    "version": 3
   },
   "file_extension": ".py",
   "mimetype": "text/x-python",
   "name": "python",
   "nbconvert_exporter": "python",
   "pygments_lexer": "ipython3",
   "version": "3.5.3"
  }
 },
 "nbformat": 4,
 "nbformat_minor": 2
}
