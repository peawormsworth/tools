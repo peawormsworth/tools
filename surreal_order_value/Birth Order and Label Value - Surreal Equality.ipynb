{
 "cells": [
  {
   "cell_type": "markdown",
   "metadata": {},
   "source": [
    "# Surreal Birth Order Label Value Equality\n",
    "The Surreal numbers are created in a particular order that is described elsewhere.\n",
    "\n",
    "This equation provides an equality between the order of numbers (1st, 2nd, 3rd, 4th, 5th, ...) known as \"birth\" and their numeric values (-1, 1, -2, -1/2, 1/2, 2, -3, -3/2, -3/4, ...) known as \"labels\"."
   ]
  },
  {
   "cell_type": "markdown",
   "metadata": {},
   "source": [
    "$$ \\large \\frac{2n+1}{2^{d}}-2 = \\frac{s(f-2)}{2^{w+1}} \\: \\text{mod} \\: {2}$$"
   ]
  },
  {
   "cell_type": "markdown",
   "metadata": {},
   "source": [
    "Where n & v are given...\n",
    "\n",
    ">d = $\\lfloor\\left| {n} \\right|\\rfloor$\n",
    "\n",
    ">w = $\\lfloor\\ {v} \\rfloor$\n",
    "\n",
    ">f = $\\left|v\\right| - w$\n",
    "\n",
    ">s = $\\large \\frac {\\left| {v} \\right|}{v}$\n",
    "\n",
    "Symbol meaning:\n",
    "\n",
    ">n = given surreal appearance order or \"birth\" as a positive integer ($n \\in {Z^{+}}$)\n",
    "\n",
    ">d = digits in binary representation of order number n\n",
    "\n",
    ">v = given numeric value or \"label\" ($\\text{v} \\in \\text{dyatics}$)\n",
    "\n",
    ">w = whole value part of v\n",
    "\n",
    ">f = fractional part of v\n",
    "\n",
    ">s = sign of the v\n"
   ]
  },
  {
   "cell_type": "markdown",
   "metadata": {},
   "source": [
    "### Surreal Value Birth Order\n",
    "\n",
    "This code (python3) produces a sequence of values that are equal to the surreal numbers in the order in which they appear:"
   ]
  },
  {
   "cell_type": "code",
   "execution_count": 11,
   "metadata": {
    "collapsed": false
   },
   "outputs": [
    {
     "name": "stdout",
     "output_type": "stream",
     "text": [
      "   0:   None\n",
      "   1:      0\n",
      "   2:     -1\n",
      "   3:      1\n",
      "   4:     -2\n",
      "   5:   -1/2\n",
      "   6:    1/2\n",
      "   7:      2\n",
      "   8:     -3\n",
      "   9:   -3/2\n",
      "  10:   -3/4\n",
      "  11:   -1/4\n",
      "  12:    1/4\n",
      "  13:    3/4\n",
      "  14:    3/2\n",
      "  15:      3\n"
     ]
    }
   ],
   "source": [
    "from fractions import Fraction\n",
    "\n",
    "def birth_order (r=[Fraction(0,1)]):\n",
    "    \"\"\"yeilds fractions according to their birthday ordering.\n",
    "    None,0,-1,1,-2,-1/2,1/2,2,-3...\n",
    "    \"\"\"\n",
    "    yield None\n",
    "    yield r[0]\n",
    "    while 1:\n",
    "        yield r[0] - 1\n",
    "        rn = [r[0]]\n",
    "        for n in r[1:]:\n",
    "            m = (rn[-1]+n)/2\n",
    "            yield m\n",
    "            rn.extend((m,n))\n",
    "        yield rn[-1]+1\n",
    "        r = [rn[0]-1] + rn + [rn[-1]+1]\n",
    "        \n",
    "in_sequence = birth_order()\n",
    "for n in range(2**4):\n",
    "    v = next(in_sequence)\n",
    "    print('{:4}: {:>6}'.format(n,str(v)))"
   ]
  },
  {
   "cell_type": "markdown",
   "metadata": {},
   "source": [
    "On the left is the count at which the number appears (birth), while the right column displays the numeric value (label) of the number which was created at that time.\n",
    "\n",
    "note: the first number is actually the 0th number and it is set to None. It is representational of Nan or the empty set. It will not work in our formula and will be excluded from these tests.\n",
    "\n",
    "### Equation code\n",
    "This code calculates the sides of the equation"
   ]
  },
  {
   "cell_type": "code",
   "execution_count": 43,
   "metadata": {
    "collapsed": true
   },
   "outputs": [],
   "source": [
    "def left(order,digits):\n",
    "    return (2*order+1)/2**(digits-1) - 4\n",
    "\n",
    "def right(sign,whole,fraction):\n",
    "    return sign*(fraction-2)/2**(whole) % 4"
   ]
  },
  {
   "cell_type": "markdown",
   "metadata": {},
   "source": [
    "### Equation Analysis\n",
    "This code verifies the equality..."
   ]
  },
  {
   "cell_type": "code",
   "execution_count": 55,
   "metadata": {
    "collapsed": false,
    "scrolled": false
   },
   "outputs": [
    {
     "name": "stdout",
     "output_type": "stream",
     "text": [
      "\n",
      "Given surreal birth number 1 has a value of 0\n",
      "we find that the binary digit count of its birth is 0\n",
      "the whole part of the value is 0\n",
      "the fraction part is 0\n",
      "and the sign is +\n",
      "Then it shown: n=1, d=0, l=0, w=0, f=0, s=1\n",
      "Applied to equation: 2  =  2\n",
      "\n",
      "Given surreal birth number 2 has a value of -1\n",
      "we find that the binary digit count of its birth is 1\n",
      "the whole part of the value is 1\n",
      "the fraction part is 0\n",
      "and the sign is -\n",
      "Then it shown: n=2, d=1, l=-1, w=1, f=0, s=-1\n",
      "Applied to equation: 1  =  1\n",
      "\n",
      "Given surreal birth number 3 has a value of 1\n",
      "we find that the binary digit count of its birth is 1\n",
      "the whole part of the value is 1\n",
      "the fraction part is 0\n",
      "and the sign is +\n",
      "Then it shown: n=3, d=1, l=1, w=1, f=0, s=1\n",
      "Applied to equation: 3  =  3\n",
      "\n",
      "Given surreal birth number 4 has a value of -2\n",
      "we find that the binary digit count of its birth is 2\n",
      "the whole part of the value is 2\n",
      "the fraction part is 0\n",
      "and the sign is -\n",
      "Then it shown: n=4, d=2, l=-2, w=2, f=0, s=-1\n",
      "Applied to equation: 1/2  =  1/2\n",
      "\n",
      "Given surreal birth number 5 has a value of -1/2\n",
      "we find that the binary digit count of its birth is 2\n",
      "the whole part of the value is 0\n",
      "the fraction part is 1/2\n",
      "and the sign is -\n",
      "Then it shown: n=5, d=2, l=-1/2, w=0, f=1/2, s=-1\n",
      "Applied to equation: 3/2  =  3/2\n"
     ]
    }
   ],
   "source": [
    "#!/usr/bin/python3\n",
    "\n",
    "from fractions import Fraction\n",
    "from math import log,floor\n",
    "from tools import birth_order\n",
    "\n",
    "in_sequence = birth_order()\n",
    "\n",
    "for order in range(6):\n",
    "    label = next(in_sequence)\n",
    "    if order == 0: continue\n",
    "   \n",
    "    whole = floor(abs(label))\n",
    "    fraction = abs(label)-whole\n",
    "    if label == 0:\n",
    "        sign = 1\n",
    "        digits = 0\n",
    "    else:\n",
    "        sign = abs(label)/label\n",
    "        digits = floor(log(order,2))\n",
    "\n",
    "    a = left(order,digits)\n",
    "    b = right(sign,whole,fraction)\n",
    "\n",
    "    print('\\nGiven surreal birth number {} has a value of {}'.format(order,label))\n",
    "    print('we find that the binary digit count of its birth is {}'.format(digits))\n",
    "    print('the whole part of the value is {}'.format(whole))\n",
    "    print('the fraction part is {}'.format(fraction))\n",
    "    print('and the sign is {}'.format('+' if sign == 1 else '-'))\n",
    "    print('Then it shown: n={}, d={}, l={}, w={}, f={}, s={}'.format(order,digits,label,whole,fraction,sign))\n",
    "    print('Applied to equation: {}  =  {}'.format(Fraction(a),Fraction(b)))\n",
    "    \n",
    "    assert(a==b), 'STOP on failure'\n"
   ]
  },
  {
   "cell_type": "markdown",
   "metadata": {},
   "source": [
    "### Circular Plot\n",
    "The equality value ranges from 0 to 2, so that it can be nicely displayed around the unit circle when applied as double pi power to the natural exponent."
   ]
  },
  {
   "cell_type": "markdown",
   "metadata": {},
   "source": [
    "<img src=\"./spirals.jpg\">"
   ]
  },
  {
   "cell_type": "markdown",
   "metadata": {},
   "source": [
    "### Alternatives\n",
    "There are several ways of writting the equation..."
   ]
  },
  {
   "cell_type": "markdown",
   "metadata": {},
   "source": [
    "$$ \\large \\frac{2n+1}{2^{d-1}} - \\frac{s(2-f)}{2^{w}} \\: \\text{mod} \\: {1} = 1 $$"
   ]
  },
  {
   "cell_type": "markdown",
   "metadata": {},
   "source": [
    "$$ \\large \\frac{2n+1}{2^{d-1}} - \\frac{s(2-f)}{2^{w}} = x, x \\in {Z^{+}} $$"
   ]
  },
  {
   "cell_type": "markdown",
   "metadata": {},
   "source": [
    "$$ \\large e^{\\pi i \\frac{2n+1}{2^{d-1}}} = e^{\\pi i \\frac{s(2-f)}{2^{w}}} $$"
   ]
  },
  {
   "cell_type": "markdown",
   "metadata": {},
   "source": [
    "$$ \\large i^{\\frac{2n+1}{2^{d-2}}} = i^{\\frac{s(2-f)}{2^{w-1}}} $$"
   ]
  },
  {
   "cell_type": "markdown",
   "metadata": {},
   "source": [
    "### Opinion\n",
    "The equations say something about how surreal numbers can be stored and evaluated in binary. The storage appears to be a 2's compliment with a 1 bit attached to the end and the decimal place just after the left most bit. For example, \"2n\" instructs the binary value to be shifted left by one bit. \"2n+1\" means to shift left and then make the new bit on the right be a \"1\". 2^d-1 is one less than the size of a binary register required to contain at least that number. 2^d is the \"size\" of the number when written in binary. Dividing by powers of 2 have the effect of shifting the decimal place in binary. Just as dividing by 10's shifts the decimal in Decimal notation. So we can see that the left side of the equation is shifting, adding a 1 to the end and putting the decimal point one behind the front of its binary representation of its birth order number.\n",
    "\n",
    "So the equation reveals an equality between birth order and numeric values, but also shows how these numbers could or should be stored in binary."
   ]
  },
  {
   "cell_type": "markdown",
   "metadata": {},
   "source": [
    "### Conclusion\n",
    "The Surreal numbers are born in a particular order that is NOT numerically ordered.\n",
    "The equality has shown the binary relationship between these orders.\n",
    "It shows a direct mapping between the appearance of numbers (birth) and their numeric values (labels) and it reveals the most efficient way to encode surreal numbers in binary (IMO)."
   ]
  }
 ],
 "metadata": {
  "kernelspec": {
   "display_name": "Python 3",
   "language": "python",
   "name": "python3"
  },
  "language_info": {
   "codemirror_mode": {
    "name": "ipython",
    "version": 3
   },
   "file_extension": ".py",
   "mimetype": "text/x-python",
   "name": "python",
   "nbconvert_exporter": "python",
   "pygments_lexer": "ipython3",
   "version": "3.5.3"
  }
 },
 "nbformat": 4,
 "nbformat_minor": 2
}
