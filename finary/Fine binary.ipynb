{
 "cells": [
  {
   "cell_type": "markdown",
   "metadata": {},
   "source": [
    "# Finary\n",
    "A fine altenate and potentially novel binary representation. A work in progress.\n",
    "\n",
    "Surreal binary is standard binary with an alternate value representation. In standard binary the least significant bit is furtherst right and represents the placeholder for 1. The second bit represents a value of 2 and so on, doubling the value of the bit for each bit we add to the size of the binary register.\n",
    "\n",
    "In surreal binary the value of the bits is a non constant power of 2. The power of the positions is determined by the number of repeating bits at the beginning of its binary representation.\n",
    "\n",
    "The name \"surreal\" is derived from the surreal numbers and their connection is described below.\n",
    "\n",
    "This paper elaborate on these ideas and provides analytic proof using python code samples.\n",
    "\n",
    "Author: Jeff Anderson"
   ]
  },
  {
   "cell_type": "markdown",
   "metadata": {},
   "source": [
    "### Binary review\n",
    "In binary digits represent values of: 1, 2, 4, 8, 16... where the value of a specific number is the sum of the values having digits of \"1\" in its binary representation:"
   ]
  },
  {
   "cell_type": "code",
   "execution_count": 3,
   "metadata": {
    "collapsed": false
   },
   "outputs": [
    {
     "name": "stdout",
     "output_type": "stream",
     "text": [
      "\n",
      "decimal binary\n",
      "    0  :   0\n",
      "    1  :   1\n",
      "    2  :  10\n",
      "    3  :  11\n",
      "    4  : 100\n",
      "    5  : 101\n",
      "    6  : 110\n",
      "    7  : 111\n",
      "\n",
      "...where each digits is a power of 2\n",
      "\n",
      "decimal binary\n",
      "    1  : 1\n",
      "    2  : 10\n",
      "    4  : 100\n",
      "    8  : 1000\n",
      "   16  : 10000\n",
      "   32  : 100000\n",
      "   64  : 1000000\n",
      "  128  : 10000000\n"
     ]
    }
   ],
   "source": [
    "print('\\ndecimal binary')\n",
    "for n in range(8):    \n",
    "    print('{:>5}  : {:>3}'.format(n,bin(n)[2:]))\n",
    "        \n",
    "print('\\n...where each digits is a power of 2\\n')\n",
    "print('decimal binary')\n",
    "for n in range(8):\n",
    "    n = 2**n\n",
    "    print('{:>5}  : {:<}'.format(n,bin(n)[2:]))\n"
   ]
  },
  {
   "cell_type": "markdown",
   "metadata": {},
   "source": [
    "### Van der Corput sequence\n",
    "A Van der Corput sequence is the simplest one-dimensional low-discrepancy sequence over the unit interval.\n",
    "\n",
    "The value of a binary Van der Corput number is the sum of ±1/2 for the first bit, ±1/4 for the second bit and continues to half for subsequent bits. The sign of this value is positive if the bit is set in that position or negative otherwise.\n",
    "\n",
    "Here is an implementation of a standard binary count on a number represented by this sequence."
   ]
  },
  {
   "cell_type": "code",
   "execution_count": 1,
   "metadata": {
    "collapsed": false
   },
   "outputs": [
    {
     "name": "stdout",
     "output_type": "stream",
     "text": [
      "\n",
      "  binary : count :  decimal : fraction\n",
      "      1  :    1  :     0.5  :   1/2    \n",
      "     10  :    2  :    0.25  :   1/4    \n",
      "     11  :    3  :    0.75  :   3/4    \n",
      "    100  :    4  :   0.125  :   1/8    \n",
      "    101  :    5  :   0.375  :   3/8    \n",
      "    110  :    6  :   0.625  :   5/8    \n",
      "    111  :    7  :   0.875  :   7/8    \n",
      "   1000  :    8  :  0.0625  :   1/16   \n",
      "   1001  :    9  :  0.1875  :   3/16   \n",
      "   1010  :   10  :  0.3125  :   5/16   \n",
      "   1011  :   11  :  0.4375  :   7/16   \n",
      "   1100  :   12  :  0.5625  :   9/16   \n",
      "   1101  :   13  :  0.6875  :   11/16  \n",
      "   1110  :   14  :  0.8125  :   13/16  \n",
      "   1111  :   15  :  0.9375  :   15/16  \n"
     ]
    }
   ],
   "source": [
    "from fractions import Fraction\n",
    "\n",
    "def vandercorput (x):\n",
    "    n = 0\n",
    "    p = 0\n",
    "    for bit in x:\n",
    "        if bit == '1':\n",
    "            s = 1\n",
    "        else:\n",
    "            s = -1\n",
    "        p -=1\n",
    "        n += s * 2**p\n",
    "    return n\n",
    "\n",
    "print('\\n  binary : count :  decimal : fraction')\n",
    "for n in range(1,16):\n",
    "    binary = bin(n)[2:]\n",
    "    vcorp  = vandercorput(binary)\n",
    "    dyatic = Fraction(vcorp)\n",
    "\n",
    "    print('{:>7}  : {:4}  :  {:>6}  :   {:7}'.format(binary,n,vcorp,str(dyatic)))"
   ]
  },
  {
   "cell_type": "markdown",
   "metadata": {},
   "source": [
    "<img src=\"files/image/mapping_4k5.png\">"
   ]
  },
  {
   "cell_type": "markdown",
   "metadata": {},
   "source": [
    "<img src=\"files/image/mapping_4k3.png\">"
   ]
  },
  {
   "cell_type": "markdown",
   "metadata": {},
   "source": [
    "Notice that the decimal number is splitting the interval between 0 and 1 over at double the precision. The first value 0.5 splits 0 to 1 in half. The next 2 (0.25 and 0.75) split the interval in half twice more. The next four split those intervals in half and then the next eight do the same and so on.\n",
    "\n",
    "The conversion of the number is + positive when the bit is 1 and - negative when the bit is 0.\n",
    "\n",
    "For example: \n",
    "\n",
    "    9 decimal = 1001 binary\n",
    "  \n",
    "    \"1001\" converted to signs = \"+--+\"\n",
    "  \n",
    "so the number represents declining half fractions using these signs:\n",
    "  \n",
    "    = + 1/2 - 1/4 - 1/8 + 1/16\n",
    "  \n",
    "    = 3/16 = 0.1875\n",
    "\n",
    "Notice that although the binary count continues to grow toward infinity, the Van der Corput binary sequence remains bound as a fraction between zero and one.\n",
    "\n",
    "Closer inspection reveals that the divisions cycle across the unit domain repeat at powers of two while maintaining a binary incremental count. \n",
    "Each cycle splits the divisions in half to provide more precision to these divisions of one. \n",
    "The division spacing will be the inverse power of two matching the size of the number."
   ]
  },
  {
   "cell_type": "markdown",
   "metadata": {},
   "source": [
    "### Negative sequence\n",
    "But a binary Van der Corput sequences in a computer register is different than written sequence, because a register will have a set bit size. Since the 0 values in a van der corput sequence have value, as negative inverse powers of two, these leading values are significant.\n",
    "\n",
    "This means that a standard count in a binary computer register will result in a binary van der corput sequence that is different than the sequence previously demonstrated.\n",
    "\n",
    "Consider these differences:"
   ]
  },
  {
   "cell_type": "code",
   "execution_count": 3,
   "metadata": {
    "collapsed": false
   },
   "outputs": [
    {
     "name": "stdout",
     "output_type": "stream",
     "text": [
      "\n",
      " Standard Binary : Van der Corput binary\n",
      "\n",
      "       00000001  : -0.98828125\n",
      "        0000001  :  -0.9765625\n",
      "         000001  :   -0.953125\n",
      "          00001  :    -0.90625\n",
      "           0001  :     -0.8125\n",
      "            001  :      -0.625\n",
      "             01  :       -0.25\n"
     ]
    }
   ],
   "source": [
    "# in binary these are all equal to the number 1\n",
    "equivelent_binary = '''\n",
    "    00000001 \n",
    "     0000001\n",
    "      000001 \n",
    "       00001 \n",
    "        0001 \n",
    "         001 \n",
    "          01 \n",
    "'''.split()\n",
    "\n",
    "print('\\n Standard Binary : Van der Corput binary\\n')\n",
    "for binary in equivelent_binary:\n",
    "    print('   {:>12}  :{:>12}'.format(binary,vandercorput(binary)))"
   ]
  },
  {
   "cell_type": "markdown",
   "metadata": {},
   "source": [
    "The numbers are not irratic. They are diffrentiated by powers of two."
   ]
  },
  {
   "cell_type": "code",
   "execution_count": 116,
   "metadata": {
    "collapsed": false,
    "scrolled": true
   },
   "outputs": [
    {
     "name": "stdout",
     "output_type": "stream",
     "text": [
      "\n",
      "  Van der Corput power values\n",
      "\n",
      " -0.98046875 + (-0.98828125) = 0.0078125 = 2⁻⁷\n",
      " -0.96484375 + (-0.98046875) = 0.015625  = 2⁻⁶\n",
      " -0.93359375 + (-0.96484375) = 0.03125   = 2⁻⁵\n",
      " -0.87109375 + (-0.93359375) = 0.0625    = 2⁻⁴\n",
      " -0.74609375 + (-0.87109375) = 0.125     = 2⁻³\n",
      " -0.49609375 + (-0.74609375) = 0.25      = 2⁻²\n",
      "  0.00390625 + (-0.49609375) = 0.5       = 2⁻¹\n"
     ]
    }
   ],
   "source": [
    "from math import log\n",
    "import string\n",
    "import re\n",
    "to_power = str.maketrans('-0123456789','⁻⁰¹²³⁴⁵⁶⁷⁸⁹')\n",
    "print('\\n  Van der Corput power values\\n')\n",
    "previous = None\n",
    "for binary in equivelent_binary:\n",
    "    vcorp = vandercorput(binary)\n",
    "    if previous:\n",
    "        difference = vcorp - previous\n",
    "        power_diff = (str(int(log(difference,2)))).translate(to_power)\n",
    "        print(' {:>11} + ({:>11}) = {:<9} = 2{}'.format(vcorp,previous,difference,power_diff))\n",
    "    previous = vcorp"
   ]
  },
  {
   "cell_type": "markdown",
   "metadata": {},
   "source": [
    "### Dyatic binary sequence\n",
    "The dyatic rationals are the fractions with denominators of powers of two.\n",
    "\n",
    "Below is binary representation of the dyatics modified projection of the Van der Corput sequence as a generator."
   ]
  },
  {
   "cell_type": "code",
   "execution_count": 133,
   "metadata": {
    "collapsed": false
   },
   "outputs": [
    {
     "name": "stdout",
     "output_type": "stream",
     "text": [
      "count : dyatic\n",
      "   0  :    0\n",
      "   1  :   -1\n",
      "   2  :    1\n",
      "   3  :   -2\n",
      "   4  : -1/2\n",
      "   5  :  1/2\n",
      "   6  :    2\n",
      "   7  :   -3\n",
      "   8  : -3/2\n",
      "   9  : -3/4\n",
      "  10  : -1/4\n",
      "  11  :  1/4\n",
      "  12  :  3/4\n",
      "  13  :  3/2\n",
      "  14  :    3\n",
      "  15  :   -4\n"
     ]
    }
   ],
   "source": [
    "def dyatic_binary (r=[Fraction(0)]):\n",
    "    yield r[0]\n",
    "    while 1:\n",
    "        yield r[0]-1\n",
    "        rn = [r[0]]\n",
    "        for n in r[1:]:\n",
    "            mid = (rn[-1]+n)/2\n",
    "            yield mid\n",
    "            rn.append(mid)\n",
    "            rn.append(n)\n",
    "        yield rn[-1]+1\n",
    "        r = [rn[0]-1] + rn + [rn[-1]+1]\n",
    "dyatic_sequence = dyatic_binary()\n",
    "print('count : dyatic')\n",
    "for n in range(16):\n",
    "    dyatic = next(dyatic_sequence)\n",
    "    print(' {:>3}  : {:>4}'.format(n,str(dyatic)))"
   ]
  },
  {
   "cell_type": "markdown",
   "metadata": {},
   "source": [
    "The range between -1 and 1 is evenly quartered, while the remaining values extend aways at powers of two which are also split in suquent iterations of the count.\n",
    "\n",
    "This results in a value coverage like this:\n",
    "\n",
    "*image to be attached"
   ]
  },
  {
   "cell_type": "markdown",
   "metadata": {},
   "source": [
    "### Surreal binary\n",
    "The surreal binary system is similar to the dyatic sequence, but instead the leading bits represent sums instead of powers.\n",
    "\n",
    "In essence, the first bits of a surreal binary number are like primitive tally marks. Each bit has a value of one and the total of the number is the total numbers of set bits.\n",
    "\n",
    "For example:\n",
    "\n",
    "     b.surreal  value\n",
    "           1      1\n",
    "          11      2\n",
    "         111      3\n",
    "        1111      4\n",
    "       11111      5\n",
    "\n",
    "It would seem that surreal binary can not represent as many numbers as standard binary would allow. It is not the case. Surreal numbers are fractional so the number of values represented will be the same. The domain of the numbers is simply more confined.\n",
    " "
   ]
  },
  {
   "cell_type": "code",
   "execution_count": 5,
   "metadata": {
    "collapsed": false
   },
   "outputs": [
    {
     "name": "stdout",
     "output_type": "stream",
     "text": [
      "count : surreal\n",
      "   0  :    0\n",
      "   1  :   -1\n",
      "   2  :    1\n",
      "   3  :   -2\n",
      "   4  : -1/2\n",
      "   5  :  1/2\n",
      "   6  :    2\n",
      "   7  :   -3\n",
      "   8  : -3/2\n",
      "   9  : -3/4\n",
      "  10  : -1/4\n",
      "  11  :  1/4\n",
      "  12  :  3/4\n",
      "  13  :  3/2\n",
      "  14  :    3\n",
      "  15  :   -4\n",
      "  16  : -5/2\n",
      "  17  : -7/4\n",
      "  18  : -5/4\n",
      "  19  : -7/8\n",
      "  20  : -5/8\n",
      "  21  : -3/8\n",
      "  22  : -1/8\n",
      "  23  :  1/8\n",
      "  24  :  3/8\n",
      "  25  :  5/8\n",
      "  26  :  7/8\n",
      "  27  :  5/4\n",
      "  28  :  7/4\n",
      "  29  :  5/2\n",
      "  30  :    4\n",
      "  31  :   -5\n"
     ]
    }
   ],
   "source": [
    "def surreal_binary (r=[Fraction(0)]):\n",
    "    yield r[0]\n",
    "    while 1:\n",
    "        yield r[0]-1\n",
    "        rn = [r[0]]\n",
    "        for n in r[1:]:\n",
    "            mid = (rn[-1]+n)/2\n",
    "            yield mid\n",
    "            rn.append(mid)\n",
    "            rn.append(n)\n",
    "        yield rn[-1]+1\n",
    "        r = [rn[0]-1] + rn + [rn[-1]+1]\n",
    "surreal_sequence = surreal_binary()\n",
    "print('count : surreal')\n",
    "for n in range(32):\n",
    "    surreal = next(surreal_sequence)\n",
    "    print(' {:>3}  : {:>4}'.format(n,str(surreal)))"
   ]
  },
  {
   "cell_type": "markdown",
   "metadata": {},
   "source": [
    "<img src=\"files/image/surreal_map_sm1.png\">"
   ]
  },
  {
   "cell_type": "markdown",
   "metadata": {},
   "source": [
    "<img src=\"files/image/surreal_map_sm2.png\">"
   ]
  },
  {
   "cell_type": "markdown",
   "metadata": {},
   "source": [
    "# Features\n",
    "\n",
    "    0111111111111...1 is closest to -0\n",
    "    \n",
    "    1000000000000...0 is closest to +0\n",
    "    \n",
    " and on the large scale...\n",
    "    \n",
    "    1111111111111...1, nearest to +inf\n",
    "    \n",
    "    0000000000000...0, nearest to -inf\n",
    "    \n",
    " and furthermore, the closest number on either side of x is:\n",
    " \n",
    "     x01111111111...1111, nearest to x on negative side of x\n",
    "     \n",
    "     x10000000000...0000, nearest to x on positive side of x\n",
    " \n",
    " these infinite strings are both \"1\":\n",
    " \n",
    "     101111111111....1111\n",
    " \n",
    "     110000000000....0000\n",
    " \n",
    " but different for any finite length. For example, these are different deven thought their continuation is the same number (1):\n",
    " \n",
    "     10111111111  ≠  11000000000\n",
    "     \n",
    " because those numbers represent: 1 ± 1/1024. \n",
    " They are close.\n",
    "     \n",
    " other infinite representations:\n",
    " \n",
    "     1010101010101010101... = 3\n",
    "\n",
    "     1001001001001001001... = e\n"
   ]
  },
  {
   "cell_type": "markdown",
   "metadata": {},
   "source": [
    "### Conclusion\n",
    "Finite surreal numbers have a binary representation.\n",
    "They have these interesting properties:\n",
    "\n",
    "- all possible values for a register average to zero\n",
    "- zero itself is the most mixed state\n",
    "- powers beyond the register size can be represented\n",
    "- divisions remain even despite the domain spread as register size increases\n",
    "- binary surreal numbers have only one representation per value\n",
    "- binary surreal numbers do not have a sign bit and instead push polarity into the whole representation\n",
    "- negative and positive values are perfect reflections.\n",
    "- only infinite values have duplicate representations\n",
    "- there is no value for zero, but instead their is a negative and positive approximation: \n",
    "     "
   ]
  },
  {
   "cell_type": "markdown",
   "metadata": {
    "collapsed": true
   },
   "source": [
    "### Funciton tools\n",
    "Below are a couple of functions that create power binary and left justified binary from an integer or floating point value."
   ]
  },
  {
   "cell_type": "code",
   "execution_count": 16,
   "metadata": {
    "collapsed": false
   },
   "outputs": [
    {
     "name": "stdout",
     "output_type": "stream",
     "text": [
      "                   1 : 0010101010101010101010\n",
      "                   0 : \n",
      "                  -1 : 1101010101010101010101\n",
      "                   2 : 10\n",
      "                   3 : 1101010101010101010101\n",
      "                   4 : 1101010101010101010101\n",
      "                   5 : 1110101010101010101010\n",
      "                 0.5 : 0\n",
      "  0.3333333333333333 : 0101010101010101010101\n",
      "                0.25 : 0101010101010101010101\n",
      "                 0.2 : 0101010101010101010101\n",
      "   3.141592653589793 : 1101010101010101010101\n",
      "   2.718281828459045 : 1101010101010101010101\n",
      "  0.6931471805599453 : 0010101010101010101010\n"
     ]
    }
   ],
   "source": [
    "from math import e, pi, log\n",
    "DIGITS = 21\n",
    "# I don't think this is work quite right...\n",
    "def to_power_binary (n,precision=DIGITS):\n",
    "    if not n:\n",
    "        return ''\n",
    "    sign = n/abs(n)\n",
    "    v,n,p = '',-n,-1\n",
    "    while (abs(n)>1 and len(v) <= precision):\n",
    "        v += '1'\n",
    "        n /= 2\n",
    "        p += 1\n",
    "    while (n and len(v) <= precision):\n",
    "        if abs(n + 2**p) > abs(n - 2**p):\n",
    "            v += '1'\n",
    "            n -= 2**p\n",
    "        else:\n",
    "            v += '0'\n",
    "            n += 2**p\n",
    "        p += 1\n",
    "    return v\n",
    "for x in (1,0,-1,2,3,4,5,1/2,1/3,1/4,1/5,pi,e,log(2)):\n",
    "    print('{:>20} : {}'.format(x,to_power_binary(x)))"
   ]
  },
  {
   "cell_type": "code",
   "execution_count": 17,
   "metadata": {
    "collapsed": false
   },
   "outputs": [
    {
     "name": "stdout",
     "output_type": "stream",
     "text": [
      "\n",
      "left justified binary\n",
      "\n",
      "using a base of 2\n",
      "and a register having 40 bits\n",
      "  1 : b10100000000000000000000000000000000000001\n",
      "  2 : b10100000000000000000000000000000000000001\n",
      "  3 : b10110000000000000000000000000000000000001\n",
      "  4 : b10100000000000000000000000000000000000001\n",
      "  5 : b10101000000000000000000000000000000000001\n",
      "  6 : b10110000000000000000000000000000000000001\n",
      "  7 : b10111000000000000000000000000000000000001\n",
      "  8 : b10100000000000000000000000000000000000001\n",
      "  9 : b10100100000000000000000000000000000000001\n",
      " 10 : b10101000000000000000000000000000000000001\n",
      " 11 : b10101100000000000000000000000000000000001\n",
      " 12 : b10110000000000000000000000000000000000001\n",
      " 13 : b10110100000000000000000000000000000000001\n",
      " 14 : b10111000000000000000000000000000000000001\n",
      " 15 : b10111100000000000000000000000000000000001\n",
      " 16 : b10100000000000000000000000000000000000001\n",
      " 17 : b10100010000000000000000000000000000000001\n",
      " 18 : b10100100000000000000000000000000000000001\n",
      " 19 : b10100110000000000000000000000000000000001\n"
     ]
    }
   ],
   "source": [
    "from math import floor, sqrt, log, e, pi\n",
    "# base can be anything (imo) between 1 and 2: 1/e,i phi = (sqrt(5)+1)/2\n",
    "base = 2\n",
    "bits = 40\n",
    "# 1 and 2 are the same because it is right padded with 0's. That's not right.\n",
    "def left_binary (binary):\n",
    "    return bin(~int(x*base**(bits-floor(log(x,base))-base)+base**bits))[2:]\n",
    "\n",
    "print('\\nleft justified binary\\n')\n",
    "print('using a base of',base)\n",
    "print('and a register having {} bits'.format(bits))\n",
    "\n",
    "for x in range(1,20):\n",
    "    r=39\n",
    "    print('{:>3} : {}'.format(x,left_binary(x)))"
   ]
  }
 ],
 "metadata": {
  "kernelspec": {
   "display_name": "Python 3",
   "language": "python",
   "name": "python3"
  },
  "language_info": {
   "codemirror_mode": {
    "name": "ipython",
    "version": 3
   },
   "file_extension": ".py",
   "mimetype": "text/x-python",
   "name": "python",
   "nbconvert_exporter": "python",
   "pygments_lexer": "ipython3",
   "version": "3.5.3"
  }
 },
 "nbformat": 4,
 "nbformat_minor": 2
}
