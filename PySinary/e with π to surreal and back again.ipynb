{
 "cells": [
  {
   "cell_type": "markdown",
   "metadata": {},
   "source": [
    "# Floating $\\pi$ and $e$ to surreal and back\n",
    "\n",
    "This notebook demonstrates conversion of floating point numbers into surreal list representation and then back to floating point number."
   ]
  },
  {
   "cell_type": "code",
   "execution_count": 48,
   "metadata": {
    "collapsed": false
   },
   "outputs": [
    {
     "name": "stdout",
     "output_type": "stream",
     "text": [
      "\n",
      "original value of π: 3.141592653589793\n",
      "surreal value of pi: 3.141592025756836\n",
      "\n",
      "floating value of e: 2.718281828459045\n",
      " surreal value of e: 2.718282699584961\n",
      "\n"
     ]
    }
   ],
   "source": [
    "from sinary import *\n",
    "from math   import pi as π, e\n",
    "\n",
    "bits = 20\n",
    "p    = 1/2**bits\n",
    "surreal_π  = incubate(π,precision=p)\n",
    "surreal_e  = incubate(e ,precision=p)\n",
    "fraction_π = distill(surreal_π)\n",
    "fraction_e = distill(surreal_e)\n",
    "float_π    = float(fraction_π)\n",
    "float_e    = float(fraction_e)\n",
    "print('''\n",
    "original value of π: {}\n",
    "surreal value of pi: {}\n",
    "\n",
    "floating value of e: {}\n",
    " surreal value of e: {}\n",
    "'''.format(π,float_π,e,float_e))"
   ]
  },
  {
   "cell_type": "markdown",
   "metadata": {},
   "source": [
    "The surreal representation is entirely a set of lists containing links to lists in the set. Meaning they all point to one another in some way.\n",
    "\n",
    "Most surreal representations are infinite. The code limits the size to a given decimal precision.\n",
    "\n",
    "Here is the string representation of $pi$ to 13 decimal places as a set of linked lists)"
   ]
  },
  {
   "cell_type": "code",
   "execution_count": 44,
   "metadata": {
    "collapsed": false
   },
   "outputs": [
    {
     "name": "stdout",
     "output_type": "stream",
     "text": [
      "\n",
      "pi as a surreal to 15 bits:\n",
      "\n",
      "((((((((), ()), ()), ()), ()), ((((((), ()), ()), ()), ()), ((((((), ()), ()), ()), ()), ((((((), ()), ()), ()), ()), ())))), (((((((), ()), ()), ()), ()), ((((((), ()), ()), ()), ()), ((((((), ()), ()), ()), ()), ((((((), ()), ()), ()), ()), ())))), (((((((), ()), ()), ()), ()), ((((((), ()), ()), ()), ()), ((((((), ()), ()), ()), ()), ((((((), ()), ()), ()), ()), ())))), ((((((), ()), ()), ()), ()), ((((((), ()), ()), ()), ()), ((((((), ()), ()), ()), ()), ())))))), ((((((((), ()), ()), ()), ()), ((((((), ()), ()), ()), ()), ((((((), ()), ()), ()), ()), ((((((), ()), ()), ()), ()), ())))), (((((((), ()), ()), ()), ()), ((((((), ()), ()), ()), ()), ((((((), ()), ()), ()), ()), ((((((), ()), ()), ()), ()), ())))), (((((((), ()), ()), ()), ()), ((((((), ()), ()), ()), ()), ((((((), ()), ()), ()), ()), ((((((), ()), ()), ()), ()), ())))), ((((((), ()), ()), ()), ()), ((((((), ()), ()), ()), ()), ((((((), ()), ()), ()), ()), ())))))), ((((((((), ()), ()), ()), ()), ((((((), ()), ()), ()), ()), ((((((), ()), ()), ()), ()), ((((((), ()), ()), ()), ()), ())))), (((((((), ()), ()), ()), ()), ((((((), ()), ()), ()), ()), ((((((), ()), ()), ()), ()), ((((((), ()), ()), ()), ()), ())))), (((((((), ()), ()), ()), ()), ((((((), ()), ()), ()), ()), ((((((), ()), ()), ()), ()), ((((((), ()), ()), ()), ()), ())))), ((((((), ()), ()), ()), ()), ((((((), ()), ()), ()), ()), ((((((), ()), ()), ()), ()), ())))))), ((((((((), ()), ()), ()), ()), ((((((), ()), ()), ()), ()), ((((((), ()), ()), ()), ()), ((((((), ()), ()), ()), ()), ())))), (((((((), ()), ()), ()), ()), ((((((), ()), ()), ()), ()), ((((((), ()), ()), ()), ()), ((((((), ()), ()), ()), ()), ())))), (((((((), ()), ()), ()), ()), ((((((), ()), ()), ()), ()), ((((((), ()), ()), ()), ()), ((((((), ()), ()), ()), ()), ())))), ((((((), ()), ()), ()), ()), ((((((), ()), ()), ()), ()), ((((((), ()), ()), ()), ()), ())))))), (((((((), ()), ()), ()), ()), ((((((), ()), ()), ()), ()), ((((((), ()), ()), ()), ()), ((((((), ()), ()), ()), ()), ())))), (((((((), ()), ()), ()), ()), ((((((), ()), ()), ()), ()), ((((((), ()), ()), ()), ()), ((((((), ()), ()), ()), ()), ())))), ((((((), ()), ()), ()), ()), ((((((), ()), ()), ()), ()), ((((((), ()), ()), ()), ()), ())))))))))\n"
     ]
    }
   ],
   "source": [
    "p = 15\n",
    "print('\\npi as a surreal to {} bits:\\n\\n{}'.format(p,str(incubate(pi,precision=1/2**p))))"
   ]
  },
  {
   "cell_type": "markdown",
   "metadata": {},
   "source": [
    "But the code does not hold on to any of this memory. Just the first refrence to one object with to pointers inside."
   ]
  },
  {
   "cell_type": "code",
   "execution_count": 31,
   "metadata": {
    "collapsed": false
   },
   "outputs": [
    {
     "name": "stdout",
     "output_type": "stream",
     "text": [
      "The spi object contains 2 pointers\n",
      "and the objects to the  left of spi contains 2 pointers\n",
      "and the objects to the right of spi contains 2 pointers\n"
     ]
    }
   ],
   "source": [
    "# create a large surreal representation of pi\n",
    "p\n",
    "spi = incubate(pi,precision=1/2**20)\n",
    "\n",
    "print('The spi object contains {} pointers'.format(len(spi)))\n",
    "print('and the objects to the  left of spi contains {} pointers'.format(len(spi[0])))\n",
    "print('and the objects to the right of spi contains {} pointers'.format(len(spi[1])))"
   ]
  },
  {
   "cell_type": "markdown",
   "metadata": {},
   "source": [
    "This shows that although the Surreal representation of most numbers looks \"wide\", they are actually rather thin in reality, containing only a left and right down their chain representation and the sides join back up along the chain down to zero."
   ]
  },
  {
   "cell_type": "markdown",
   "metadata": {},
   "source": [
    "### Conclusion\n",
    "The underlying code makes it simple to generate surreal representations of real numbers to a given precision and later convert back to real numbers.\n",
    "\n",
    "Code tests show that surreal representations up to 30 bit are possible.\n",
    "Not shown is math operations. Addition and subtraction are possible, but multiplication becomes slow as the numbers drift far from zero or involve large divisors. Division is unfeasable for all but the oldest numbers surrounding zero. Hardware accelleration is desirable."
   ]
  }
 ],
 "metadata": {
  "kernelspec": {
   "display_name": "Python 3",
   "language": "python",
   "name": "python3"
  },
  "language_info": {
   "codemirror_mode": {
    "name": "ipython",
    "version": 3
   },
   "file_extension": ".py",
   "mimetype": "text/x-python",
   "name": "python",
   "nbconvert_exporter": "python",
   "pygments_lexer": "ipython3",
   "version": "3.5.3"
  }
 },
 "nbformat": 4,
 "nbformat_minor": 2
}
