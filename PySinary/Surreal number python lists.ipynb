{
 "cells": [
  {
   "cell_type": "markdown",
   "metadata": {},
   "source": [
    "# Surreal Number python lists\n",
    "Surreal numbers are explained here: https://en.wikipedia.org/wiki/Surreal_number\n",
    "\n",
    "This notebook explains how to create and manipulate surreal numbers using python's native list type.\n",
    "\n",
    "Author: Jeff Anderson - 2020-03-10"
   ]
  },
  {
   "cell_type": "markdown",
   "metadata": {},
   "source": [
    "### Surreal numbers as python lists\n",
    "Generate some surreal numbers as python lists..."
   ]
  },
  {
   "cell_type": "code",
   "execution_count": 1,
   "metadata": {
    "collapsed": false
   },
   "outputs": [
    {
     "name": "stdout",
     "output_type": "stream",
     "text": [
      "zero: ((), ())\n",
      "one: (((), ()), ())\n",
      "two: ((((), ()), ()), ())\n",
      "negative two: ((), ((), ((), ())))\n",
      "one half: (((), ()), (((), ()), ()))\n"
     ]
    }
   ],
   "source": [
    "void = ()\n",
    "zero = (void,void)\n",
    "one  = (zero,void)\n",
    "two  = (one ,void)\n",
    "half = (zero,one )\n",
    "neg  = (void,zero)\n",
    "ntwo = (void,neg )\n",
    "nhalf= (neg ,zero)\n",
    "print('zero:',zero)\n",
    "print('one:',one)\n",
    "print('two:',two)\n",
    "print('negative two:',ntwo)\n",
    "print('one half:',half)"
   ]
  },
  {
   "cell_type": "markdown",
   "metadata": {},
   "source": [
    "Now we can compare these:"
   ]
  },
  {
   "cell_type": "code",
   "execution_count": 2,
   "metadata": {
    "collapsed": false
   },
   "outputs": [
    {
     "data": {
      "text/plain": [
       "True"
      ]
     },
     "execution_count": 2,
     "metadata": {},
     "output_type": "execute_result"
    }
   ],
   "source": [
    "one > zero"
   ]
  },
  {
   "cell_type": "markdown",
   "metadata": {},
   "source": [
    "This works. One really is greater than zero. Good so far.\n",
    "\n",
    "Test another obvious truth..."
   ]
  },
  {
   "cell_type": "code",
   "execution_count": 3,
   "metadata": {
    "collapsed": false
   },
   "outputs": [
    {
     "data": {
      "text/plain": [
       "False"
      ]
     },
     "execution_count": 3,
     "metadata": {},
     "output_type": "execute_result"
    }
   ],
   "source": [
    "half > two"
   ]
  },
  {
   "cell_type": "markdown",
   "metadata": {},
   "source": [
    "THIS IS INCORRECT. One half is less than two.\n",
    "\n",
    "It shows that although python lists can hold surreal number representations, they will not compare directly. Or at least the comparison result will not match the expected result if we compared the numbers by which we labelled them.\n",
    "\n",
    "Python will NOT compare these as surreal numbers should be.\n",
    "\n",
    "To correct this, a simple python routine can be used.\n",
    "\n",
    "### Surreal number comparison routine"
   ]
  },
  {
   "cell_type": "code",
   "execution_count": 24,
   "metadata": {
    "collapsed": false
   },
   "outputs": [],
   "source": [
    "def le (x,y): return x == y or not (x[0] and le(y,x[0]) or y[1] and le(y[1],x) )"
   ]
  },
  {
   "cell_type": "markdown",
   "metadata": {},
   "source": [
    "Using the above routine, the surreal list representations can be compared to see which represents a larger or smaller number."
   ]
  },
  {
   "cell_type": "code",
   "execution_count": 25,
   "metadata": {
    "collapsed": false
   },
   "outputs": [
    {
     "name": "stdout",
     "output_type": "stream",
     "text": [
      "It should be True that one half is less or equal to one. It says: True\n"
     ]
    }
   ],
   "source": [
    "print('It should be True that one half is less or equal to one. It says:', le(half,one))"
   ]
  },
  {
   "cell_type": "markdown",
   "metadata": {},
   "source": [
    "The above comparison is now corrected. But what about all the other comparisons.\n",
    "This is hardly satisfying evidence that the routine can compare surreal representations.\n",
    "\n",
    "To gather more analysis, we generate a set of Surreal numbers and test in code below.\n",
    "\n",
    "### Surreal labels"
   ]
  },
  {
   "cell_type": "code",
   "execution_count": 26,
   "metadata": {
    "collapsed": false
   },
   "outputs": [],
   "source": [
    "from fractions import Fraction\n",
    "def canal (r=[Fraction(0,1)]):\n",
    "    yield r[0]\n",
    "    while 1:\n",
    "        yield r[0] - 1\n",
    "        rn = [r[0]]\n",
    "        for n in r[1:]:\n",
    "            m = (rn[-1]+n)/2\n",
    "            yield m\n",
    "            rn.extend((m,n))\n",
    "        yield rn[-1]+1\n",
    "        r = [rn[0]-1] + rn + [rn[-1]+1]"
   ]
  },
  {
   "cell_type": "markdown",
   "metadata": {},
   "source": [
    "Which generates numbers in the order that surreal numbers are born:"
   ]
  },
  {
   "cell_type": "code",
   "execution_count": 27,
   "metadata": {
    "collapsed": false
   },
   "outputs": [
    {
     "name": "stdout",
     "output_type": "stream",
     "text": [
      "    0 : 0    \n",
      "    1 : -1   \n",
      "    2 : 1    \n",
      "    3 : -2   \n",
      "    4 : -1/2 \n",
      "    5 : 1/2  \n",
      "    6 : 2    \n",
      "    7 : -3   \n",
      "    8 : -3/2 \n",
      "    9 : -3/4 \n",
      "   10 : -1/4 \n",
      "   11 : 1/4  \n",
      "   12 : 3/4  \n",
      "   13 : 3/2  \n",
      "   14 : 3    \n",
      "   15 : -4   \n"
     ]
    }
   ],
   "source": [
    "birth = canal()\n",
    "for i in range(2**4):\n",
    "    print('{:5} : {:5}'.format(i,str(next(birth))))"
   ]
  },
  {
   "cell_type": "markdown",
   "metadata": {},
   "source": [
    "Next from a simple nucleus, numbers sprout which we cleave off in this code:\n",
    "\n",
    "### Surreal representation generator"
   ]
  },
  {
   "cell_type": "code",
   "execution_count": 28,
   "metadata": {
    "collapsed": false
   },
   "outputs": [],
   "source": [
    "def cleave (nucleus=[zero]):\n",
    "    l = nucleus\n",
    "    yield l[-1]\n",
    "    while 1:\n",
    "        cnt = 0\n",
    "        nl  = []\n",
    "        for s in l:\n",
    "            for n in [(s[0],s),(s,s[1])]:\n",
    "                yield n\n",
    "                nl = nl + [n]\n",
    "        l = nl\n",
    "\n"
   ]
  },
  {
   "cell_type": "code",
   "execution_count": 29,
   "metadata": {
    "collapsed": false
   },
   "outputs": [
    {
     "name": "stdout",
     "output_type": "stream",
     "text": [
      "    0 : ((), ())\n",
      "    1 : ((), ((), ()))\n",
      "    2 : (((), ()), ())\n",
      "    3 : ((), ((), ((), ())))\n",
      "    4 : (((), ((), ())), ((), ()))\n",
      "    5 : (((), ()), (((), ()), ()))\n",
      "    6 : ((((), ()), ()), ())\n",
      "    7 : ((), ((), ((), ((), ()))))\n",
      "    8 : (((), ((), ((), ()))), ((), ((), ())))\n",
      "    9 : (((), ((), ())), (((), ((), ())), ((), ())))\n",
      "   10 : ((((), ((), ())), ((), ())), ((), ()))\n",
      "   11 : (((), ()), (((), ()), (((), ()), ())))\n",
      "   12 : ((((), ()), (((), ()), ())), (((), ()), ()))\n",
      "   13 : ((((), ()), ()), ((((), ()), ()), ()))\n",
      "   14 : (((((), ()), ()), ()), ())\n",
      "   15 : ((), ((), ((), ((), ((), ())))))\n"
     ]
    }
   ],
   "source": [
    "sprout = cleave()\n",
    "for i in range(2**4):\n",
    "    print('{:5} : {:5}'.format(i,str(next(sprout))))"
   ]
  },
  {
   "cell_type": "markdown",
   "metadata": {},
   "source": [
    "### Surreal creation set\n",
    "labels and numbers are connected with this code:"
   ]
  },
  {
   "cell_type": "code",
   "execution_count": 30,
   "metadata": {
    "collapsed": true
   },
   "outputs": [],
   "source": [
    "def creation (days=7):\n",
    "    birth    = canal()\n",
    "    sprout   = cleave()\n",
    "    universe = {}\n",
    "    for i in range(2**days-1):\n",
    "        universe[next(birth)] = next(sprout)\n",
    "    return universe"
   ]
  },
  {
   "cell_type": "code",
   "execution_count": 31,
   "metadata": {
    "collapsed": false
   },
   "outputs": [
    {
     "name": "stdout",
     "output_type": "stream",
     "text": [
      "    0 : ((), ())\n",
      "    1 : (((), ()), ())\n",
      "    2 : ((((), ()), ()), ())\n",
      "    3 : (((((), ()), ()), ()), ())\n",
      " -1/2 : (((), ((), ())), ((), ()))\n",
      "  3/2 : ((((), ()), ()), ((((), ()), ()), ()))\n",
      "  1/4 : (((), ()), (((), ()), (((), ()), ())))\n",
      "  1/2 : (((), ()), (((), ()), ()))\n",
      "   -2 : ((), ((), ((), ())))\n",
      "  3/4 : ((((), ()), (((), ()), ())), (((), ()), ()))\n",
      " -3/2 : (((), ((), ((), ()))), ((), ((), ())))\n",
      " -3/4 : (((), ((), ())), (((), ((), ())), ((), ())))\n",
      "   -3 : ((), ((), ((), ((), ()))))\n",
      "   -1 : ((), ((), ()))\n",
      " -1/4 : ((((), ((), ())), ((), ())), ((), ()))\n"
     ]
    }
   ],
   "source": [
    "surreals = creation(days=4)\n",
    "for s in surreals:\n",
    "    print('{:>5} : {}'.format(str(s),surreals[s]))"
   ]
  },
  {
   "cell_type": "markdown",
   "metadata": {},
   "source": [
    "### Surreal comparison tests\n",
    "Now we do a comparison of each of these with one another while using the numberic comparison of label names to validate our surreal comparison."
   ]
  },
  {
   "cell_type": "code",
   "execution_count": 18,
   "metadata": {
    "collapsed": false
   },
   "outputs": [
    {
     "name": "stdout",
     "output_type": "stream",
     "text": [
      "\n",
      "compare 15×15 numbers in 6 ways for 1350 comparisons.\n",
      "check < <= == => > relations between 0 and 0\n",
      "check < <= == => > relations between 0 and 1\n",
      "check < <= == => > relations between 0 and 2\n",
      "check < <= == => > relations between 0 and 3\n",
      "check < <= == => > relations between 0 and -1/2\n",
      "check < <= == => > relations between 0 and 3/2\n",
      "check < <= == => > relations between 0 and 1/4\n",
      "check < <= == => > relations between 0 and 1/2\n",
      "check < <= == => > relations between 0 and -2\n",
      "check < <= == => > relations between 0 and 3/4\n",
      "check < <= == => > relations between 0 and -3/2\n",
      "check < <= == => > relations between 0 and -3/4\n",
      "check < <= == => > relations between 0 and -3\n",
      "check < <= == => > relations between 0 and -1\n",
      "check < <= == => > relations between 0 and -1/4\n",
      "check < <= == => > relations between 1 and 0\n",
      "check < <= == => > relations between 1 and 1\n",
      "check < <= == => > relations between 1 and 2\n",
      "check < <= == => > relations between 1 and 3\n",
      "check < <= == => > relations between 1 and -1/2\n",
      "check < <= == => > relations between 1 and 3/2\n",
      "check < <= == => > relations between 1 and 1/4\n",
      "check < <= == => > relations between 1 and 1/2\n",
      "check < <= == => > relations between 1 and -2\n",
      "check < <= == => > relations between 1 and 3/4\n",
      "check < <= == => > relations between 1 and -3/2\n",
      "check < <= == => > relations between 1 and -3/4\n",
      "check < <= == => > relations between 1 and -3\n",
      "check < <= == => > relations between 1 and -1\n",
      "check < <= == => > relations between 1 and -1/4\n",
      "check < <= == => > relations between 2 and 0\n",
      "check < <= == => > relations between 2 and 1\n",
      "check < <= == => > relations between 2 and 2\n",
      "check < <= == => > relations between 2 and 3\n",
      "check < <= == => > relations between 2 and -1/2\n",
      "check < <= == => > relations between 2 and 3/2\n",
      "check < <= == => > relations between 2 and 1/4\n",
      "check < <= == => > relations between 2 and 1/2\n",
      "check < <= == => > relations between 2 and -2\n",
      "check < <= == => > relations between 2 and 3/4\n",
      "check < <= == => > relations between 2 and -3/2\n",
      "check < <= == => > relations between 2 and -3/4\n",
      "check < <= == => > relations between 2 and -3\n",
      "check < <= == => > relations between 2 and -1\n",
      "check < <= == => > relations between 2 and -1/4\n",
      "check < <= == => > relations between 3 and 0\n",
      "check < <= == => > relations between 3 and 1\n",
      "check < <= == => > relations between 3 and 2\n",
      "check < <= == => > relations between 3 and 3\n",
      "check < <= == => > relations between 3 and -1/2\n",
      "check < <= == => > relations between 3 and 3/2\n",
      "check < <= == => > relations between 3 and 1/4\n",
      "check < <= == => > relations between 3 and 1/2\n",
      "check < <= == => > relations between 3 and -2\n",
      "check < <= == => > relations between 3 and 3/4\n",
      "check < <= == => > relations between 3 and -3/2\n",
      "check < <= == => > relations between 3 and -3/4\n",
      "check < <= == => > relations between 3 and -3\n",
      "check < <= == => > relations between 3 and -1\n",
      "check < <= == => > relations between 3 and -1/4\n",
      "check < <= == => > relations between -1/2 and 0\n",
      "check < <= == => > relations between -1/2 and 1\n",
      "check < <= == => > relations between -1/2 and 2\n",
      "check < <= == => > relations between -1/2 and 3\n",
      "check < <= == => > relations between -1/2 and -1/2\n",
      "check < <= == => > relations between -1/2 and 3/2\n",
      "check < <= == => > relations between -1/2 and 1/4\n",
      "check < <= == => > relations between -1/2 and 1/2\n",
      "check < <= == => > relations between -1/2 and -2\n",
      "check < <= == => > relations between -1/2 and 3/4\n",
      "check < <= == => > relations between -1/2 and -3/2\n",
      "check < <= == => > relations between -1/2 and -3/4\n",
      "check < <= == => > relations between -1/2 and -3\n",
      "check < <= == => > relations between -1/2 and -1\n",
      "check < <= == => > relations between -1/2 and -1/4\n",
      "check < <= == => > relations between 3/2 and 0\n",
      "check < <= == => > relations between 3/2 and 1\n",
      "check < <= == => > relations between 3/2 and 2\n",
      "check < <= == => > relations between 3/2 and 3\n",
      "check < <= == => > relations between 3/2 and -1/2\n",
      "check < <= == => > relations between 3/2 and 3/2\n",
      "check < <= == => > relations between 3/2 and 1/4\n",
      "check < <= == => > relations between 3/2 and 1/2\n",
      "check < <= == => > relations between 3/2 and -2\n",
      "check < <= == => > relations between 3/2 and 3/4\n",
      "check < <= == => > relations between 3/2 and -3/2\n",
      "check < <= == => > relations between 3/2 and -3/4\n",
      "check < <= == => > relations between 3/2 and -3\n",
      "check < <= == => > relations between 3/2 and -1\n",
      "check < <= == => > relations between 3/2 and -1/4\n",
      "check < <= == => > relations between 1/4 and 0\n",
      "check < <= == => > relations between 1/4 and 1\n",
      "check < <= == => > relations between 1/4 and 2\n",
      "check < <= == => > relations between 1/4 and 3\n",
      "check < <= == => > relations between 1/4 and -1/2\n",
      "check < <= == => > relations between 1/4 and 3/2\n",
      "check < <= == => > relations between 1/4 and 1/4\n",
      "check < <= == => > relations between 1/4 and 1/2\n",
      "check < <= == => > relations between 1/4 and -2\n",
      "check < <= == => > relations between 1/4 and 3/4\n",
      "check < <= == => > relations between 1/4 and -3/2\n",
      "check < <= == => > relations between 1/4 and -3/4\n",
      "check < <= == => > relations between 1/4 and -3\n",
      "check < <= == => > relations between 1/4 and -1\n",
      "check < <= == => > relations between 1/4 and -1/4\n",
      "check < <= == => > relations between 1/2 and 0\n",
      "check < <= == => > relations between 1/2 and 1\n",
      "check < <= == => > relations between 1/2 and 2\n",
      "check < <= == => > relations between 1/2 and 3\n",
      "check < <= == => > relations between 1/2 and -1/2\n",
      "check < <= == => > relations between 1/2 and 3/2\n",
      "check < <= == => > relations between 1/2 and 1/4\n",
      "check < <= == => > relations between 1/2 and 1/2\n",
      "check < <= == => > relations between 1/2 and -2\n",
      "check < <= == => > relations between 1/2 and 3/4\n",
      "check < <= == => > relations between 1/2 and -3/2\n",
      "check < <= == => > relations between 1/2 and -3/4\n",
      "check < <= == => > relations between 1/2 and -3\n",
      "check < <= == => > relations between 1/2 and -1\n",
      "check < <= == => > relations between 1/2 and -1/4\n",
      "check < <= == => > relations between -2 and 0\n",
      "check < <= == => > relations between -2 and 1\n",
      "check < <= == => > relations between -2 and 2\n",
      "check < <= == => > relations between -2 and 3\n",
      "check < <= == => > relations between -2 and -1/2\n",
      "check < <= == => > relations between -2 and 3/2\n",
      "check < <= == => > relations between -2 and 1/4\n",
      "check < <= == => > relations between -2 and 1/2\n",
      "check < <= == => > relations between -2 and -2\n",
      "check < <= == => > relations between -2 and 3/4\n",
      "check < <= == => > relations between -2 and -3/2\n",
      "check < <= == => > relations between -2 and -3/4\n",
      "check < <= == => > relations between -2 and -3\n",
      "check < <= == => > relations between -2 and -1\n",
      "check < <= == => > relations between -2 and -1/4\n",
      "check < <= == => > relations between 3/4 and 0\n",
      "check < <= == => > relations between 3/4 and 1\n",
      "check < <= == => > relations between 3/4 and 2\n",
      "check < <= == => > relations between 3/4 and 3\n",
      "check < <= == => > relations between 3/4 and -1/2\n",
      "check < <= == => > relations between 3/4 and 3/2\n",
      "check < <= == => > relations between 3/4 and 1/4\n",
      "check < <= == => > relations between 3/4 and 1/2\n",
      "check < <= == => > relations between 3/4 and -2\n",
      "check < <= == => > relations between 3/4 and 3/4\n",
      "check < <= == => > relations between 3/4 and -3/2\n",
      "check < <= == => > relations between 3/4 and -3/4\n",
      "check < <= == => > relations between 3/4 and -3\n",
      "check < <= == => > relations between 3/4 and -1\n",
      "check < <= == => > relations between 3/4 and -1/4\n",
      "check < <= == => > relations between -3/2 and 0\n",
      "check < <= == => > relations between -3/2 and 1\n",
      "check < <= == => > relations between -3/2 and 2\n",
      "check < <= == => > relations between -3/2 and 3\n",
      "check < <= == => > relations between -3/2 and -1/2\n",
      "check < <= == => > relations between -3/2 and 3/2\n",
      "check < <= == => > relations between -3/2 and 1/4\n",
      "check < <= == => > relations between -3/2 and 1/2\n",
      "check < <= == => > relations between -3/2 and -2\n",
      "check < <= == => > relations between -3/2 and 3/4\n",
      "check < <= == => > relations between -3/2 and -3/2\n",
      "check < <= == => > relations between -3/2 and -3/4\n",
      "check < <= == => > relations between -3/2 and -3\n",
      "check < <= == => > relations between -3/2 and -1\n",
      "check < <= == => > relations between -3/2 and -1/4\n",
      "check < <= == => > relations between -3/4 and 0\n",
      "check < <= == => > relations between -3/4 and 1\n",
      "check < <= == => > relations between -3/4 and 2\n",
      "check < <= == => > relations between -3/4 and 3\n",
      "check < <= == => > relations between -3/4 and -1/2\n",
      "check < <= == => > relations between -3/4 and 3/2\n",
      "check < <= == => > relations between -3/4 and 1/4\n",
      "check < <= == => > relations between -3/4 and 1/2\n",
      "check < <= == => > relations between -3/4 and -2\n",
      "check < <= == => > relations between -3/4 and 3/4\n",
      "check < <= == => > relations between -3/4 and -3/2\n",
      "check < <= == => > relations between -3/4 and -3/4\n",
      "check < <= == => > relations between -3/4 and -3\n",
      "check < <= == => > relations between -3/4 and -1\n",
      "check < <= == => > relations between -3/4 and -1/4\n",
      "check < <= == => > relations between -3 and 0\n",
      "check < <= == => > relations between -3 and 1\n",
      "check < <= == => > relations between -3 and 2\n",
      "check < <= == => > relations between -3 and 3\n",
      "check < <= == => > relations between -3 and -1/2\n",
      "check < <= == => > relations between -3 and 3/2\n",
      "check < <= == => > relations between -3 and 1/4\n",
      "check < <= == => > relations between -3 and 1/2\n",
      "check < <= == => > relations between -3 and -2\n",
      "check < <= == => > relations between -3 and 3/4\n",
      "check < <= == => > relations between -3 and -3/2\n",
      "check < <= == => > relations between -3 and -3/4\n",
      "check < <= == => > relations between -3 and -3\n",
      "check < <= == => > relations between -3 and -1\n",
      "check < <= == => > relations between -3 and -1/4\n",
      "check < <= == => > relations between -1 and 0\n",
      "check < <= == => > relations between -1 and 1\n",
      "check < <= == => > relations between -1 and 2\n",
      "check < <= == => > relations between -1 and 3\n",
      "check < <= == => > relations between -1 and -1/2\n",
      "check < <= == => > relations between -1 and 3/2\n",
      "check < <= == => > relations between -1 and 1/4\n",
      "check < <= == => > relations between -1 and 1/2\n",
      "check < <= == => > relations between -1 and -2\n",
      "check < <= == => > relations between -1 and 3/4\n",
      "check < <= == => > relations between -1 and -3/2\n",
      "check < <= == => > relations between -1 and -3/4\n",
      "check < <= == => > relations between -1 and -3\n",
      "check < <= == => > relations between -1 and -1\n",
      "check < <= == => > relations between -1 and -1/4\n",
      "check < <= == => > relations between -1/4 and 0\n",
      "check < <= == => > relations between -1/4 and 1\n",
      "check < <= == => > relations between -1/4 and 2\n",
      "check < <= == => > relations between -1/4 and 3\n",
      "check < <= == => > relations between -1/4 and -1/2\n",
      "check < <= == => > relations between -1/4 and 3/2\n",
      "check < <= == => > relations between -1/4 and 1/4\n",
      "check < <= == => > relations between -1/4 and 1/2\n",
      "check < <= == => > relations between -1/4 and -2\n",
      "check < <= == => > relations between -1/4 and 3/4\n",
      "check < <= == => > relations between -1/4 and -3/2\n",
      "check < <= == => > relations between -1/4 and -3/4\n",
      "check < <= == => > relations between -1/4 and -3\n",
      "check < <= == => > relations between -1/4 and -1\n",
      "check < <= == => > relations between -1/4 and -1/4\n",
      "\n",
      "done.\n",
      "\n",
      "comparison success: these numbers operate according to their given labels.\n"
     ]
    }
   ],
   "source": [
    "def ge (a,b) : return le(b,a)\n",
    "def lt (a,b) : return not le(b,a)\n",
    "def eq (a,b) : return le(b,a) and le(a,b)\n",
    "def gt (a,b) : return not le(a,b)\n",
    "def comparison(days=4, verbose=True):\n",
    "        s = creation(days=days)\n",
    "        print('\\ncompare {}×{} numbers in 6 ways for {} comparisons.'.format(len(s),len(s),6*len(s)**2))\n",
    "\n",
    "        for i in s:\n",
    "            for j in s:\n",
    "                if verbose: print('check < <= == => > relations between {} and {}'.format(i,j)) \n",
    "                assert lt(s[i],s[j]) is (i< j), 'Error: {} <  {} ≠ {}'.format(i,j,i< j)\n",
    "                assert le(s[i],s[j]) is (i<=j), 'Error: {} <= {} ≠ {}'.format(i,j,i<=j)\n",
    "                assert eq(s[i],s[j]) is (i==j), 'Error: {} == {} ≠ {}'.format(i,j,i==j)\n",
    "                assert ge(s[i],s[j]) is (i>=j), 'Error: {} >= {} ≠ {}'.format(i,j,i>=j)\n",
    "                assert gt(s[i],s[j]) is (i> j), 'Error: {} >  {} ≠ {}'.format(i,j,i> j)\n",
    "        print('\\ndone.\\n\\ncomparison success: these numbers operate according to their given labels.')\n",
    "\n",
    "comparison()\n"
   ]
  },
  {
   "cell_type": "markdown",
   "metadata": {},
   "source": [
    "A much larger comparison:"
   ]
  },
  {
   "cell_type": "code",
   "execution_count": 23,
   "metadata": {
    "collapsed": false
   },
   "outputs": [
    {
     "name": "stdout",
     "output_type": "stream",
     "text": [
      "\n",
      "compare 1023×1023 numbers in 6 ways for 6279174 comparisons.\n",
      "\n",
      "done.\n",
      "\n",
      "comparison success: these numbers operate according to their given labels.\n"
     ]
    }
   ],
   "source": [
    "comparison(days=10,verbose=False)"
   ]
  },
  {
   "cell_type": "markdown",
   "metadata": {},
   "source": [
    "### Conclusion\n",
    "Analytic tests show that Surreal representations can be held using the native list (or tuple) type and compared with in one line of code."
   ]
  }
 ],
 "metadata": {
  "kernelspec": {
   "display_name": "Python 3",
   "language": "python",
   "name": "python3"
  },
  "language_info": {
   "codemirror_mode": {
    "name": "ipython",
    "version": 3
   },
   "file_extension": ".py",
   "mimetype": "text/x-python",
   "name": "python",
   "nbconvert_exporter": "python",
   "pygments_lexer": "ipython3",
   "version": "3.5.3"
  }
 },
 "nbformat": 4,
 "nbformat_minor": 2
}
