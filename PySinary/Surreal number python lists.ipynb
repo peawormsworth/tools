{
 "cells": [
  {
   "cell_type": "markdown",
   "metadata": {},
   "source": [
    "# Surreal Number python lists\n",
    "Surreal numbers are explained here: https://en.wikipedia.org/wiki/Surreal_number\n",
    "\n",
    "This notebook explains how to create and manipulate surreal numbers using python's native list type.\n",
    "\n",
    "Author: Jeff Anderson - 2020-03-10"
   ]
  },
  {
   "cell_type": "markdown",
   "metadata": {},
   "source": [
    "### Surreal numbers as python lists\n",
    "Generate some surreal numbers as python lists..."
   ]
  },
  {
   "cell_type": "code",
   "execution_count": 1,
   "metadata": {
    "collapsed": false
   },
   "outputs": [
    {
     "name": "stdout",
     "output_type": "stream",
     "text": [
      "zero: ((), ())\n",
      "one: (((), ()), ())\n",
      "two: ((((), ()), ()), ())\n",
      "negative two: ((), ((), ((), ())))\n",
      "one half: (((), ()), (((), ()), ()))\n"
     ]
    }
   ],
   "source": [
    "void = ()\n",
    "zero = (void,void)\n",
    "one  = (zero,void)\n",
    "two  = (one ,void)\n",
    "half = (zero,one )\n",
    "neg  = (void,zero)\n",
    "ntwo = (void,neg )\n",
    "nhalf= (neg ,zero)\n",
    "print('zero:',zero)\n",
    "print('one:',one)\n",
    "print('two:',two)\n",
    "print('negative two:',ntwo)\n",
    "print('one half:',half)"
   ]
  },
  {
   "cell_type": "markdown",
   "metadata": {},
   "source": [
    "Now we can compare these:"
   ]
  },
  {
   "cell_type": "code",
   "execution_count": 2,
   "metadata": {
    "collapsed": false
   },
   "outputs": [
    {
     "data": {
      "text/plain": [
       "True"
      ]
     },
     "execution_count": 2,
     "metadata": {},
     "output_type": "execute_result"
    }
   ],
   "source": [
    "one > zero"
   ]
  },
  {
   "cell_type": "markdown",
   "metadata": {},
   "source": [
    "This works. One really is greater than zero. Good so far.\n",
    "\n",
    "Test another obvious truth..."
   ]
  },
  {
   "cell_type": "code",
   "execution_count": 3,
   "metadata": {
    "collapsed": false
   },
   "outputs": [
    {
     "data": {
      "text/plain": [
       "False"
      ]
     },
     "execution_count": 3,
     "metadata": {},
     "output_type": "execute_result"
    }
   ],
   "source": [
    "half < one"
   ]
  },
  {
   "cell_type": "markdown",
   "metadata": {},
   "source": [
    "THIS IS INCORRECT. \n",
    "\n",
    "It should be True that half is less than one.\n",
    "\n",
    "Although python lists can hold surreal number representations in this way, they will not compare as surreal numbers should. Or at least the comparison result will not match the expected result if we compared the numbers by which we labelled them.\n",
    "\n",
    "Python will NOT compare these representations as surreal numbers should be.\n",
    "\n",
    "A simple python routine can be used to correct this.\n",
    "\n",
    "### Surreal number comparison routine"
   ]
  },
  {
   "cell_type": "code",
   "execution_count": 4,
   "metadata": {
    "collapsed": false
   },
   "outputs": [],
   "source": [
    "def le (x,y): return x is y or not (x[0] and le(y,x[0]) or y[1] and le(y[1],x) )"
   ]
  },
  {
   "cell_type": "markdown",
   "metadata": {},
   "source": [
    "Using the above routine, the surreal list representations can be compared to see which represents a larger or smaller number."
   ]
  },
  {
   "cell_type": "code",
   "execution_count": 24,
   "metadata": {
    "collapsed": false
   },
   "outputs": [
    {
     "name": "stdout",
     "output_type": "stream",
     "text": [
      "We know that \"1/2 <= 1\" is True... and the function le(half,one) is: True\n"
     ]
    }
   ],
   "source": [
    "print('We know that \"1/2 <= 1\" is True... and the function le(half,one) is:', le(half,one))"
   ]
  },
  {
   "cell_type": "markdown",
   "metadata": {},
   "source": [
    "### Summary\n",
    "1. created representations of surreal number using linked lists.\n",
    "2. labelled these representations with variable names like \"one\", \"two\", \"half\"\n",
    "3. compared these representations using the math operator \"<=\" and found that it did not work as expected based on their labels.\n",
    "4. introduced the le() function which provides correct comparison between linked list surreal number representations.\n",
    "\n",
    "Point 4 has not been proven. We only have one working example shown above.\n",
    "The le() function is thoroughly tested using many comparisons below.\n",
    "\n",
    "Esentially we have shown that both results should be True according to our labellings of the representations. However, only one of these produces the True result expected:"
   ]
  },
  {
   "cell_type": "code",
   "execution_count": 36,
   "metadata": {
    "collapsed": false
   },
   "outputs": [
    {
     "name": "stdout",
     "output_type": "stream",
     "text": [
      "These should all be True:\n",
      "\n",
      "     1/2 <= 1   : True\n",
      "    half <= one : False\n",
      "    le(half,one): True\n"
     ]
    }
   ],
   "source": [
    "print('These should all be True:\\n')\n",
    "print('     1/2 <= 1   :', 1/2 <= 1)\n",
    "print('    half <= one :', half <= one)\n",
    "print('    le(half,one):', le(half,one))"
   ]
  },
  {
   "cell_type": "markdown",
   "metadata": {},
   "source": [
    "The above comparison is corrected using the le() function. But what of all the other rerpresentations, do they compare correctly using this function?\n",
    "It is hardly satisfying evidence that the routine can compare our surreal representations correctly.\n",
    "\n",
    "### Analysis\n",
    "The le() function is analyzed by doing all comparisons on a set of surreals up to a given birth date.\n",
    "A large set of surreal number representations are created and given unique number labels according to birth ordering as described by John Conway during creation. The le() function will then be tested for many surreal representations.\n",
    "\n",
    "### All Comparison Functions\n",
    "\n",
    "An interesting fact that all other comparisons can be completed using \"<=\". Here are the remaining comparison functions in terms of the \"less than or equal\" function le():"
   ]
  },
  {
   "cell_type": "code",
   "execution_count": 6,
   "metadata": {
    "collapsed": true
   },
   "outputs": [],
   "source": [
    "def ge (a,b) : return     le(b,a)\n",
    "def eq (a,b) : return     le(b,a) and le(a,b)\n",
    "def lt (a,b) : return not le(b,a)\n",
    "def gt (a,b) : return not le(a,b)"
   ]
  },
  {
   "cell_type": "markdown",
   "metadata": {},
   "source": [
    "### Surreal labels\n",
    "Our surreal representation have labels that are produced in an ordered fashion. This routine will produce the labels in the correct ordering:"
   ]
  },
  {
   "cell_type": "code",
   "execution_count": 7,
   "metadata": {
    "collapsed": false
   },
   "outputs": [],
   "source": [
    "from fractions import Fraction\n",
    "def canal (r=[Fraction(0,1)]):\n",
    "    yield r[0]\n",
    "    while 1:\n",
    "        yield r[0] - 1\n",
    "        rn = [r[0]]\n",
    "        for n in r[1:]:\n",
    "            m = (rn[-1]+n)/2\n",
    "            yield m\n",
    "            rn.extend((m,n))\n",
    "        yield rn[-1]+1\n",
    "        r = [rn[0]-1] + rn + [rn[-1]+1]"
   ]
  },
  {
   "cell_type": "markdown",
   "metadata": {},
   "source": [
    "This generates number labels in the order that surreal numbers are born:"
   ]
  },
  {
   "cell_type": "code",
   "execution_count": 8,
   "metadata": {
    "collapsed": false
   },
   "outputs": [
    {
     "name": "stdout",
     "output_type": "stream",
     "text": [
      "    0 : 0    \n",
      "    1 : -1   \n",
      "    2 : 1    \n",
      "    3 : -2   \n",
      "    4 : -1/2 \n",
      "    5 : 1/2  \n",
      "    6 : 2    \n",
      "    7 : -3   \n",
      "    8 : -3/2 \n",
      "    9 : -3/4 \n",
      "   10 : -1/4 \n",
      "   11 : 1/4  \n",
      "   12 : 3/4  \n",
      "   13 : 3/2  \n",
      "   14 : 3    \n",
      "   15 : -4   \n"
     ]
    }
   ],
   "source": [
    "birth = canal()\n",
    "for i in range(2**4):\n",
    "    print('{:5} : {:5}'.format(i,str(next(birth))))"
   ]
  },
  {
   "cell_type": "markdown",
   "metadata": {},
   "source": [
    "### Surreal representation generator\n",
    "From a simple nucleus of zero, numbers sprout by linking to existing numbers, which we cleave off in this code:"
   ]
  },
  {
   "cell_type": "code",
   "execution_count": 37,
   "metadata": {
    "collapsed": false
   },
   "outputs": [],
   "source": [
    "def cleave (nucleus=[zero]):\n",
    "    l = nucleus\n",
    "    yield l[-1]\n",
    "    while 1:\n",
    "        cnt = 0\n",
    "        nl  = []\n",
    "        for s in l:\n",
    "            for n in [(s[0],s),(s,s[1])]:\n",
    "                yield n\n",
    "                nl = nl + [n]\n",
    "        l = nl\n",
    "\n"
   ]
  },
  {
   "cell_type": "markdown",
   "metadata": {},
   "source": [
    "This generates number representations in the order that surreal numbers are born:"
   ]
  },
  {
   "cell_type": "code",
   "execution_count": 10,
   "metadata": {
    "collapsed": false
   },
   "outputs": [
    {
     "name": "stdout",
     "output_type": "stream",
     "text": [
      "    0 : ((), ())\n",
      "    1 : ((), ((), ()))\n",
      "    2 : (((), ()), ())\n",
      "    3 : ((), ((), ((), ())))\n",
      "    4 : (((), ((), ())), ((), ()))\n",
      "    5 : (((), ()), (((), ()), ()))\n",
      "    6 : ((((), ()), ()), ())\n",
      "    7 : ((), ((), ((), ((), ()))))\n",
      "    8 : (((), ((), ((), ()))), ((), ((), ())))\n",
      "    9 : (((), ((), ())), (((), ((), ())), ((), ())))\n",
      "   10 : ((((), ((), ())), ((), ())), ((), ()))\n",
      "   11 : (((), ()), (((), ()), (((), ()), ())))\n",
      "   12 : ((((), ()), (((), ()), ())), (((), ()), ()))\n",
      "   13 : ((((), ()), ()), ((((), ()), ()), ()))\n",
      "   14 : (((((), ()), ()), ()), ())\n",
      "   15 : ((), ((), ((), ((), ((), ())))))\n"
     ]
    }
   ],
   "source": [
    "sprout = cleave()\n",
    "for i in range(2**4):\n",
    "    print('{:5} : {:5}'.format(i,str(next(sprout))))"
   ]
  },
  {
   "cell_type": "markdown",
   "metadata": {},
   "source": [
    "### Surreal creation set\n",
    "labels and numbers are connected with this code:"
   ]
  },
  {
   "cell_type": "code",
   "execution_count": 38,
   "metadata": {
    "collapsed": true
   },
   "outputs": [],
   "source": [
    "def creation (days=7):\n",
    "    birth    = canal()\n",
    "    sprout   = cleave()\n",
    "    universe = {}\n",
    "    for i in range(2**days-1):\n",
    "        universe[next(birth)] = next(sprout)\n",
    "    return universe"
   ]
  },
  {
   "cell_type": "markdown",
   "metadata": {},
   "source": [
    "This generates a dictionary of surreal representations keyed by their numeric birth label:"
   ]
  },
  {
   "cell_type": "code",
   "execution_count": 12,
   "metadata": {
    "collapsed": false
   },
   "outputs": [
    {
     "name": "stdout",
     "output_type": "stream",
     "text": [
      "    0 : ((), ())\n",
      "    1 : (((), ()), ())\n",
      "    2 : ((((), ()), ()), ())\n",
      "    3 : (((((), ()), ()), ()), ())\n",
      " -1/2 : (((), ((), ())), ((), ()))\n",
      "  3/2 : ((((), ()), ()), ((((), ()), ()), ()))\n",
      "  1/4 : (((), ()), (((), ()), (((), ()), ())))\n",
      "  1/2 : (((), ()), (((), ()), ()))\n",
      "   -2 : ((), ((), ((), ())))\n",
      "  3/4 : ((((), ()), (((), ()), ())), (((), ()), ()))\n",
      " -3/2 : (((), ((), ((), ()))), ((), ((), ())))\n",
      " -3/4 : (((), ((), ())), (((), ((), ())), ((), ())))\n",
      "   -3 : ((), ((), ((), ((), ()))))\n",
      "   -1 : ((), ((), ()))\n",
      " -1/4 : ((((), ((), ())), ((), ())), ((), ()))\n"
     ]
    }
   ],
   "source": [
    "surreals = creation(days=4)\n",
    "for s in surreals:\n",
    "    print('{:>5} : {}'.format(str(s),surreals[s]))"
   ]
  },
  {
   "cell_type": "markdown",
   "metadata": {},
   "source": [
    "### Surreal comparison tests\n",
    "Now we do a comparison of each of these with one another while using the numberic comparison of label names to validate our surreal comparison."
   ]
  },
  {
   "cell_type": "code",
   "execution_count": 13,
   "metadata": {
    "collapsed": false
   },
   "outputs": [
    {
     "name": "stdout",
     "output_type": "stream",
     "text": [
      "\n",
      "compare 15×15 numbers in 6 ways for 1350 comparisons.\n",
      "check < <= == => > relations between 0 and 0\n",
      "check < <= == => > relations between 0 and 1\n",
      "check < <= == => > relations between 0 and 2\n",
      "check < <= == => > relations between 0 and 3\n",
      "check < <= == => > relations between 0 and -1/2\n",
      "check < <= == => > relations between 0 and 3/2\n",
      "check < <= == => > relations between 0 and 1/4\n",
      "check < <= == => > relations between 0 and 1/2\n",
      "check < <= == => > relations between 0 and -2\n",
      "check < <= == => > relations between 0 and 3/4\n",
      "check < <= == => > relations between 0 and -3/2\n",
      "check < <= == => > relations between 0 and -3/4\n",
      "check < <= == => > relations between 0 and -3\n",
      "check < <= == => > relations between 0 and -1\n",
      "check < <= == => > relations between 0 and -1/4\n",
      "check < <= == => > relations between 1 and 0\n",
      "check < <= == => > relations between 1 and 1\n",
      "check < <= == => > relations between 1 and 2\n",
      "check < <= == => > relations between 1 and 3\n",
      "check < <= == => > relations between 1 and -1/2\n",
      "check < <= == => > relations between 1 and 3/2\n",
      "check < <= == => > relations between 1 and 1/4\n",
      "check < <= == => > relations between 1 and 1/2\n",
      "check < <= == => > relations between 1 and -2\n",
      "check < <= == => > relations between 1 and 3/4\n",
      "check < <= == => > relations between 1 and -3/2\n",
      "check < <= == => > relations between 1 and -3/4\n",
      "check < <= == => > relations between 1 and -3\n",
      "check < <= == => > relations between 1 and -1\n",
      "check < <= == => > relations between 1 and -1/4\n",
      "check < <= == => > relations between 2 and 0\n",
      "check < <= == => > relations between 2 and 1\n",
      "check < <= == => > relations between 2 and 2\n",
      "check < <= == => > relations between 2 and 3\n",
      "check < <= == => > relations between 2 and -1/2\n",
      "check < <= == => > relations between 2 and 3/2\n",
      "check < <= == => > relations between 2 and 1/4\n",
      "check < <= == => > relations between 2 and 1/2\n",
      "check < <= == => > relations between 2 and -2\n",
      "check < <= == => > relations between 2 and 3/4\n",
      "check < <= == => > relations between 2 and -3/2\n",
      "check < <= == => > relations between 2 and -3/4\n",
      "check < <= == => > relations between 2 and -3\n",
      "check < <= == => > relations between 2 and -1\n",
      "check < <= == => > relations between 2 and -1/4\n",
      "check < <= == => > relations between 3 and 0\n",
      "check < <= == => > relations between 3 and 1\n",
      "check < <= == => > relations between 3 and 2\n",
      "check < <= == => > relations between 3 and 3\n",
      "check < <= == => > relations between 3 and -1/2\n",
      "check < <= == => > relations between 3 and 3/2\n",
      "check < <= == => > relations between 3 and 1/4\n",
      "check < <= == => > relations between 3 and 1/2\n",
      "check < <= == => > relations between 3 and -2\n",
      "check < <= == => > relations between 3 and 3/4\n",
      "check < <= == => > relations between 3 and -3/2\n",
      "check < <= == => > relations between 3 and -3/4\n",
      "check < <= == => > relations between 3 and -3\n",
      "check < <= == => > relations between 3 and -1\n",
      "check < <= == => > relations between 3 and -1/4\n",
      "check < <= == => > relations between -1/2 and 0\n",
      "check < <= == => > relations between -1/2 and 1\n",
      "check < <= == => > relations between -1/2 and 2\n",
      "check < <= == => > relations between -1/2 and 3\n",
      "check < <= == => > relations between -1/2 and -1/2\n",
      "check < <= == => > relations between -1/2 and 3/2\n",
      "check < <= == => > relations between -1/2 and 1/4\n",
      "check < <= == => > relations between -1/2 and 1/2\n",
      "check < <= == => > relations between -1/2 and -2\n",
      "check < <= == => > relations between -1/2 and 3/4\n",
      "check < <= == => > relations between -1/2 and -3/2\n",
      "check < <= == => > relations between -1/2 and -3/4\n",
      "check < <= == => > relations between -1/2 and -3\n",
      "check < <= == => > relations between -1/2 and -1\n",
      "check < <= == => > relations between -1/2 and -1/4\n",
      "check < <= == => > relations between 3/2 and 0\n",
      "check < <= == => > relations between 3/2 and 1\n",
      "check < <= == => > relations between 3/2 and 2\n",
      "check < <= == => > relations between 3/2 and 3\n",
      "check < <= == => > relations between 3/2 and -1/2\n",
      "check < <= == => > relations between 3/2 and 3/2\n",
      "check < <= == => > relations between 3/2 and 1/4\n",
      "check < <= == => > relations between 3/2 and 1/2\n",
      "check < <= == => > relations between 3/2 and -2\n",
      "check < <= == => > relations between 3/2 and 3/4\n",
      "check < <= == => > relations between 3/2 and -3/2\n",
      "check < <= == => > relations between 3/2 and -3/4\n",
      "check < <= == => > relations between 3/2 and -3\n",
      "check < <= == => > relations between 3/2 and -1\n",
      "check < <= == => > relations between 3/2 and -1/4\n",
      "check < <= == => > relations between 1/4 and 0\n",
      "check < <= == => > relations between 1/4 and 1\n",
      "check < <= == => > relations between 1/4 and 2\n",
      "check < <= == => > relations between 1/4 and 3\n",
      "check < <= == => > relations between 1/4 and -1/2\n",
      "check < <= == => > relations between 1/4 and 3/2\n",
      "check < <= == => > relations between 1/4 and 1/4\n",
      "check < <= == => > relations between 1/4 and 1/2\n",
      "check < <= == => > relations between 1/4 and -2\n",
      "check < <= == => > relations between 1/4 and 3/4\n",
      "check < <= == => > relations between 1/4 and -3/2\n",
      "check < <= == => > relations between 1/4 and -3/4\n",
      "check < <= == => > relations between 1/4 and -3\n",
      "check < <= == => > relations between 1/4 and -1\n",
      "check < <= == => > relations between 1/4 and -1/4\n",
      "check < <= == => > relations between 1/2 and 0\n",
      "check < <= == => > relations between 1/2 and 1\n",
      "check < <= == => > relations between 1/2 and 2\n",
      "check < <= == => > relations between 1/2 and 3\n",
      "check < <= == => > relations between 1/2 and -1/2\n",
      "check < <= == => > relations between 1/2 and 3/2\n",
      "check < <= == => > relations between 1/2 and 1/4\n",
      "check < <= == => > relations between 1/2 and 1/2\n",
      "check < <= == => > relations between 1/2 and -2\n",
      "check < <= == => > relations between 1/2 and 3/4\n",
      "check < <= == => > relations between 1/2 and -3/2\n",
      "check < <= == => > relations between 1/2 and -3/4\n",
      "check < <= == => > relations between 1/2 and -3\n",
      "check < <= == => > relations between 1/2 and -1\n",
      "check < <= == => > relations between 1/2 and -1/4\n",
      "check < <= == => > relations between -2 and 0\n",
      "check < <= == => > relations between -2 and 1\n",
      "check < <= == => > relations between -2 and 2\n",
      "check < <= == => > relations between -2 and 3\n",
      "check < <= == => > relations between -2 and -1/2\n",
      "check < <= == => > relations between -2 and 3/2\n",
      "check < <= == => > relations between -2 and 1/4\n",
      "check < <= == => > relations between -2 and 1/2\n",
      "check < <= == => > relations between -2 and -2\n",
      "check < <= == => > relations between -2 and 3/4\n",
      "check < <= == => > relations between -2 and -3/2\n",
      "check < <= == => > relations between -2 and -3/4\n",
      "check < <= == => > relations between -2 and -3\n",
      "check < <= == => > relations between -2 and -1\n",
      "check < <= == => > relations between -2 and -1/4\n",
      "check < <= == => > relations between 3/4 and 0\n",
      "check < <= == => > relations between 3/4 and 1\n",
      "check < <= == => > relations between 3/4 and 2\n",
      "check < <= == => > relations between 3/4 and 3\n",
      "check < <= == => > relations between 3/4 and -1/2\n",
      "check < <= == => > relations between 3/4 and 3/2\n",
      "check < <= == => > relations between 3/4 and 1/4\n",
      "check < <= == => > relations between 3/4 and 1/2\n",
      "check < <= == => > relations between 3/4 and -2\n",
      "check < <= == => > relations between 3/4 and 3/4\n",
      "check < <= == => > relations between 3/4 and -3/2\n",
      "check < <= == => > relations between 3/4 and -3/4\n",
      "check < <= == => > relations between 3/4 and -3\n",
      "check < <= == => > relations between 3/4 and -1\n",
      "check < <= == => > relations between 3/4 and -1/4\n",
      "check < <= == => > relations between -3/2 and 0\n",
      "check < <= == => > relations between -3/2 and 1\n",
      "check < <= == => > relations between -3/2 and 2\n",
      "check < <= == => > relations between -3/2 and 3\n",
      "check < <= == => > relations between -3/2 and -1/2\n",
      "check < <= == => > relations between -3/2 and 3/2\n",
      "check < <= == => > relations between -3/2 and 1/4\n",
      "check < <= == => > relations between -3/2 and 1/2\n",
      "check < <= == => > relations between -3/2 and -2\n",
      "check < <= == => > relations between -3/2 and 3/4\n",
      "check < <= == => > relations between -3/2 and -3/2\n",
      "check < <= == => > relations between -3/2 and -3/4\n",
      "check < <= == => > relations between -3/2 and -3\n",
      "check < <= == => > relations between -3/2 and -1\n",
      "check < <= == => > relations between -3/2 and -1/4\n",
      "check < <= == => > relations between -3/4 and 0\n",
      "check < <= == => > relations between -3/4 and 1\n",
      "check < <= == => > relations between -3/4 and 2\n",
      "check < <= == => > relations between -3/4 and 3\n",
      "check < <= == => > relations between -3/4 and -1/2\n",
      "check < <= == => > relations between -3/4 and 3/2\n",
      "check < <= == => > relations between -3/4 and 1/4\n",
      "check < <= == => > relations between -3/4 and 1/2\n",
      "check < <= == => > relations between -3/4 and -2\n",
      "check < <= == => > relations between -3/4 and 3/4\n",
      "check < <= == => > relations between -3/4 and -3/2\n",
      "check < <= == => > relations between -3/4 and -3/4\n",
      "check < <= == => > relations between -3/4 and -3\n",
      "check < <= == => > relations between -3/4 and -1\n",
      "check < <= == => > relations between -3/4 and -1/4\n",
      "check < <= == => > relations between -3 and 0\n",
      "check < <= == => > relations between -3 and 1\n",
      "check < <= == => > relations between -3 and 2\n",
      "check < <= == => > relations between -3 and 3\n",
      "check < <= == => > relations between -3 and -1/2\n",
      "check < <= == => > relations between -3 and 3/2\n",
      "check < <= == => > relations between -3 and 1/4\n",
      "check < <= == => > relations between -3 and 1/2\n",
      "check < <= == => > relations between -3 and -2\n",
      "check < <= == => > relations between -3 and 3/4\n",
      "check < <= == => > relations between -3 and -3/2\n",
      "check < <= == => > relations between -3 and -3/4\n",
      "check < <= == => > relations between -3 and -3\n",
      "check < <= == => > relations between -3 and -1\n",
      "check < <= == => > relations between -3 and -1/4\n",
      "check < <= == => > relations between -1 and 0\n",
      "check < <= == => > relations between -1 and 1\n",
      "check < <= == => > relations between -1 and 2\n",
      "check < <= == => > relations between -1 and 3\n",
      "check < <= == => > relations between -1 and -1/2\n",
      "check < <= == => > relations between -1 and 3/2\n",
      "check < <= == => > relations between -1 and 1/4\n",
      "check < <= == => > relations between -1 and 1/2\n",
      "check < <= == => > relations between -1 and -2\n",
      "check < <= == => > relations between -1 and 3/4\n",
      "check < <= == => > relations between -1 and -3/2\n",
      "check < <= == => > relations between -1 and -3/4\n",
      "check < <= == => > relations between -1 and -3\n",
      "check < <= == => > relations between -1 and -1\n",
      "check < <= == => > relations between -1 and -1/4\n",
      "check < <= == => > relations between -1/4 and 0\n",
      "check < <= == => > relations between -1/4 and 1\n",
      "check < <= == => > relations between -1/4 and 2\n",
      "check < <= == => > relations between -1/4 and 3\n",
      "check < <= == => > relations between -1/4 and -1/2\n",
      "check < <= == => > relations between -1/4 and 3/2\n",
      "check < <= == => > relations between -1/4 and 1/4\n",
      "check < <= == => > relations between -1/4 and 1/2\n",
      "check < <= == => > relations between -1/4 and -2\n",
      "check < <= == => > relations between -1/4 and 3/4\n",
      "check < <= == => > relations between -1/4 and -3/2\n",
      "check < <= == => > relations between -1/4 and -3/4\n",
      "check < <= == => > relations between -1/4 and -3\n",
      "check < <= == => > relations between -1/4 and -1\n",
      "check < <= == => > relations between -1/4 and -1/4\n",
      "\n",
      "done.\n",
      "\n",
      "comparison success: these numbers operate according to their given labels.\n"
     ]
    }
   ],
   "source": [
    "def comparison(days=4, verbose=True):\n",
    "        s = creation(days=days)\n",
    "        print('\\ncompare {}×{} numbers in 6 ways for {} comparisons.'.format(len(s),len(s),6*len(s)**2))\n",
    "\n",
    "        for i in s:\n",
    "            for j in s:\n",
    "                if verbose: print('check < <= == => > relations between {} and {}'.format(i,j))\n",
    "                assert lt(s[i],s[j]) is (i< j), 'Error: {} <  {} ≠ {}'.format(i,j,i< j)\n",
    "                assert le(s[i],s[j]) is (i<=j), 'Error: {} <= {} ≠ {}'.format(i,j,i<=j)\n",
    "                assert eq(s[i],s[j]) is (i==j), 'Error: {} == {} ≠ {}'.format(i,j,i==j)\n",
    "                assert ge(s[i],s[j]) is (i>=j), 'Error: {} >= {} ≠ {}'.format(i,j,i>=j)\n",
    "                assert gt(s[i],s[j]) is (i> j), 'Error: {} >  {} ≠ {}'.format(i,j,i> j)\n",
    "        print('\\ndone.\\n\\ncomparison success: these numbers operate according to their given labels.')\n",
    "\n",
    "comparison()\n"
   ]
  },
  {
   "cell_type": "markdown",
   "metadata": {},
   "source": [
    "A larger set is analyzed with less verbosity:"
   ]
  },
  {
   "cell_type": "code",
   "execution_count": 14,
   "metadata": {
    "collapsed": false
   },
   "outputs": [
    {
     "name": "stdout",
     "output_type": "stream",
     "text": [
      "\n",
      "compare 511×511 numbers in 6 ways for 1566726 comparisons.\n",
      "\n",
      "done.\n",
      "\n",
      "comparison success: these numbers operate according to their given labels.\n"
     ]
    }
   ],
   "source": [
    "comparison(days=9,verbose=False)"
   ]
  },
  {
   "cell_type": "markdown",
   "metadata": {},
   "source": [
    "### Conclusion\n",
    "Analytic tests show that python list types are capable of representing surreal numbers which can be compared correctly using simple routines."
   ]
  }
 ],
 "metadata": {
  "kernelspec": {
   "display_name": "Python 3",
   "language": "python",
   "name": "python3"
  },
  "language_info": {
   "codemirror_mode": {
    "name": "ipython",
    "version": 3
   },
   "file_extension": ".py",
   "mimetype": "text/x-python",
   "name": "python",
   "nbconvert_exporter": "python",
   "pygments_lexer": "ipython3",
   "version": "3.5.3"
  }
 },
 "nbformat": 4,
 "nbformat_minor": 2
}
